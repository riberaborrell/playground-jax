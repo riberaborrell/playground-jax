{
 "cells": [
  {
   "cell_type": "markdown",
   "id": "7615099d",
   "metadata": {},
   "source": [
    "# Real-valued functions (scalar functions)\n",
    "\n",
    "Consider a real-valued function of multiple real variables i.e. a scalar function $f: \\mathbb{R}^n \\rightarrow \\mathbb{R}$ given by\n",
    "$$\n",
    "f(x_1, x_2) = \\frac{1}{2}{x_1}^2 + x_2. \\quad\n",
    "$$\n",
    "i.e. $n=2$. Its partial derivatives are\n",
    "$$\n",
    "\\frac{\\partial}{\\partial x_1}f(x_1, x_2) = x_1, \\quad \n",
    "\\frac{\\partial}{\\partial x_2}f(x_1, x_2) = 1.\n",
    "$$"
   ]
  },
  {
   "cell_type": "code",
   "execution_count": 18,
   "id": "df3a3436",
   "metadata": {},
   "outputs": [],
   "source": [
    "from jax import numpy as jnp, random\n",
    "from jax import grad, vmap"
   ]
  },
  {
   "cell_type": "code",
   "execution_count": 19,
   "id": "aa433214-76b4-49ac-bcec-951507efd3cf",
   "metadata": {},
   "outputs": [],
   "source": [
    "# create key\n",
    "key = random.PRNGKey(0)\n",
    "\n",
    "# parameters\n",
    "n = 2\n",
    "batch_size = int(1e6)"
   ]
  },
  {
   "cell_type": "code",
   "execution_count": 20,
   "id": "62862a6b",
   "metadata": {},
   "outputs": [],
   "source": [
    "def check_gradient(x, grad_y):\n",
    "    grad_y_ref = jnp.array([x[0], 1.])\n",
    "    if jnp.isclose(grad_y, grad_y_ref).all().item():\n",
    "        return True\n",
    "    else:\n",
    "        return False"
   ]
  },
  {
   "cell_type": "markdown",
   "id": "8af168fc",
   "metadata": {},
   "source": [
    "1. Vector input variable (no batch)"
   ]
  },
  {
   "cell_type": "code",
   "execution_count": 21,
   "id": "0d247a62-2152-41f8-b2d2-e48908069107",
   "metadata": {},
   "outputs": [],
   "source": [
    "def f(x):\n",
    "    return 0.5 * x[0]**2 + x[1]\n",
    "\n",
    "def grad_f(x):\n",
    "    return grad(f)(x)"
   ]
  },
  {
   "cell_type": "code",
   "execution_count": 22,
   "id": "9803a710-2966-4487-b052-7d7fb95b2d6c",
   "metadata": {},
   "outputs": [
    {
     "data": {
      "text/plain": [
       "True"
      ]
     },
     "execution_count": 22,
     "metadata": {},
     "output_type": "execute_result"
    }
   ],
   "source": [
    "# initialize input\n",
    "x = random.normal(key, (n,))\n",
    "\n",
    "# compute gradients\n",
    "grad_y = grad_f(x)\n",
    "\n",
    "# check gradient\n",
    "check_gradient(x, grad_y)"
   ]
  },
  {
   "cell_type": "markdown",
   "id": "8e2840c4",
   "metadata": {},
   "source": [
    "2. Multiple scalar input variables (no batch)"
   ]
  },
  {
   "cell_type": "code",
   "execution_count": 23,
   "id": "a9b1deb0",
   "metadata": {},
   "outputs": [],
   "source": [
    "def g(x1, x2):\n",
    "    return 0.5 * x1**2 + x2\n",
    "\n",
    "def grad_g(x1, x2):\n",
    "    return grad(g, argnums=(0, 1))(x1, x2)"
   ]
  },
  {
   "cell_type": "code",
   "execution_count": 24,
   "id": "dc13784c",
   "metadata": {},
   "outputs": [
    {
     "data": {
      "text/plain": [
       "True"
      ]
     },
     "execution_count": 24,
     "metadata": {},
     "output_type": "execute_result"
    }
   ],
   "source": [
    "# initialize input\n",
    "x1 = random.normal(key)\n",
    "x2 = random.normal(key)\n",
    "\n",
    "# compute gradients\n",
    "grad_y = jnp.array(grad_g(x1, x2))\n",
    "\n",
    "# check gradient\n",
    "check_gradient(jnp.array([x1, x2]), grad_y)"
   ]
  },
  {
   "cell_type": "markdown",
   "id": "b003d387-ad3c-4c2d-b70c-b5f7feb01b91",
   "metadata": {},
   "source": [
    "3. Vector input variable (batch input)"
   ]
  },
  {
   "cell_type": "code",
   "execution_count": 25,
   "id": "0219ad47-7744-4a77-8417-ad7358d9704d",
   "metadata": {},
   "outputs": [],
   "source": [
    "def check_gradient_vect(x, grad_y):\n",
    "    grad_y_ref = jnp.hstack((\n",
    "        x[:, 0][:, None], \n",
    "        jnp.ones(batch_size)[:, None],\n",
    "    ))\n",
    "    if jnp.isclose(grad_y, grad_y_ref).all().item():\n",
    "        return True\n",
    "    else:\n",
    "        return False"
   ]
  },
  {
   "cell_type": "code",
   "execution_count": 26,
   "id": "5cbfd319-f6a5-492f-9c68-abdb690ce78f",
   "metadata": {},
   "outputs": [],
   "source": [
    "def f_vect(inputs):\n",
    "    return vmap(f, in_axes=0, out_axes=0)(inputs)\n",
    "    \n",
    "def grad_f_vect(inputs):\n",
    "    return vmap(grad_f, in_axes=0, out_axes=0)(inputs)"
   ]
  },
  {
   "cell_type": "code",
   "execution_count": 27,
   "id": "050a1421",
   "metadata": {},
   "outputs": [],
   "source": [
    "x = random.normal(key, (batch_size, n))"
   ]
  },
  {
   "cell_type": "code",
   "execution_count": 28,
   "id": "4dd6de6f-1715-487f-a32b-c07ee65d0389",
   "metadata": {},
   "outputs": [
    {
     "name": "stdout",
     "output_type": "stream",
     "text": [
      "CPU times: user 21.2 ms, sys: 4.58 ms, total: 25.8 ms\n",
      "Wall time: 13.9 ms\n"
     ]
    }
   ],
   "source": [
    "# compute gradients\n",
    "%time grad_y = grad_f_vect(x)"
   ]
  },
  {
   "cell_type": "code",
   "execution_count": 29,
   "id": "3fda7d9b-7b36-4f3b-8ef1-4c1f6569277e",
   "metadata": {},
   "outputs": [
    {
     "data": {
      "text/plain": [
       "True"
      ]
     },
     "execution_count": 29,
     "metadata": {},
     "output_type": "execute_result"
    }
   ],
   "source": [
    "check_gradient_vect(x, grad_y)"
   ]
  },
  {
   "cell_type": "markdown",
   "id": "5eb74001",
   "metadata": {},
   "source": [
    "4. Multiple scalar input variables (batch input)"
   ]
  },
  {
   "cell_type": "code",
   "execution_count": 30,
   "id": "eb27d2e2-decf-491e-8794-17375b68ba46",
   "metadata": {},
   "outputs": [],
   "source": [
    "def g_vect(x1, x2):\n",
    "    return vmap(g, in_axes=(0, 0), out_axes=0)(x1, x2)\n",
    "\n",
    "def grad_g_vect(x1, x2):\n",
    "    return vmap(grad_g, in_axes=(0, 0), out_axes=0)(x1, x2)"
   ]
  },
  {
   "cell_type": "code",
   "execution_count": 31,
   "id": "7599d493",
   "metadata": {},
   "outputs": [],
   "source": [
    "x = random.normal(key, (batch_size, n))\n",
    "x1 = x[:, 0]\n",
    "x2 = x[:, 1]"
   ]
  },
  {
   "cell_type": "code",
   "execution_count": 32,
   "id": "9f7fc6fc",
   "metadata": {},
   "outputs": [
    {
     "name": "stdout",
     "output_type": "stream",
     "text": [
      "CPU times: user 16.3 ms, sys: 0 ns, total: 16.3 ms\n",
      "Wall time: 9.71 ms\n"
     ]
    }
   ],
   "source": [
    "%time grad_y = jnp.vstack((grad_g_vect(x1, x2))).T"
   ]
  },
  {
   "cell_type": "code",
   "execution_count": 33,
   "id": "53d72a5e",
   "metadata": {},
   "outputs": [
    {
     "data": {
      "text/plain": [
       "True"
      ]
     },
     "execution_count": 33,
     "metadata": {},
     "output_type": "execute_result"
    }
   ],
   "source": [
    "check_gradient_vect(x, grad_y)"
   ]
  }
 ],
 "metadata": {
  "kernelspec": {
   "display_name": "Python 3 (ipykernel)",
   "language": "python",
   "name": "python3"
  },
  "language_info": {
   "codemirror_mode": {
    "name": "ipython",
    "version": 3
   },
   "file_extension": ".py",
   "mimetype": "text/x-python",
   "name": "python",
   "nbconvert_exporter": "python",
   "pygments_lexer": "ipython3",
   "version": "3.11.2"
  }
 },
 "nbformat": 4,
 "nbformat_minor": 5
}
