{
 "cells": [
  {
   "cell_type": "markdown",
   "id": "7615099d",
   "metadata": {},
   "source": [
    "# Real functions\n",
    "Consider a real-valued function of a real variable $f: \\mathbb{R} \\rightarrow \\mathbb{R}$ given by\n",
    "$$\n",
    "f(x) = \\frac{1}{2}{x}^2. \\quad\n",
    "$$\n",
    "Its derivative is\n",
    "$$\n",
    "\\frac{d}{d x}f(x) = x. \n",
    "$$"
   ]
  },
  {
   "cell_type": "code",
   "execution_count": 2,
   "id": "df3a3436",
   "metadata": {},
   "outputs": [],
   "source": [
    "import jax.numpy as jnp\n",
    "from jax import grad, vmap, random\n",
    "\n",
    "key = random.PRNGKey(0)"
   ]
  },
  {
   "cell_type": "code",
   "execution_count": 3,
   "id": "aa433214-76b4-49ac-bcec-951507efd3cf",
   "metadata": {},
   "outputs": [],
   "source": [
    "# parameters\n",
    "batch_size = int(1e6)"
   ]
  },
  {
   "cell_type": "markdown",
   "id": "8af168fc",
   "metadata": {},
   "source": [
    "1. no batch input"
   ]
  },
  {
   "cell_type": "code",
   "execution_count": 4,
   "id": "0d247a62-2152-41f8-b2d2-e48908069107",
   "metadata": {},
   "outputs": [],
   "source": [
    "def f(x):\n",
    "    return 0.5 * x**2\n",
    "\n",
    "def der1_f(x):\n",
    "    return grad(f)(x)"
   ]
  },
  {
   "cell_type": "code",
   "execution_count": 5,
   "id": "9803a710-2966-4487-b052-7d7fb95b2d6c",
   "metadata": {},
   "outputs": [
    {
     "data": {
      "text/plain": [
       "(Array(-0.20584226, dtype=float32), Array(-0.20584226, dtype=float32))"
      ]
     },
     "execution_count": 5,
     "metadata": {},
     "output_type": "execute_result"
    }
   ],
   "source": [
    "# initialize input\n",
    "x = random.normal(key)\n",
    "\n",
    "# compute gradients\n",
    "grad_y = der1_f(x)\n",
    "\n",
    "x, grad_y"
   ]
  },
  {
   "cell_type": "markdown",
   "id": "8e2840c4",
   "metadata": {},
   "source": [
    "2. Batch input"
   ]
  },
  {
   "cell_type": "code",
   "execution_count": 6,
   "id": "5cbfd319-f6a5-492f-9c68-abdb690ce78f",
   "metadata": {},
   "outputs": [],
   "source": [
    "def f_vect(inputs):\n",
    "    return vmap(f, in_axes=0, out_axes=0)(inputs)\n",
    "    \n",
    "def der1_f_vect(inputs):\n",
    "    return vmap(der1_f, in_axes=0, out_axes=0)(inputs)"
   ]
  },
  {
   "cell_type": "code",
   "execution_count": 7,
   "id": "050a1421",
   "metadata": {},
   "outputs": [],
   "source": [
    "x = random.normal(key, (batch_size,))"
   ]
  },
  {
   "cell_type": "code",
   "execution_count": 41,
   "id": "4dd6de6f-1715-487f-a32b-c07ee65d0389",
   "metadata": {},
   "outputs": [
    {
     "name": "stdout",
     "output_type": "stream",
     "text": [
      "CPU times: user 2 µs, sys: 0 ns, total: 2 µs\n",
      "Wall time: 4.05 µs\n"
     ]
    }
   ],
   "source": [
    "%time\n",
    "\n",
    "# compute gradients\n",
    "grad_y = der1_f_vect(x)"
   ]
  },
  {
   "cell_type": "code",
   "execution_count": 42,
   "id": "3fda7d9b-7b36-4f3b-8ef1-4c1f6569277e",
   "metadata": {},
   "outputs": [
    {
     "data": {
      "text/plain": [
       "(Array([ 1.99376   ,  0.20781846, -0.34406224, ...,  0.03467206,\n",
       "         0.7103182 ,  0.1965587 ], dtype=float32),\n",
       " Array([ 1.99376   ,  0.20781846, -0.34406224, ...,  0.03467206,\n",
       "         0.7103182 ,  0.1965587 ], dtype=float32))"
      ]
     },
     "execution_count": 42,
     "metadata": {},
     "output_type": "execute_result"
    }
   ],
   "source": [
    "x, grad_y"
   ]
  },
  {
   "cell_type": "markdown",
   "id": "15d85827-9163-4668-bb2f-c137ec09ea4a",
   "metadata": {},
   "source": [
    "3. k-th derivatives"
   ]
  },
  {
   "cell_type": "code",
   "execution_count": 43,
   "id": "38ab6bc7-68bb-4b45-ba3b-465a2ae29dce",
   "metadata": {},
   "outputs": [],
   "source": [
    "def der2_f(x):\n",
    "    #return grad(der1_f)(x)\n",
    "    return grad(grad(f))(x)\n",
    "\n",
    "def der3_f(x):\n",
    "    #return grad(der2_f)(x)\n",
    "    return grad(grad(grad(f)))(x)"
   ]
  },
  {
   "cell_type": "code",
   "execution_count": 44,
   "id": "a709d3d4-e866-45a5-8c3c-8a89f959cb80",
   "metadata": {},
   "outputs": [
    {
     "data": {
      "text/plain": [
       "(Array(-0.20584226, dtype=float32),\n",
       " Array(-0.20584226, dtype=float32),\n",
       " Array(1., dtype=float32),\n",
       " Array(0., dtype=float32))"
      ]
     },
     "execution_count": 44,
     "metadata": {},
     "output_type": "execute_result"
    }
   ],
   "source": [
    "# initialize input\n",
    "x = random.normal(key)\n",
    "\n",
    "# input, first, second and third derivative\n",
    "#x, grad(f)(x), grad(grad(f))(x), grad(grad(grad((f))))(x)\n",
    "x, der1_f(x), der2_f(x), der3_f(x)"
   ]
  },
  {
   "cell_type": "markdown",
   "id": "3918bffc-d170-4f07-a501-e9aebc7ff1b9",
   "metadata": {},
   "source": [
    "4. k-th derivatives (with batch input)"
   ]
  },
  {
   "cell_type": "code",
   "execution_count": 45,
   "id": "a7b61b00-b34b-48b3-bf2a-c2835d1e8979",
   "metadata": {},
   "outputs": [],
   "source": [
    "def der2_f_vect(inputs):\n",
    "    return vmap(der2_f, in_axes=0, out_axes=0)(inputs)"
   ]
  },
  {
   "cell_type": "code",
   "execution_count": 46,
   "id": "4a79b23d-cdaa-4ab3-9e01-7fcfa0c46747",
   "metadata": {},
   "outputs": [],
   "source": [
    "x = random.normal(key, (batch_size,))"
   ]
  },
  {
   "cell_type": "code",
   "execution_count": 47,
   "id": "8c3d5560-30b4-48f4-8587-2a109e71a110",
   "metadata": {},
   "outputs": [
    {
     "data": {
      "text/plain": [
       "(Array([ 1.99376   ,  0.20781846, -0.34406224, ...,  0.03467206,\n",
       "         0.7103182 ,  0.1965587 ], dtype=float32),\n",
       " Array([ 1.99376   ,  0.20781846, -0.34406224, ...,  0.03467206,\n",
       "         0.7103182 ,  0.1965587 ], dtype=float32),\n",
       " Array([1., 1., 1., ..., 1., 1., 1.], dtype=float32))"
      ]
     },
     "execution_count": 47,
     "metadata": {},
     "output_type": "execute_result"
    }
   ],
   "source": [
    "x, der1_f_vect(x), der2_f_vect(x) "
   ]
  },
  {
   "cell_type": "code",
   "execution_count": null,
   "id": "788926aa-dfb9-40b1-94ba-d9df2869050e",
   "metadata": {},
   "outputs": [],
   "source": []
  },
  {
   "cell_type": "code",
   "execution_count": null,
   "id": "7e3d123e-b2cb-458a-96e7-6df06c3b5cad",
   "metadata": {},
   "outputs": [],
   "source": []
  }
 ],
 "metadata": {
  "kernelspec": {
   "display_name": "Python 3 (ipykernel)",
   "language": "python",
   "name": "python3"
  },
  "language_info": {
   "codemirror_mode": {
    "name": "ipython",
    "version": 3
   },
   "file_extension": ".py",
   "mimetype": "text/x-python",
   "name": "python",
   "nbconvert_exporter": "python",
   "pygments_lexer": "ipython3",
   "version": "3.11.2"
  }
 },
 "nbformat": 4,
 "nbformat_minor": 5
}
