{
 "cells": [
  {
   "cell_type": "code",
   "execution_count": 85,
   "id": "a4ba40f9-ec16-4fb6-b418-272d8efcc21d",
   "metadata": {},
   "outputs": [],
   "source": [
    "from time import time \n",
    "\n",
    "import jax.numpy as jnp\n",
    "from jax import vmap, jit, random, lax\n",
    "import matplotlib.pyplot as plt"
   ]
  },
  {
   "cell_type": "code",
   "execution_count": 118,
   "id": "4dd185aa-a42f-4e93-9587-f3c7d41e0619",
   "metadata": {},
   "outputs": [],
   "source": [
    "# set a random key\n",
    "key = random.PRNGKey(seed=1)"
   ]
  },
  {
   "cell_type": "code",
   "execution_count": 119,
   "id": "0e8f1c48-ee2b-4870-807f-e6941e4f839e",
   "metadata": {},
   "outputs": [],
   "source": [
    "# parameters\n",
    "d = 3\n",
    "dt = 0.01\n",
    "K = 1000\n",
    "x_init = 0 * jnp.ones((K, d))\n",
    "r_lim = 1\n",
    "#x_init"
   ]
  },
  {
   "cell_type": "code",
   "execution_count": 111,
   "id": "334ab7ca-76d8-4bbe-849d-f0fff3329eba",
   "metadata": {},
   "outputs": [],
   "source": [
    "# stop condition\n",
    "cond_fn = lambda x, r_lim: jnp.where(jnp.linalg.norm(x) >= r_lim, True, False)"
   ]
  },
  {
   "cell_type": "markdown",
   "id": "74cb4ff8-9f3f-426d-817b-dfa525e391b3",
   "metadata": {},
   "source": [
    "1. sample brownian motion fht with a while loop in the time-steps"
   ]
  },
  {
   "cell_type": "code",
   "execution_count": 70,
   "id": "7dcdb63b-42f7-407a-8294-bd12669916de",
   "metadata": {},
   "outputs": [],
   "source": [
    "def brownian_fht(dt, x_init, key):\n",
    "\n",
    "    # dimension\n",
    "    d = x_init.shape[0]\n",
    "    \n",
    "    # initialize trajectory\n",
    "    xt = x_init\n",
    "\n",
    "    # trajectory list\n",
    "    x = [xt]\n",
    "    while not cond_fn(xt, r_lim):\n",
    "\n",
    "        # brownian increments\n",
    "        key, subkey = random.split(key)\n",
    "        dbt = jnp.sqrt(dt) * random.normal(key, (d,))                                                  \n",
    "\n",
    "        # update\n",
    "        xt += dbt\n",
    "\n",
    "        # save position\n",
    "        x += [xt]\n",
    "        \n",
    "    return jnp.stack(x)\n",
    "\n",
    "#brownian_fht = vmap(brownian_fht, in_axes=(None, 0, 0), out_axes=1)\n",
    "#sample_finite = jit(sample_finite, static_argnums=(0,))"
   ]
  },
  {
   "cell_type": "code",
   "execution_count": 71,
   "id": "8571b40a-bb85-4309-a757-69c418d64a2f",
   "metadata": {},
   "outputs": [],
   "source": [
    "x = brownian_fht(dt, x_init[0], key)#; x"
   ]
  },
  {
   "cell_type": "markdown",
   "id": "5b2e68b7-06b1-4f32-bba7-35903a90f09a",
   "metadata": {},
   "source": [
    "2. sample brownian motion fht using lax"
   ]
  },
  {
   "cell_type": "code",
   "execution_count": 138,
   "id": "0665334a-468c-4333-a466-2c50efde839e",
   "metadata": {},
   "outputs": [],
   "source": [
    "def cond_fn(val):\n",
    "    _, xt, _ = val\n",
    "    return jnp.where(jnp.linalg.norm(xt) <= 1, True, False)\n",
    "\n",
    "def body_fn(val):\n",
    "    step, xt, key = val\n",
    "    d = xt.shape[0]\n",
    "    key, subkey = random.split(key)\n",
    "    dbt = jnp.sqrt(dt) * random.normal(key, (d,))\n",
    "    step = step + 1\n",
    "    return step, xt + dbt, key\n",
    "\n",
    "def brownian_fht(x_init, key):\n",
    "    return lax.while_loop(cond_fn, body_fn, (0, x_init, key))\n",
    "\n",
    "brownian_fht = vmap(brownian_fht, in_axes=(0, 0), out_axes=0)\n",
    "brownian_fht = jit(brownian_fht)"
   ]
  },
  {
   "cell_type": "code",
   "execution_count": 139,
   "id": "3ce1df34-b682-4262-a55f-47fba2d4d0ad",
   "metadata": {},
   "outputs": [],
   "source": [
    "key = random.PRNGKey(seed=1)\n",
    "subkeys = random.split(key, K)\n",
    "#steps, x_fht, _ = brownian_fht(x_init[0], key)\n",
    "steps, x_fht, _ = brownian_fht(x_init, subkeys)"
   ]
  }
 ],
 "metadata": {
  "kernelspec": {
   "display_name": "Python 3 (ipykernel)",
   "language": "python",
   "name": "python3"
  },
  "language_info": {
   "codemirror_mode": {
    "name": "ipython",
    "version": 3
   },
   "file_extension": ".py",
   "mimetype": "text/x-python",
   "name": "python",
   "nbconvert_exporter": "python",
   "pygments_lexer": "ipython3",
   "version": "3.11.2"
  }
 },
 "nbformat": 4,
 "nbformat_minor": 5
}
