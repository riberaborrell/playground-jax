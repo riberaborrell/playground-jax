{
 "cells": [
  {
   "cell_type": "code",
   "execution_count": 15,
   "id": "a4ba40f9-ec16-4fb6-b418-272d8efcc21d",
   "metadata": {},
   "outputs": [],
   "source": [
    "from time import time \n",
    "\n",
    "import jax.numpy as jnp\n",
    "from jax import vmap, jit, random, lax\n",
    "import matplotlib.pyplot as plt"
   ]
  },
  {
   "cell_type": "code",
   "execution_count": 48,
   "id": "4dd185aa-a42f-4e93-9587-f3c7d41e0619",
   "metadata": {},
   "outputs": [
    {
     "data": {
      "text/plain": [
       "(Array([0, 1], dtype=uint32), (2,))"
      ]
     },
     "execution_count": 48,
     "metadata": {},
     "output_type": "execute_result"
    }
   ],
   "source": [
    "# set a random key\n",
    "key = random.PRNGKey(seed=1)\n",
    "key, key.shape"
   ]
  },
  {
   "cell_type": "code",
   "execution_count": 49,
   "id": "0e8f1c48-ee2b-4870-807f-e6941e4f839e",
   "metadata": {},
   "outputs": [],
   "source": [
    "# parameters\n",
    "d = 2\n",
    "dt = 0.01\n",
    "K = 100\n",
    "N = 1000\n",
    "x_init = 1 * jnp.ones((K, d))\n",
    "#x_init"
   ]
  },
  {
   "cell_type": "markdown",
   "id": "88bc5d04-d46e-4a3f-9a11-ccc485daff16",
   "metadata": {},
   "source": [
    "1. sample brownian motion with a finite-time horizon vectorized also in the time steps"
   ]
  },
  {
   "cell_type": "code",
   "execution_count": 50,
   "id": "5e820f6c-17ec-4469-99f0-a2e96a42f89c",
   "metadata": {},
   "outputs": [],
   "source": [
    "def brownian_finite(x_init, key):  \n",
    "\n",
    "    # brownian increments                                                                \n",
    "    db = jnp.sqrt(dt) * random.normal(key, (N,) + x_init.shape)\n",
    "\n",
    "    # cumulative sum                                                       \n",
    "    x = jnp.cumsum(db, axis=0)                                             \n",
    "\n",
    "    # add B(0) = 0                                                       \n",
    "    x = jnp.insert(x, 0, 0, axis=0)\n",
    "\n",
    "    # set origin\n",
    "    x += x_init\n",
    "\n",
    "    return x\n",
    "\n",
    "brownian_finite = jit(brownian_finite)"
   ]
  },
  {
   "cell_type": "code",
   "execution_count": 54,
   "id": "58b11c9e-c1af-496e-ba47-4a8d61e1ddd8",
   "metadata": {},
   "outputs": [],
   "source": [
    "x = brownian_finite(x_init, key)"
   ]
  },
  {
   "cell_type": "code",
   "execution_count": 55,
   "id": "55b3a9e7-23ea-4c04-9312-c51078f7109d",
   "metadata": {},
   "outputs": [
    {
     "data": {
      "text/plain": [
       "(1001, 100, 2)"
      ]
     },
     "execution_count": 55,
     "metadata": {},
     "output_type": "execute_result"
    }
   ],
   "source": [
    "x.shape"
   ]
  },
  {
   "cell_type": "markdown",
   "id": "74cb4ff8-9f3f-426d-817b-dfa525e391b3",
   "metadata": {},
   "source": [
    "2. sample brownian motion with a finite-time horizon with a loop in the time-steps"
   ]
  },
  {
   "cell_type": "code",
   "execution_count": 56,
   "id": "43d4427f-150c-45af-9373-5b6a935cb410",
   "metadata": {},
   "outputs": [],
   "source": [
    "def brownian_finite(x_init, key):\n",
    "\n",
    "    # dimension\n",
    "    d = x_init.shape[0]\n",
    "\n",
    "    # initialize trajectory\n",
    "    xt = x_init\n",
    "\n",
    "    # trajectory list\n",
    "    x = [xt]\n",
    "    for i in range(N):\n",
    "\n",
    "        # brownian increments\n",
    "        key, subkey = random.split(key)    \n",
    "        dbt = jnp.sqrt(dt) * random.normal(key, (d,))\n",
    "\n",
    "        # update\n",
    "        xt += dbt\n",
    "\n",
    "        # save position\n",
    "        x += [xt]\n",
    "        \n",
    "    return jnp.stack(x)\n",
    "\n",
    "brownian_finite = vmap(brownian_finite, in_axes=(0, 0), out_axes=1)\n",
    "#brownian_finite = jit(brownian_finite)#, static_argnums=(1))"
   ]
  },
  {
   "cell_type": "code",
   "execution_count": 57,
   "id": "ece9d657-89df-4693-95eb-f6c830d4c6a8",
   "metadata": {},
   "outputs": [],
   "source": [
    "subkeys = random.split(key, K)\n",
    "x = brownian_finite(x_init, subkeys)"
   ]
  },
  {
   "cell_type": "code",
   "execution_count": 61,
   "id": "d568137c-5dee-48ea-a1ed-b15c942014d7",
   "metadata": {},
   "outputs": [],
   "source": [
    "#subkeys.shape"
   ]
  },
  {
   "cell_type": "markdown",
   "id": "ff3f02e1-1d92-455f-8ac0-29ab4b0c74e6",
   "metadata": {},
   "source": [
    "3. sample brownian motion with a finite-time horizon with foriloop"
   ]
  },
  {
   "cell_type": "code",
   "execution_count": 71,
   "id": "6aea877b-9934-4b55-9914-f5e146b27e00",
   "metadata": {},
   "outputs": [],
   "source": [
    "def body_fn(i, val):\n",
    "    xt, key = val\n",
    "    d = xt.shape[0]\n",
    "    key, subkey = random.split(key)\n",
    "    dbt = jnp.sqrt(dt) * random.normal(key, (d,))                                                  \n",
    "    return xt + dbt, key\n",
    "\n",
    "def brownian_finite(x_init, key):\n",
    "    return lax.fori_loop(0, N, body_fn, (x_init, key))\n",
    "\n",
    "brownian_finite = vmap(brownian_finite, in_axes=(0, 0), out_axes=0)\n",
    "brownian_finite = jit(brownian_finite)"
   ]
  },
  {
   "cell_type": "code",
   "execution_count": 75,
   "id": "4fca5efa-a97a-448e-ad97-8d4024088578",
   "metadata": {},
   "outputs": [],
   "source": [
    "x_T, _ = brownian_finite(x_init, subkeys)"
   ]
  }
 ],
 "metadata": {
  "kernelspec": {
   "display_name": "Python 3 (ipykernel)",
   "language": "python",
   "name": "python3"
  },
  "language_info": {
   "codemirror_mode": {
    "name": "ipython",
    "version": 3
   },
   "file_extension": ".py",
   "mimetype": "text/x-python",
   "name": "python",
   "nbconvert_exporter": "python",
   "pygments_lexer": "ipython3",
   "version": "3.11.2"
  }
 },
 "nbformat": 4,
 "nbformat_minor": 5
}
