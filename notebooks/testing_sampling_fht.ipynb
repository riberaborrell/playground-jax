{
 "cells": [
  {
   "cell_type": "code",
   "execution_count": 1,
   "id": "a4ba40f9-ec16-4fb6-b418-272d8efcc21d",
   "metadata": {},
   "outputs": [],
   "source": [
    "from time import time \n",
    "\n",
    "from jax import numpy as jnp, lax, random\n",
    "from jax import vmap, jit\n",
    "import matplotlib.pyplot as plt"
   ]
  },
  {
   "cell_type": "code",
   "execution_count": 2,
   "id": "4dd185aa-a42f-4e93-9587-f3c7d41e0619",
   "metadata": {},
   "outputs": [],
   "source": [
    "# set a random key\n",
    "key = random.PRNGKey(seed=1)"
   ]
  },
  {
   "cell_type": "code",
   "execution_count": 25,
   "id": "0e8f1c48-ee2b-4870-807f-e6941e4f839e",
   "metadata": {},
   "outputs": [],
   "source": [
    "# parameters\n",
    "d = 1\n",
    "dt = 0.01\n",
    "K = 100\n",
    "x_init = 0 * jnp.ones((K, d))\n",
    "r_lim = 5\n",
    "subkeys = random.split(key, K)"
   ]
  },
  {
   "cell_type": "code",
   "execution_count": 16,
   "id": "334ab7ca-76d8-4bbe-849d-f0fff3329eba",
   "metadata": {},
   "outputs": [],
   "source": [
    "# stop condition\n",
    "cond_fn = lambda x, r_lim: jnp.where(jnp.linalg.norm(x) >= r_lim, True, False)"
   ]
  },
  {
   "cell_type": "markdown",
   "id": "74cb4ff8-9f3f-426d-817b-dfa525e391b3",
   "metadata": {},
   "source": [
    "1. sample brownian motion fht with a while loop in the time-steps"
   ]
  },
  {
   "cell_type": "code",
   "execution_count": 17,
   "id": "7dcdb63b-42f7-407a-8294-bd12669916de",
   "metadata": {},
   "outputs": [],
   "source": [
    "def brownian_fht(x_init, key):\n",
    "\n",
    "    # dimension\n",
    "    d = x_init.shape[0]\n",
    "    \n",
    "    # initialize trajectory\n",
    "    xt = x_init\n",
    "\n",
    "    # trajectory list\n",
    "    x = [xt]\n",
    "    while not cond_fn(xt, r_lim):\n",
    "\n",
    "        # brownian increments\n",
    "        key, subkey = random.split(key)\n",
    "        dbt = jnp.sqrt(dt) * random.normal(key, (d,))                                                  \n",
    "\n",
    "        # update\n",
    "        xt += dbt\n",
    "\n",
    "        # save position\n",
    "        x += [xt]\n",
    "        \n",
    "    return jnp.stack(x)\n",
    "\n",
    "#brownian_fht = vmap(brownian_fht, in_axes=(0, 0), out_axes=1)\n",
    "#sample_finite = jit(sample_finite, static_argnums=(0,))"
   ]
  },
  {
   "cell_type": "code",
   "execution_count": 18,
   "id": "8571b40a-bb85-4309-a757-69c418d64a2f",
   "metadata": {},
   "outputs": [],
   "source": [
    "x = brownian_fht(x_init[0], key)#; x#jnp.linalg.norm(x, axis=0).shape"
   ]
  },
  {
   "cell_type": "code",
   "execution_count": 19,
   "id": "70a2613f-896e-4da6-a5c0-d4ebc16619f2",
   "metadata": {},
   "outputs": [
    {
     "data": {
      "text/plain": [
       "(1758, 3)"
      ]
     },
     "execution_count": 19,
     "metadata": {},
     "output_type": "execute_result"
    }
   ],
   "source": [
    "x.shape"
   ]
  },
  {
   "cell_type": "markdown",
   "id": "5b2e68b7-06b1-4f32-bba7-35903a90f09a",
   "metadata": {},
   "source": [
    "2. sample brownian motion fht using lax with while_loop"
   ]
  },
  {
   "cell_type": "code",
   "execution_count": 4,
   "id": "0665334a-468c-4333-a466-2c50efde839e",
   "metadata": {},
   "outputs": [],
   "source": [
    "def cond_fn(val):\n",
    "    _, xt, _ = val\n",
    "    return jnp.where(jnp.linalg.norm(xt) <= r_lim, True, False)\n",
    "\n",
    "def body_fn(val):\n",
    "    step, xt, key = val\n",
    "    d = xt.shape[0]\n",
    "    key, subkey = random.split(key)\n",
    "    dbt = jnp.sqrt(dt) * random.normal(key, (d,))\n",
    "    step = step + 1\n",
    "    return step, xt + dbt, key\n",
    "\n",
    "def brownian_fht(x_init, key):\n",
    "    return lax.while_loop(cond_fn, body_fn, (0, x_init, key))\n",
    "\n",
    "brownian_fht = jit(vmap(brownian_fht))"
   ]
  },
  {
   "cell_type": "code",
   "execution_count": 5,
   "id": "3ce1df34-b682-4262-a55f-47fba2d4d0ad",
   "metadata": {},
   "outputs": [
    {
     "name": "stdout",
     "output_type": "stream",
     "text": [
      "CPU times: user 400 ms, sys: 6.36 ms, total: 407 ms\n",
      "Wall time: 403 ms\n"
     ]
    }
   ],
   "source": [
    "%time steps, x_fht, _ = brownian_fht(x_init, subkeys)"
   ]
  },
  {
   "cell_type": "code",
   "execution_count": 22,
   "id": "10128b1b-9f19-4a64-9828-6aca7b280615",
   "metadata": {},
   "outputs": [],
   "source": [
    "#x_fht.shape, steps"
   ]
  },
  {
   "cell_type": "markdown",
   "id": "4ffe7703-21dd-4b21-84f2-9e2f30844722",
   "metadata": {},
   "source": [
    "3. sample brownian motion fht using lax with scan"
   ]
  },
  {
   "cell_type": "code",
   "execution_count": 33,
   "id": "e39dc53a-871d-48cd-b719-f6329e83a6f3",
   "metadata": {},
   "outputs": [],
   "source": [
    "def cond_fn(carry):\n",
    "    _, xt, _ = carry\n",
    "    return jnp.linalg.norm(xt) <= r_lim#, True, False)\n",
    "\n",
    "def apply_fn(carry):\n",
    "    step, xt, key = carry\n",
    "    d = xt.shape[0]\n",
    "    key, subkey = random.split(key)\n",
    "    dbt = jnp.sqrt(dt) * random.normal(key, (d,))\n",
    "    xt = xt + dbt\n",
    "    step = step + 1\n",
    "    return (step, xt + dbt, key)\n",
    "    \n",
    "def body_fn(carry, x):\n",
    "    #carry = jnp.where(cond_fn(carry), apply_fn(carry), carry)\n",
    "    carry = lax.cond(cond_fn(carry), apply_fn, lambda x: x, carry)\n",
    "    return carry, carry[1]\n",
    "\n",
    "def brownian_fht(x_init, key):\n",
    "    return lax.scan(body_fn, init=(0, x_init, key), xs=None, length=int(1e3))\n",
    "\n",
    "brownian_fht = jit(vmap(brownian_fht, out_axes=0))"
   ]
  },
  {
   "cell_type": "code",
   "execution_count": 43,
   "id": "8854fb6c-192f-48b9-9342-634538b5ed09",
   "metadata": {},
   "outputs": [
    {
     "data": {
      "text/plain": [
       "Array(True, dtype=bool)"
      ]
     },
     "execution_count": 43,
     "metadata": {},
     "output_type": "execute_result"
    }
   ],
   "source": [
    "#x_init.shape\n",
    "cond_fn((0, x_init[0], key))"
   ]
  },
  {
   "cell_type": "code",
   "execution_count": 34,
   "id": "5737a4e6-40dc-4712-9d3e-d761d212df9a",
   "metadata": {},
   "outputs": [
    {
     "name": "stdout",
     "output_type": "stream",
     "text": [
      "CPU times: user 226 ms, sys: 264 µs, total: 226 ms\n",
      "Wall time: 221 ms\n"
     ]
    }
   ],
   "source": [
    "#(steps, x_fht, _), _ = brownian_fht(x_init[0], key)\n",
    "%time (steps, x_fht, _), x = brownian_fht(x_init, subkeys)"
   ]
  },
  {
   "cell_type": "code",
   "execution_count": 36,
   "id": "f0a54e44-5121-490d-8ca4-a203dd331646",
   "metadata": {},
   "outputs": [
    {
     "data": {
      "text/plain": [
       "[<matplotlib.lines.Line2D at 0x7fe1d4894c10>]"
      ]
     },
     "execution_count": 36,
     "metadata": {},
     "output_type": "execute_result"
    },
    {
     "data": {
      "image/png": "[encoded data removed]",
      "text/plain": [
       "<Figure size 640x480 with 1 Axes>"
      ]
     },
     "metadata": {},
     "output_type": "display_data"
    }
   ],
   "source": [
    "x.shape\n",
    "plt.plot(x[0, :, 0])\n",
    "plt.plot(x[1, :, 0])"
   ]
  },
  {
   "cell_type": "code",
   "execution_count": 13,
   "id": "1212441e-43a9-4241-92a4-a23199e51c99",
   "metadata": {},
   "outputs": [],
   "source": [
    "def is_done(x):\n",
    "    return x >= 10#jnp.where\n",
    "    \n",
    "@jit\n",
    "def simulate_fht(carry, x):\n",
    "    carry = jnp.where(is_done(carry), carry, carry + 1)\n",
    "    return carry, None"
   ]
  },
  {
   "cell_type": "code",
   "execution_count": 14,
   "id": "288f2008-156c-4b99-8b52-efa002a6591f",
   "metadata": {},
   "outputs": [
    {
     "data": {
      "text/plain": [
       "(Array(10, dtype=int32, weak_type=True), None)"
      ]
     },
     "execution_count": 14,
     "metadata": {},
     "output_type": "execute_result"
    }
   ],
   "source": [
    "lax.scan(simulate_fht, init=0, xs=None, length=20)"
   ]
  },
  {
   "cell_type": "code",
   "execution_count": null,
   "id": "ef2e83f4-f4f0-42c9-abcd-ab2deba67c30",
   "metadata": {},
   "outputs": [],
   "source": []
  }
 ],
 "metadata": {
  "kernelspec": {
   "display_name": "Python 3 (ipykernel)",
   "language": "python",
   "name": "python3"
  },
  "language_info": {
   "codemirror_mode": {
    "name": "ipython",
    "version": 3
   },
   "file_extension": ".py",
   "mimetype": "text/x-python",
   "name": "python",
   "nbconvert_exporter": "python",
   "pygments_lexer": "ipython3",
   "version": "3.11.2"
  }
 },
 "nbformat": 4,
 "nbformat_minor": 5
}
