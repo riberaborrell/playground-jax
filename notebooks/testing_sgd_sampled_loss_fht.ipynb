{
 "cells": [
  {
   "cell_type": "code",
   "execution_count": 17,
   "id": "1d501cd1",
   "metadata": {},
   "outputs": [],
   "source": [
    "from time import time \n",
    "\n",
    "import jax.numpy as jnp\n",
    "from jax import grad, value_and_grad, vmap, jit, random, lax\n",
    "import equinox as eqx\n",
    "import optax\n",
    "import matplotlib.pyplot as plt\n",
    "\n",
    "from playground_jax.models import *"
   ]
  },
  {
   "cell_type": "code",
   "execution_count": 18,
   "id": "2b73a17a-5615-44af-8eb0-5ccce5130bfa",
   "metadata": {},
   "outputs": [],
   "source": [
    "# set a random key\n",
    "key = random.PRNGKey(seed=1)"
   ]
  },
  {
   "cell_type": "code",
   "execution_count": 19,
   "id": "38e79748-2591-4a07-b29e-31f23e80817a",
   "metadata": {},
   "outputs": [],
   "source": [
    "# parameters\n",
    "d = 1\n",
    "dt = 0.01\n",
    "K = 1000\n",
    "x_init = 0 * jnp.ones((K, d))\n",
    "r_lim = 1\n",
    "\n",
    "#x_init"
   ]
  },
  {
   "cell_type": "markdown",
   "id": "d8eb68d6",
   "metadata": {},
   "source": [
    "2. Build a model"
   ]
  },
  {
   "cell_type": "code",
   "execution_count": 20,
   "id": "e90ea5cc",
   "metadata": {},
   "outputs": [],
   "source": [
    "# model\n",
    "key, subkey = random.split(key)\n",
    "model = FeedForwardNN(d_in=d, d_out=d, d_hidden=32, key=subkey)\n",
    "\n",
    "# evaluation data\n",
    "x = jnp.expand_dims(jnp.linspace(-1, 1, 101), axis=-1)\n",
    "y_init = vmap(model)(x)"
   ]
  },
  {
   "cell_type": "markdown",
   "id": "a2c0d55c",
   "metadata": {},
   "source": [
    "3. Define optimization routine "
   ]
  },
  {
   "cell_type": "code",
   "execution_count": 21,
   "id": "a08fcf5f-8816-49af-aa0f-ddbb18e27d38",
   "metadata": {},
   "outputs": [],
   "source": [
    "lr = 1e-3\n",
    "opt = optax.adam(learning_rate=lr)\n",
    "opt_state = opt.init(model)"
   ]
  },
  {
   "cell_type": "markdown",
   "id": "5286dcdd",
   "metadata": {},
   "source": [
    "4. Define loss"
   ]
  },
  {
   "cell_type": "code",
   "execution_count": 28,
   "id": "9a44c00d-4611-48c2-be68-47ca3c030fb0",
   "metadata": {},
   "outputs": [],
   "source": [
    "def cond_fn(val):\n",
    "    _, _, xt, _, _ = val\n",
    "    return jnp.where(jnp.linalg.norm(xt) <= 1, True, False)\n",
    "\n",
    "def body_fn(val):\n",
    "    model, step, xt, det_int, key = val\n",
    "    d = xt.shape[0]\n",
    "    key, subkey = random.split(key)\n",
    "    dbt = jnp.sqrt(dt) * random.normal(key, (d,))\n",
    "    xt = xt + dbt\n",
    "    step = step + 1\n",
    "    u = model(xt)\n",
    "    det_int = det_int + (jnp.linalg.norm(u) ** 2) * dt\n",
    "    return model, step, xt, det_int, key\n",
    "\n",
    "def sample_fn(model, x_init, key):\n",
    "    return lax.while_loop(cond_fn, body_fn, (model, 0, x_init, 0., key))\n",
    "    #val = (model, 0, x_init, 0., key)\n",
    "    #while cond_fn(val):\n",
    "    #    val = body_fn(val)\n",
    "    #return val\n",
    "sample_fn = vmap(sample_fn, in_axes=(None, 0, 0), out_axes=0)\n",
    "\n",
    "def loss_fn(model, key):\n",
    "    subkeys = random.split(key, K)\n",
    "    _, step, xt, det_int, key = sample_fn(model, x_init, subkeys)\n",
    "    return det_int.mean(), (step, xt, key)\n",
    "\n",
    "#loss_fn = jit(loss_fn)"
   ]
  },
  {
   "cell_type": "markdown",
   "id": "5b79cc9f",
   "metadata": {},
   "source": [
    "5. Train"
   ]
  },
  {
   "cell_type": "code",
   "execution_count": 30,
   "id": "fd3b0c45-6328-4e53-b919-bc79b4866c99",
   "metadata": {},
   "outputs": [
    {
     "ename": "ValueError",
     "evalue": "Reverse-mode differentiation does not work for lax.while_loop or lax.fori_loop with dynamic start/stop values. Try using lax.scan, or using fori_loop with static start/stop.",
     "output_type": "error",
     "traceback": [
      "\u001b[0;31m---------------------------------------------------------------------------\u001b[0m",
      "\u001b[0;31mJaxStackTraceBeforeTransformation\u001b[0m         Traceback (most recent call last)",
      "File \u001b[0;32m<frozen runpy>:198\u001b[0m, in \u001b[0;36m_run_module_as_main\u001b[0;34m()\u001b[0m\n",
      "File \u001b[0;32m<frozen runpy>:88\u001b[0m, in \u001b[0;36m_run_code\u001b[0;34m()\u001b[0m\n",
      "File \u001b[0;32m~/Dokumente/packages/playground-jax/venv/lib/python3.11/site-packages/ipykernel_launcher.py:17\u001b[0m\n\u001b[1;32m     15\u001b[0m \u001b[38;5;28;01mfrom\u001b[39;00m \u001b[38;5;21;01mipykernel\u001b[39;00m \u001b[38;5;28;01mimport\u001b[39;00m kernelapp \u001b[38;5;28;01mas\u001b[39;00m app\n\u001b[0;32m---> 17\u001b[0m app\u001b[38;5;241m.\u001b[39mlaunch_new_instance()\n",
      "File \u001b[0;32m~/Dokumente/packages/playground-jax/venv/lib/python3.11/site-packages/traitlets/config/application.py:1053\u001b[0m, in \u001b[0;36mlaunch_instance\u001b[0;34m()\u001b[0m\n\u001b[1;32m   1052\u001b[0m app\u001b[38;5;241m.\u001b[39minitialize(argv)\n\u001b[0;32m-> 1053\u001b[0m app\u001b[38;5;241m.\u001b[39mstart()\n",
      "File \u001b[0;32m~/Dokumente/packages/playground-jax/venv/lib/python3.11/site-packages/ipykernel/kernelapp.py:737\u001b[0m, in \u001b[0;36mstart\u001b[0;34m()\u001b[0m\n\u001b[1;32m    736\u001b[0m \u001b[38;5;28;01mtry\u001b[39;00m:\n\u001b[0;32m--> 737\u001b[0m     \u001b[38;5;28mself\u001b[39m\u001b[38;5;241m.\u001b[39mio_loop\u001b[38;5;241m.\u001b[39mstart()\n\u001b[1;32m    738\u001b[0m \u001b[38;5;28;01mexcept\u001b[39;00m \u001b[38;5;167;01mKeyboardInterrupt\u001b[39;00m:\n",
      "File \u001b[0;32m~/Dokumente/packages/playground-jax/venv/lib/python3.11/site-packages/tornado/platform/asyncio.py:195\u001b[0m, in \u001b[0;36mstart\u001b[0;34m()\u001b[0m\n\u001b[1;32m    194\u001b[0m \u001b[38;5;28;01mdef\u001b[39;00m \u001b[38;5;21mstart\u001b[39m(\u001b[38;5;28mself\u001b[39m) \u001b[38;5;241m-\u001b[39m\u001b[38;5;241m>\u001b[39m \u001b[38;5;28;01mNone\u001b[39;00m:\n\u001b[0;32m--> 195\u001b[0m     \u001b[38;5;28mself\u001b[39m\u001b[38;5;241m.\u001b[39masyncio_loop\u001b[38;5;241m.\u001b[39mrun_forever()\n",
      "File \u001b[0;32m/usr/lib/python3.11/asyncio/base_events.py:607\u001b[0m, in \u001b[0;36mrun_forever\u001b[0;34m()\u001b[0m\n\u001b[1;32m    606\u001b[0m \u001b[38;5;28;01mwhile\u001b[39;00m \u001b[38;5;28;01mTrue\u001b[39;00m:\n\u001b[0;32m--> 607\u001b[0m     \u001b[38;5;28mself\u001b[39m\u001b[38;5;241m.\u001b[39m_run_once()\n\u001b[1;32m    608\u001b[0m     \u001b[38;5;28;01mif\u001b[39;00m \u001b[38;5;28mself\u001b[39m\u001b[38;5;241m.\u001b[39m_stopping:\n",
      "File \u001b[0;32m/usr/lib/python3.11/asyncio/base_events.py:1922\u001b[0m, in \u001b[0;36m_run_once\u001b[0;34m()\u001b[0m\n\u001b[1;32m   1921\u001b[0m     \u001b[38;5;28;01melse\u001b[39;00m:\n\u001b[0;32m-> 1922\u001b[0m         handle\u001b[38;5;241m.\u001b[39m_run()\n\u001b[1;32m   1923\u001b[0m handle \u001b[38;5;241m=\u001b[39m \u001b[38;5;28;01mNone\u001b[39;00m\n",
      "File \u001b[0;32m/usr/lib/python3.11/asyncio/events.py:80\u001b[0m, in \u001b[0;36m_run\u001b[0;34m()\u001b[0m\n\u001b[1;32m     79\u001b[0m \u001b[38;5;28;01mtry\u001b[39;00m:\n\u001b[0;32m---> 80\u001b[0m     \u001b[38;5;28mself\u001b[39m\u001b[38;5;241m.\u001b[39m_context\u001b[38;5;241m.\u001b[39mrun(\u001b[38;5;28mself\u001b[39m\u001b[38;5;241m.\u001b[39m_callback, \u001b[38;5;241m*\u001b[39m\u001b[38;5;28mself\u001b[39m\u001b[38;5;241m.\u001b[39m_args)\n\u001b[1;32m     81\u001b[0m \u001b[38;5;28;01mexcept\u001b[39;00m (\u001b[38;5;167;01mSystemExit\u001b[39;00m, \u001b[38;5;167;01mKeyboardInterrupt\u001b[39;00m):\n",
      "File \u001b[0;32m~/Dokumente/packages/playground-jax/venv/lib/python3.11/site-packages/ipykernel/kernelbase.py:524\u001b[0m, in \u001b[0;36mdispatch_queue\u001b[0;34m()\u001b[0m\n\u001b[1;32m    523\u001b[0m \u001b[38;5;28;01mtry\u001b[39;00m:\n\u001b[0;32m--> 524\u001b[0m     \u001b[38;5;28;01mawait\u001b[39;00m \u001b[38;5;28mself\u001b[39m\u001b[38;5;241m.\u001b[39mprocess_one()\n\u001b[1;32m    525\u001b[0m \u001b[38;5;28;01mexcept\u001b[39;00m \u001b[38;5;167;01mException\u001b[39;00m:\n",
      "File \u001b[0;32m~/Dokumente/packages/playground-jax/venv/lib/python3.11/site-packages/ipykernel/kernelbase.py:513\u001b[0m, in \u001b[0;36mprocess_one\u001b[0;34m()\u001b[0m\n\u001b[1;32m    512\u001b[0m         \u001b[38;5;28;01mreturn\u001b[39;00m \u001b[38;5;28;01mNone\u001b[39;00m\n\u001b[0;32m--> 513\u001b[0m \u001b[38;5;28;01mawait\u001b[39;00m dispatch(\u001b[38;5;241m*\u001b[39margs)\n",
      "File \u001b[0;32m~/Dokumente/packages/playground-jax/venv/lib/python3.11/site-packages/ipykernel/kernelbase.py:418\u001b[0m, in \u001b[0;36mdispatch_shell\u001b[0;34m()\u001b[0m\n\u001b[1;32m    417\u001b[0m     \u001b[38;5;28;01mif\u001b[39;00m inspect\u001b[38;5;241m.\u001b[39misawaitable(result):\n\u001b[0;32m--> 418\u001b[0m         \u001b[38;5;28;01mawait\u001b[39;00m result\n\u001b[1;32m    419\u001b[0m \u001b[38;5;28;01mexcept\u001b[39;00m \u001b[38;5;167;01mException\u001b[39;00m:\n",
      "File \u001b[0;32m~/Dokumente/packages/playground-jax/venv/lib/python3.11/site-packages/ipykernel/kernelbase.py:758\u001b[0m, in \u001b[0;36mexecute_request\u001b[0;34m()\u001b[0m\n\u001b[1;32m    757\u001b[0m \u001b[38;5;28;01mif\u001b[39;00m inspect\u001b[38;5;241m.\u001b[39misawaitable(reply_content):\n\u001b[0;32m--> 758\u001b[0m     reply_content \u001b[38;5;241m=\u001b[39m \u001b[38;5;28;01mawait\u001b[39;00m reply_content\n\u001b[1;32m    760\u001b[0m \u001b[38;5;66;03m# Flush output before sending the reply.\u001b[39;00m\n",
      "File \u001b[0;32m~/Dokumente/packages/playground-jax/venv/lib/python3.11/site-packages/ipykernel/ipkernel.py:426\u001b[0m, in \u001b[0;36mdo_execute\u001b[0;34m()\u001b[0m\n\u001b[1;32m    425\u001b[0m \u001b[38;5;28;01mif\u001b[39;00m with_cell_id:\n\u001b[0;32m--> 426\u001b[0m     res \u001b[38;5;241m=\u001b[39m shell\u001b[38;5;241m.\u001b[39mrun_cell(\n\u001b[1;32m    427\u001b[0m         code,\n\u001b[1;32m    428\u001b[0m         store_history\u001b[38;5;241m=\u001b[39mstore_history,\n\u001b[1;32m    429\u001b[0m         silent\u001b[38;5;241m=\u001b[39msilent,\n\u001b[1;32m    430\u001b[0m         cell_id\u001b[38;5;241m=\u001b[39mcell_id,\n\u001b[1;32m    431\u001b[0m     )\n\u001b[1;32m    432\u001b[0m \u001b[38;5;28;01melse\u001b[39;00m:\n",
      "File \u001b[0;32m~/Dokumente/packages/playground-jax/venv/lib/python3.11/site-packages/ipykernel/zmqshell.py:549\u001b[0m, in \u001b[0;36mrun_cell\u001b[0;34m()\u001b[0m\n\u001b[1;32m    548\u001b[0m \u001b[38;5;28mself\u001b[39m\u001b[38;5;241m.\u001b[39m_last_traceback \u001b[38;5;241m=\u001b[39m \u001b[38;5;28;01mNone\u001b[39;00m\n\u001b[0;32m--> 549\u001b[0m \u001b[38;5;28;01mreturn\u001b[39;00m \u001b[38;5;28msuper\u001b[39m()\u001b[38;5;241m.\u001b[39mrun_cell(\u001b[38;5;241m*\u001b[39margs, \u001b[38;5;241m*\u001b[39m\u001b[38;5;241m*\u001b[39mkwargs)\n",
      "File \u001b[0;32m~/Dokumente/packages/playground-jax/venv/lib/python3.11/site-packages/IPython/core/interactiveshell.py:3046\u001b[0m, in \u001b[0;36mrun_cell\u001b[0;34m()\u001b[0m\n\u001b[1;32m   3045\u001b[0m \u001b[38;5;28;01mtry\u001b[39;00m:\n\u001b[0;32m-> 3046\u001b[0m     result \u001b[38;5;241m=\u001b[39m \u001b[38;5;28mself\u001b[39m\u001b[38;5;241m.\u001b[39m_run_cell(\n\u001b[1;32m   3047\u001b[0m         raw_cell, store_history, silent, shell_futures, cell_id\n\u001b[1;32m   3048\u001b[0m     )\n\u001b[1;32m   3049\u001b[0m \u001b[38;5;28;01mfinally\u001b[39;00m:\n",
      "File \u001b[0;32m~/Dokumente/packages/playground-jax/venv/lib/python3.11/site-packages/IPython/core/interactiveshell.py:3101\u001b[0m, in \u001b[0;36m_run_cell\u001b[0;34m()\u001b[0m\n\u001b[1;32m   3100\u001b[0m \u001b[38;5;28;01mtry\u001b[39;00m:\n\u001b[0;32m-> 3101\u001b[0m     result \u001b[38;5;241m=\u001b[39m runner(coro)\n\u001b[1;32m   3102\u001b[0m \u001b[38;5;28;01mexcept\u001b[39;00m \u001b[38;5;167;01mBaseException\u001b[39;00m \u001b[38;5;28;01mas\u001b[39;00m e:\n",
      "File \u001b[0;32m~/Dokumente/packages/playground-jax/venv/lib/python3.11/site-packages/IPython/core/async_helpers.py:129\u001b[0m, in \u001b[0;36m_pseudo_sync_runner\u001b[0;34m()\u001b[0m\n\u001b[1;32m    128\u001b[0m \u001b[38;5;28;01mtry\u001b[39;00m:\n\u001b[0;32m--> 129\u001b[0m     coro\u001b[38;5;241m.\u001b[39msend(\u001b[38;5;28;01mNone\u001b[39;00m)\n\u001b[1;32m    130\u001b[0m \u001b[38;5;28;01mexcept\u001b[39;00m \u001b[38;5;167;01mStopIteration\u001b[39;00m \u001b[38;5;28;01mas\u001b[39;00m exc:\n",
      "File \u001b[0;32m~/Dokumente/packages/playground-jax/venv/lib/python3.11/site-packages/IPython/core/interactiveshell.py:3306\u001b[0m, in \u001b[0;36mrun_cell_async\u001b[0;34m()\u001b[0m\n\u001b[1;32m   3303\u001b[0m interactivity \u001b[38;5;241m=\u001b[39m \u001b[38;5;124m\"\u001b[39m\u001b[38;5;124mnone\u001b[39m\u001b[38;5;124m\"\u001b[39m \u001b[38;5;28;01mif\u001b[39;00m silent \u001b[38;5;28;01melse\u001b[39;00m \u001b[38;5;28mself\u001b[39m\u001b[38;5;241m.\u001b[39mast_node_interactivity\n\u001b[0;32m-> 3306\u001b[0m has_raised \u001b[38;5;241m=\u001b[39m \u001b[38;5;28;01mawait\u001b[39;00m \u001b[38;5;28mself\u001b[39m\u001b[38;5;241m.\u001b[39mrun_ast_nodes(code_ast\u001b[38;5;241m.\u001b[39mbody, cell_name,\n\u001b[1;32m   3307\u001b[0m        interactivity\u001b[38;5;241m=\u001b[39minteractivity, compiler\u001b[38;5;241m=\u001b[39mcompiler, result\u001b[38;5;241m=\u001b[39mresult)\n\u001b[1;32m   3309\u001b[0m \u001b[38;5;28mself\u001b[39m\u001b[38;5;241m.\u001b[39mlast_execution_succeeded \u001b[38;5;241m=\u001b[39m \u001b[38;5;129;01mnot\u001b[39;00m has_raised\n",
      "File \u001b[0;32m~/Dokumente/packages/playground-jax/venv/lib/python3.11/site-packages/IPython/core/interactiveshell.py:3488\u001b[0m, in \u001b[0;36mrun_ast_nodes\u001b[0;34m()\u001b[0m\n\u001b[1;32m   3487\u001b[0m     asy \u001b[38;5;241m=\u001b[39m compare(code)\n\u001b[0;32m-> 3488\u001b[0m \u001b[38;5;28;01mif\u001b[39;00m \u001b[38;5;28;01mawait\u001b[39;00m \u001b[38;5;28mself\u001b[39m\u001b[38;5;241m.\u001b[39mrun_code(code, result, async_\u001b[38;5;241m=\u001b[39masy):\n\u001b[1;32m   3489\u001b[0m     \u001b[38;5;28;01mreturn\u001b[39;00m \u001b[38;5;28;01mTrue\u001b[39;00m\n",
      "File \u001b[0;32m~/Dokumente/packages/playground-jax/venv/lib/python3.11/site-packages/IPython/core/interactiveshell.py:3548\u001b[0m, in \u001b[0;36mrun_code\u001b[0;34m()\u001b[0m\n\u001b[1;32m   3547\u001b[0m     \u001b[38;5;28;01melse\u001b[39;00m:\n\u001b[0;32m-> 3548\u001b[0m         exec(code_obj, \u001b[38;5;28mself\u001b[39m\u001b[38;5;241m.\u001b[39muser_global_ns, \u001b[38;5;28mself\u001b[39m\u001b[38;5;241m.\u001b[39muser_ns)\n\u001b[1;32m   3549\u001b[0m \u001b[38;5;28;01mfinally\u001b[39;00m:\n\u001b[1;32m   3550\u001b[0m     \u001b[38;5;66;03m# Reset our crash handler in place\u001b[39;00m\n",
      "Cell \u001b[0;32mIn[30], line 4\u001b[0m\n\u001b[1;32m      1\u001b[0m \u001b[38;5;66;03m#sample_loss_fn(x_init[0], key)\u001b[39;00m\n\u001b[1;32m      2\u001b[0m \u001b[38;5;66;03m#subkeys = random.split(key, K)\u001b[39;00m\n\u001b[1;32m      3\u001b[0m \u001b[38;5;66;03m#loss, data = loss_fn(model, key)\u001b[39;00m\n\u001b[0;32m----> 4\u001b[0m (loss, data), grads \u001b[38;5;241m=\u001b[39m value_and_grad(loss_fn, has_aux\u001b[38;5;241m=\u001b[39m\u001b[38;5;28;01mTrue\u001b[39;00m)(model, key)\n\u001b[1;32m      5\u001b[0m \u001b[38;5;66;03m#from jax import jacfwd, jacrev\u001b[39;00m\n\u001b[1;32m      6\u001b[0m \u001b[38;5;66;03m#J = jacfwd(loss_fn, has_aux=True)(model, key)\u001b[39;00m\n",
      "Cell \u001b[0;32mIn[28], line 26\u001b[0m, in \u001b[0;36mloss_fn\u001b[0;34m()\u001b[0m\n\u001b[1;32m     25\u001b[0m subkeys \u001b[38;5;241m=\u001b[39m random\u001b[38;5;241m.\u001b[39msplit(key, K)\n\u001b[0;32m---> 26\u001b[0m _, step, xt, det_int, key \u001b[38;5;241m=\u001b[39m sample_fn(model, x_init, subkeys)\n\u001b[1;32m     27\u001b[0m \u001b[38;5;28;01mreturn\u001b[39;00m det_int\u001b[38;5;241m.\u001b[39mmean(), (step, xt, key)\n",
      "Cell \u001b[0;32mIn[28], line 17\u001b[0m, in \u001b[0;36msample_fn\u001b[0;34m()\u001b[0m\n\u001b[1;32m     16\u001b[0m \u001b[38;5;28;01mdef\u001b[39;00m \u001b[38;5;21msample_fn\u001b[39m(model, x_init, key):\n\u001b[0;32m---> 17\u001b[0m     \u001b[38;5;28;01mreturn\u001b[39;00m lax\u001b[38;5;241m.\u001b[39mwhile_loop(cond_fn, body_fn, (model, \u001b[38;5;241m0\u001b[39m, x_init, \u001b[38;5;241m0.\u001b[39m, key))\n",
      "\u001b[0;31mJaxStackTraceBeforeTransformation\u001b[0m: ValueError: Reverse-mode differentiation does not work for lax.while_loop or lax.fori_loop with dynamic start/stop values. Try using lax.scan, or using fori_loop with static start/stop.\n\nThe preceding stack trace is the source of the JAX operation that, once transformed by JAX, triggered the following exception.\n\n--------------------",
      "\nThe above exception was the direct cause of the following exception:\n",
      "\u001b[0;31mValueError\u001b[0m                                Traceback (most recent call last)",
      "Cell \u001b[0;32mIn[30], line 4\u001b[0m\n\u001b[1;32m      1\u001b[0m \u001b[38;5;66;03m#sample_loss_fn(x_init[0], key)\u001b[39;00m\n\u001b[1;32m      2\u001b[0m \u001b[38;5;66;03m#subkeys = random.split(key, K)\u001b[39;00m\n\u001b[1;32m      3\u001b[0m \u001b[38;5;66;03m#loss, data = loss_fn(model, key)\u001b[39;00m\n\u001b[0;32m----> 4\u001b[0m (loss, data), grads \u001b[38;5;241m=\u001b[39m \u001b[43mvalue_and_grad\u001b[49m\u001b[43m(\u001b[49m\u001b[43mloss_fn\u001b[49m\u001b[43m,\u001b[49m\u001b[43m \u001b[49m\u001b[43mhas_aux\u001b[49m\u001b[38;5;241;43m=\u001b[39;49m\u001b[38;5;28;43;01mTrue\u001b[39;49;00m\u001b[43m)\u001b[49m\u001b[43m(\u001b[49m\u001b[43mmodel\u001b[49m\u001b[43m,\u001b[49m\u001b[43m \u001b[49m\u001b[43mkey\u001b[49m\u001b[43m)\u001b[49m\n\u001b[1;32m      5\u001b[0m \u001b[38;5;66;03m#from jax import jacfwd, jacrev\u001b[39;00m\n\u001b[1;32m      6\u001b[0m \u001b[38;5;66;03m#J = jacfwd(loss_fn, has_aux=True)(model, key)\u001b[39;00m\n",
      "    \u001b[0;31m[... skipping hidden 7 frame]\u001b[0m\n",
      "File \u001b[0;32m~/Dokumente/packages/playground-jax/venv/lib/python3.11/site-packages/jax/_src/lax/control_flow/loops.py:1549\u001b[0m, in \u001b[0;36m_while_transpose_error\u001b[0;34m(*_, **kwargs)\u001b[0m\n\u001b[1;32m   1548\u001b[0m \u001b[38;5;28;01mdef\u001b[39;00m \u001b[38;5;21m_while_transpose_error\u001b[39m(\u001b[38;5;241m*\u001b[39m_, \u001b[38;5;241m*\u001b[39m\u001b[38;5;241m*\u001b[39mkwargs):\n\u001b[0;32m-> 1549\u001b[0m   \u001b[38;5;28;01mraise\u001b[39;00m \u001b[38;5;167;01mValueError\u001b[39;00m(\u001b[38;5;124m\"\u001b[39m\u001b[38;5;124mReverse-mode differentiation does not work for \u001b[39m\u001b[38;5;124m\"\u001b[39m\n\u001b[1;32m   1550\u001b[0m                    \u001b[38;5;124m\"\u001b[39m\u001b[38;5;124mlax.while_loop or lax.fori_loop with dynamic start/stop values. \u001b[39m\u001b[38;5;124m\"\u001b[39m\n\u001b[1;32m   1551\u001b[0m                    \u001b[38;5;124m\"\u001b[39m\u001b[38;5;124mTry using lax.scan, or using fori_loop with static start/stop.\u001b[39m\u001b[38;5;124m\"\u001b[39m)\n",
      "\u001b[0;31mValueError\u001b[0m: Reverse-mode differentiation does not work for lax.while_loop or lax.fori_loop with dynamic start/stop values. Try using lax.scan, or using fori_loop with static start/stop."
     ]
    }
   ],
   "source": [
    "#sample_loss_fn(x_init[0], key)\n",
    "#subkeys = random.split(key, K)\n",
    "#loss, data = loss_fn(model, key)\n",
    "(loss, data), grads = value_and_grad(loss_fn, has_aux=True)(model, key)\n",
    "#from jax import jacfwd, jacrev\n",
    "#J = jacfwd(loss_fn, has_aux=True)(model, key)"
   ]
  },
  {
   "cell_type": "code",
   "execution_count": 15,
   "id": "640291c3-6f94-41ae-8b1a-5e4c276905ed",
   "metadata": {},
   "outputs": [
    {
     "data": {
      "text/plain": [
       "Array(0.04972071, dtype=float32)"
      ]
     },
     "execution_count": 15,
     "metadata": {},
     "output_type": "execute_result"
    }
   ],
   "source": [
    "loss"
   ]
  },
  {
   "cell_type": "code",
   "execution_count": 69,
   "id": "fb869039-1263-463f-9d85-0317571efc04",
   "metadata": {},
   "outputs": [
    {
     "name": "stdout",
     "output_type": "stream",
     "text": [
      "it: 0, loss: 4.783e-02, time: 0.3955s\n",
      "it: 10, loss: 5.893e-03, time: 0.3936s\n",
      "it: 20, loss: 1.450e-03, time: 0.4227s\n",
      "it: 30, loss: 7.944e-04, time: 0.4013s\n",
      "it: 40, loss: 5.901e-04, time: 0.5527s\n",
      "it: 50, loss: 4.783e-04, time: 0.5286s\n",
      "it: 60, loss: 4.063e-04, time: 0.5243s\n",
      "it: 70, loss: 3.582e-04, time: 0.5232s\n",
      "it: 80, loss: 3.254e-04, time: 0.5164s\n",
      "it: 90, loss: 3.026e-04, time: 0.5140s\n"
     ]
    }
   ],
   "source": [
    "lr = 1e-2\n",
    "steps = int(1e2)\n",
    "for i in range(steps):\n",
    "    t0 = time()\n",
    "    (loss, data), grads = value_and_grad(loss_fn, has_aux=True)(model, x_init, key)\n",
    "    model = jax.tree_util.tree_map(lambda m, g: m - lr * g, model, grads)\n",
    "    t1 = time()\n",
    "    if i % int(1e1) == 0: \n",
    "        print('it: {:d}, loss: {:.3e}, time: {:.4f}s'.format(i, loss, t1-t0))"
   ]
  },
  {
   "cell_type": "markdown",
   "id": "d93b7e61",
   "metadata": {},
   "source": [
    "6. Evaluate"
   ]
  },
  {
   "cell_type": "code",
   "execution_count": 70,
   "id": "48234a0f",
   "metadata": {},
   "outputs": [
    {
     "data": {
      "text/plain": [
       "[<matplotlib.lines.Line2D at 0x7f40b8c99150>]"
      ]
     },
     "execution_count": 70,
     "metadata": {},
     "output_type": "execute_result"
    },
    {
     "data": {
      "image/png": "[encoded data removed]",
      "text/plain": [
       "<Figure size 640x480 with 1 Axes>"
      ]
     },
     "metadata": {},
     "output_type": "display_data"
    }
   ],
   "source": [
    "y_final = vmap(model)(x)\n",
    "fig, ax = plt.subplots()\n",
    "ax.plot(x, y_init)\n",
    "ax.plot(x, y_final)"
   ]
  },
  {
   "cell_type": "code",
   "execution_count": null,
   "id": "e8671a2c-44ed-4d88-8015-41cf8d584bc1",
   "metadata": {},
   "outputs": [],
   "source": []
  }
 ],
 "metadata": {
  "kernelspec": {
   "display_name": "Python 3 (ipykernel)",
   "language": "python",
   "name": "python3"
  },
  "language_info": {
   "codemirror_mode": {
    "name": "ipython",
    "version": 3
   },
   "file_extension": ".py",
   "mimetype": "text/x-python",
   "name": "python",
   "nbconvert_exporter": "python",
   "pygments_lexer": "ipython3",
   "version": "3.11.2"
  }
 },
 "nbformat": 4,
 "nbformat_minor": 5
}
