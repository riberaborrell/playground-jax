{
 "cells": [
  {
   "cell_type": "code",
   "execution_count": 1,
   "id": "caf7dd92",
   "metadata": {},
   "outputs": [],
   "source": [
    "from jax import numpy as jnp, random, tree_util, nn\n",
    "from jax import jacfwd, jacrev, jvp, vjp, jit, grad, vmap\n",
    "import equinox as eqx\n",
    "\n",
    "from playground_jax.models_equinox import *"
   ]
  },
  {
   "cell_type": "code",
   "execution_count": 2,
   "id": "a6cdbe53-8bc0-41b1-be53-5e4743c0025b",
   "metadata": {},
   "outputs": [],
   "source": [
    "# set seed, create key\n",
    "key = random.PRNGKey(seed=1)"
   ]
  },
  {
   "cell_type": "markdown",
   "id": "249bd0ef-2612-4e8f-adf7-e3e8a7ab3106",
   "metadata": {},
   "source": [
    "1. create model"
   ]
  },
  {
   "cell_type": "code",
   "execution_count": 3,
   "id": "cd139adf-7e04-4d19-8c60-ddd802fe8235",
   "metadata": {},
   "outputs": [],
   "source": [
    "d = 2\n",
    "d_in, d_hiddens, d_out = d, [32, 16], d\n",
    "key, split = random.split(key)\n",
    "model = MLP(d_in, d_out, d_hiddens, nn.tanh, lambda x: x, key=key)"
   ]
  },
  {
   "cell_type": "markdown",
   "id": "fbd0560a",
   "metadata": {},
   "source": [
    "2. the model as a pytree"
   ]
  },
  {
   "cell_type": "code",
   "execution_count": 4,
   "id": "18128281-b299-48fe-bef7-0f59660e5f2f",
   "metadata": {},
   "outputs": [],
   "source": [
    "# split between parameters and the model structure\n",
    "params, static = eqx.partition(model, eqx.is_array)"
   ]
  },
  {
   "cell_type": "code",
   "execution_count": 5,
   "id": "46b2a20b-93c5-4a1e-913a-ca80004e9f26",
   "metadata": {},
   "outputs": [
    {
     "name": "stdout",
     "output_type": "stream",
     "text": [
      "<class 'playground_jax.models_equinox.MLP'>\n",
      "Pytree: MLP(\n",
      "  layers=[\n",
      "    Linear(\n",
      "      weight=f32[32,2],\n",
      "      bias=f32[32],\n",
      "      in_features=2,\n",
      "      out_features=32,\n",
      "      use_bias=True\n",
      "    ),\n",
      "    <wrapped function <lambda>>,\n",
      "    Linear(\n",
      "      weight=f32[16,32],\n",
      "      bias=f32[16],\n",
      "      in_features=32,\n",
      "      out_features=16,\n",
      "      use_bias=True\n",
      "    ),\n",
      "    <wrapped function <lambda>>,\n",
      "    Linear(\n",
      "      weight=f32[2,16],\n",
      "      bias=f32[2],\n",
      "      in_features=16,\n",
      "      out_features=2,\n",
      "      use_bias=True\n",
      "    ),\n",
      "    <function <lambda>>\n",
      "  ]\n",
      ")\n"
     ]
    },
    {
     "data": {
      "text/plain": [
       "(None, None)"
      ]
     },
     "execution_count": 5,
     "metadata": {},
     "output_type": "execute_result"
    }
   ],
   "source": [
    "# print the pytree structure\n",
    "print(type(params)), print(f\"Pytree: {repr(model):<30}\")"
   ]
  },
  {
   "cell_type": "code",
   "execution_count": 6,
   "id": "a6dc6c8d-791b-44c4-9738-4b9e0f8cfc01",
   "metadata": {},
   "outputs": [
    {
     "name": "stdout",
     "output_type": "stream",
     "text": [
      "Number of leaves: 9\n"
     ]
    }
   ],
   "source": [
    "# get the pytree elaves\n",
    "\n",
    "leaves = tree_util.tree_leaves(model)\n",
    "print(f\"Number of leaves: {len(leaves)}\")"
   ]
  },
  {
   "cell_type": "code",
   "execution_count": 8,
   "id": "1bca3a6d-1113-4dbf-ad61-d1168a5c493e",
   "metadata": {},
   "outputs": [],
   "source": [
    "# check shapes\n",
    "#tree_util.tree_map(lambda x: x.shape, params)"
   ]
  },
  {
   "cell_type": "code",
   "execution_count": 9,
   "id": "e07d58f5-658c-4fd3-a579-c6503d84c62b",
   "metadata": {},
   "outputs": [],
   "source": [
    "leaves, model_treedef = tree_util.tree_flatten(params)"
   ]
  },
  {
   "cell_type": "code",
   "execution_count": 18,
   "id": "8fbce883-d06f-49d0-82bb-6d63c71f4254",
   "metadata": {},
   "outputs": [],
   "source": [
    "#type(leaves), type(model_treedef)\n",
    "#leaves\n",
    "#params\n",
    "#model_treedef"
   ]
  },
  {
   "cell_type": "markdown",
   "id": "853c315e",
   "metadata": {},
   "source": [
    "3. modify pytrees"
   ]
  },
  {
   "cell_type": "code",
   "execution_count": 15,
   "id": "2860106b-34c0-45cf-b9d9-7c0f69b7ad77",
   "metadata": {},
   "outputs": [],
   "source": [
    "updated_leaves = list(map(lambda l: l + jnp.ones(1), leaves))\n",
    "#updated_params = tree_util.tree_unflatten(model_treedef, updated_leaves)"
   ]
  },
  {
   "cell_type": "code",
   "execution_count": 16,
   "id": "dad41b12-2406-4174-a0b3-013c88e95279",
   "metadata": {},
   "outputs": [
    {
     "name": "stdout",
     "output_type": "stream",
     "text": [
      "CPU times: user 51.8 ms, sys: 0 ns, total: 51.8 ms\n",
      "Wall time: 51 ms\n"
     ]
    }
   ],
   "source": [
    "# zero pytree\n",
    "%time updated_params = tree_util.tree_map(jnp.zeros_like, params)"
   ]
  },
  {
   "cell_type": "code",
   "execution_count": 21,
   "id": "9e0dd645-1ce8-4d06-a81d-466dbf571df4",
   "metadata": {},
   "outputs": [
    {
     "name": "stdout",
     "output_type": "stream",
     "text": [
      "CPU times: user 15.6 ms, sys: 0 ns, total: 15.6 ms\n",
      "Wall time: 14.9 ms\n"
     ]
    }
   ],
   "source": [
    "# constant pytree\n",
    "a = 2.\n",
    "%time updated_params = tree_util.tree_unflatten(params_treedef, list(map(lambda l: a * jnp.ones_like(l), leaves)))\n",
    "#repr(updated_params)"
   ]
  },
  {
   "cell_type": "markdown",
   "id": "5863803c-6d48-40c2-a410-d1416b59147c",
   "metadata": {},
   "source": [
    "4. Jacobian of a model with respect to the parameters"
   ]
  },
  {
   "cell_type": "code",
   "execution_count": 54,
   "id": "2d3de86b-324d-40f7-b9a6-1df169cc4910",
   "metadata": {},
   "outputs": [],
   "source": [
    "x = jnp.ones(d)\n",
    "def f(params):\n",
    "    model = eqx.combine(params, static)\n",
    "    return model(x)"
   ]
  },
  {
   "cell_type": "code",
   "execution_count": 55,
   "id": "f8e2ba34-e80e-49c2-a903-78c9a2e9eb01",
   "metadata": {},
   "outputs": [
    {
     "name": "stdout",
     "output_type": "stream",
     "text": [
      "CPU times: user 9 ms, sys: 465 µs, total: 9.47 ms\n",
      "Wall time: 8.33 ms\n"
     ]
    }
   ],
   "source": [
    "%time jac = jacfwd(f)(params)\n",
    "#%time jac = jacrev(model)(x)"
   ]
  },
  {
   "cell_type": "code",
   "execution_count": 56,
   "id": "03fac5a7-0095-45f6-b0b5-b9e8033765bb",
   "metadata": {},
   "outputs": [
    {
     "data": {
      "text/plain": [
       "playground_jax.models_equinox.MLP"
      ]
     },
     "execution_count": 56,
     "metadata": {},
     "output_type": "execute_result"
    }
   ],
   "source": [
    "type(jac)"
   ]
  },
  {
   "cell_type": "markdown",
   "id": "b564f395-5314-4381-801f-100cf0d081d8",
   "metadata": {},
   "source": [
    "batch input"
   ]
  },
  {
   "cell_type": "code",
   "execution_count": 61,
   "id": "76339486-e5b7-4f59-94d8-6cc45fd1dc29",
   "metadata": {},
   "outputs": [
    {
     "data": {
      "text/plain": [
       "(1000000, 2)"
      ]
     },
     "execution_count": 61,
     "metadata": {},
     "output_type": "execute_result"
    }
   ],
   "source": [
    "batch_size = int(1e6)\n",
    "x = jnp.ones((batch_size, d))\n",
    "def f(params):\n",
    "    model = eqx.combine(params, static)\n",
    "    return vmap(model)(x)\n",
    "y = f(params)\n",
    "y.shape"
   ]
  },
  {
   "cell_type": "code",
   "execution_count": 64,
   "id": "528aefc8-2a9c-401d-88da-2353d97d3a5d",
   "metadata": {},
   "outputs": [],
   "source": [
    "#%time jac = vmap(jacfwd(f))(params)"
   ]
  },
  {
   "cell_type": "code",
   "execution_count": 65,
   "id": "aa16a686-6fd5-41d0-98ff-1ce640f22b2f",
   "metadata": {},
   "outputs": [],
   "source": [
    "#%time jac_tree = vmap(jacrev(model))(x)"
   ]
  },
  {
   "cell_type": "markdown",
   "id": "e9db2642-309d-4cda-9ec9-7ef08615d7eb",
   "metadata": {},
   "source": [
    "5. Jacobian vector products (forward-mode ad)"
   ]
  },
  {
   "cell_type": "code",
   "execution_count": 78,
   "id": "bb88260d-8701-45cb-af4e-11a517478e5a",
   "metadata": {},
   "outputs": [],
   "source": [
    "x = jnp.ones(d)\n",
    "x.shape, u.shape\n",
    "\n",
    "def f(params):\n",
    "    model = eqx.combine(params, static)\n",
    "    return model(x)"
   ]
  },
  {
   "cell_type": "code",
   "execution_count": 79,
   "id": "93013a3e-57af-403e-a6a5-486ebd868fc9",
   "metadata": {},
   "outputs": [
    {
     "data": {
      "text/plain": [
       "Array([-0.2048847 , -0.00798638], dtype=float32)"
      ]
     },
     "execution_count": 79,
     "metadata": {},
     "output_type": "execute_result"
    }
   ],
   "source": [
    "y = f(params)\n",
    "y"
   ]
  },
  {
   "cell_type": "code",
   "execution_count": 80,
   "id": "75fa5e0a-daac-45f9-a39e-1621821c7a7d",
   "metadata": {},
   "outputs": [],
   "source": [
    "# jacobian vector product\n",
    "#y, u = eqx.filter_jvp(model, (leaves,), (u,))\n",
    "\n",
    "# vector jacobian product\n",
    "y, vjp_fun = eqx.filter_vjp(f, params)\n",
    "vjp_1 = vjp_fun(y)"
   ]
  },
  {
   "cell_type": "code",
   "execution_count": 81,
   "id": "fa7ea0a3-cf44-442d-ba6b-8c0f50ed1471",
   "metadata": {},
   "outputs": [
    {
     "name": "stdout",
     "output_type": "stream",
     "text": [
      "(MLP(\n",
      "  layers=[\n",
      "    Linear(\n",
      "      weight=f32[32,2],\n",
      "      bias=f32[32],\n",
      "      in_features=2,\n",
      "      out_features=32,\n",
      "      use_bias=True\n",
      "    ),\n",
      "    None,\n",
      "    Linear(\n",
      "      weight=f32[16,32],\n",
      "      bias=f32[16],\n",
      "      in_features=32,\n",
      "      out_features=16,\n",
      "      use_bias=True\n",
      "    ),\n",
      "    None,\n",
      "    Linear(\n",
      "      weight=f32[2,16],\n",
      "      bias=f32[2],\n",
      "      in_features=16,\n",
      "      out_features=2,\n",
      "      use_bias=True\n",
      "    ),\n",
      "    None\n",
      "  ]\n",
      "),)\n"
     ]
    }
   ],
   "source": [
    "#print(y)\n",
    "#print(vjp_fun)\n",
    "print(vjp_1)"
   ]
  },
  {
   "cell_type": "code",
   "execution_count": 72,
   "id": "bb783e1a-a51d-4651-968f-60939c2ee78a",
   "metadata": {},
   "outputs": [],
   "source": [
    "leaves = tree_util.tree_leaves(vjp_1)"
   ]
  },
  {
   "cell_type": "code",
   "execution_count": 26,
   "id": "3f60f7d7-1db0-4097-b53a-83d62d17dd77",
   "metadata": {},
   "outputs": [],
   "source": [
    "#vmap(jnp.dot, in_axes=(None, 1))(jnp.ones(2), jnp.ones((2, 32, 2)))"
   ]
  },
  {
   "cell_type": "code",
   "execution_count": 27,
   "id": "562e4d5c-a0c3-4fdf-87fd-b92e2e673435",
   "metadata": {},
   "outputs": [],
   "source": [
    "new_leaves = [vmap(jnp.dot, in_axes=(None, 1))(u, leaf) for leaf in leaves]\n",
    "new_tree = tree_util.tree_unflatten(params_treedef, new_leaves)"
   ]
  },
  {
   "cell_type": "code",
   "execution_count": 30,
   "id": "9b23d795-af53-4209-8fe7-15d770f06e6a",
   "metadata": {},
   "outputs": [
    {
     "data": {
      "text/plain": [
       "({'params': {'Dense_0': {'bias': (32,), 'kernel': (2, 32)},\n",
       "   'Dense_1': {'bias': (32,), 'kernel': (32, 32)},\n",
       "   'Dense_2': {'bias': (32,), 'kernel': (32, 32)},\n",
       "   'Dense_3': {'bias': (2,), 'kernel': (32, 2)}}},\n",
       " {'params': {'Dense_0': {'bias': (32,), 'kernel': (2, 32)},\n",
       "   'Dense_1': {'bias': (32,), 'kernel': (32, 32)},\n",
       "   'Dense_2': {'bias': (32,), 'kernel': (32, 32)},\n",
       "   'Dense_3': {'bias': (2,), 'kernel': (32, 2)}}})"
      ]
     },
     "execution_count": 30,
     "metadata": {},
     "output_type": "execute_result"
    }
   ],
   "source": [
    "tree_util.tree_map(lambda x: x.shape, new_tree), tree_util.tree_map(lambda x: x.shape, params)"
   ]
  },
  {
   "cell_type": "markdown",
   "id": "a6edb0a8-0f5d-48fd-afca-2f6d5c7bf63e",
   "metadata": {},
   "source": [
    "5. operations between pytrees with the same structure"
   ]
  },
  {
   "cell_type": "code",
   "execution_count": 113,
   "id": "9a777dae-130a-4ec6-a75c-4a4c3691623a",
   "metadata": {},
   "outputs": [
    {
     "data": {
      "text/plain": [
       "{'params': {'bias': Array([[-1.486341 ,  0.       ],\n",
       "         [ 0.       ,  1.5494415]], dtype=float32),\n",
       "  'kernel': Array([[[-1.486341 ,  0.       ],\n",
       "          [-1.486341 ,  0.       ]],\n",
       "  \n",
       "         [[ 0.       ,  1.5494415],\n",
       "          [ 0.       ,  1.5494415]]], dtype=float32)}}"
      ]
     },
     "execution_count": 113,
     "metadata": {},
     "output_type": "execute_result"
    }
   ],
   "source": [
    "tree_util.tree_map(lambda x, y: x + y, jac, updated_jac)"
   ]
  },
  {
   "cell_type": "code",
   "execution_count": 114,
   "id": "a2a766c4-67d6-414d-a41b-821de1ed7194",
   "metadata": {},
   "outputs": [
    {
     "data": {
      "text/plain": [
       "{'params': {'bias': Array([[1., 0.],\n",
       "         [0., 1.]], dtype=float32),\n",
       "  'kernel': Array([[[1., 0.],\n",
       "          [1., 0.]],\n",
       "  \n",
       "         [[0., 1.],\n",
       "          [0., 1.]]], dtype=float32)}}"
      ]
     },
     "execution_count": 114,
     "metadata": {},
     "output_type": "execute_result"
    }
   ],
   "source": [
    "jac"
   ]
  },
  {
   "cell_type": "code",
   "execution_count": 116,
   "id": "803de126-d7a2-4a62-8035-3955f9e162bf",
   "metadata": {},
   "outputs": [
    {
     "data": {
      "text/plain": [
       "{'params': {'bias': Array([[-2.486341  ,  0.        ],\n",
       "         [-0.        ,  0.54944146]], dtype=float32),\n",
       "  'kernel': Array([[[-2.486341  ,  0.        ],\n",
       "          [-2.486341  ,  0.        ]],\n",
       "  \n",
       "         [[-0.        ,  0.54944146],\n",
       "          [-0.        ,  0.54944146]]], dtype=float32)}}"
      ]
     },
     "execution_count": 116,
     "metadata": {},
     "output_type": "execute_result"
    }
   ],
   "source": [
    "updated_jac"
   ]
  },
  {
   "cell_type": "code",
   "execution_count": null,
   "id": "11eb0e63-9719-49bd-9fcd-94e29f392ff1",
   "metadata": {},
   "outputs": [],
   "source": []
  }
 ],
 "metadata": {
  "kernelspec": {
   "display_name": "Python 3 (ipykernel)",
   "language": "python",
   "name": "python3"
  },
  "language_info": {
   "codemirror_mode": {
    "name": "ipython",
    "version": 3
   },
   "file_extension": ".py",
   "mimetype": "text/x-python",
   "name": "python",
   "nbconvert_exporter": "python",
   "pygments_lexer": "ipython3",
   "version": "3.11.2"
  }
 },
 "nbformat": 4,
 "nbformat_minor": 5
}
