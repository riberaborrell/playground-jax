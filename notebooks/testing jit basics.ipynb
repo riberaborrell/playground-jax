{
 "cells": [
  {
   "cell_type": "code",
   "execution_count": 10,
   "id": "caf7dd92",
   "metadata": {},
   "outputs": [],
   "source": [
    "from collections import namedtuple\n",
    "from functools import partial\n",
    "import os\n",
    "import time\n",
    "import requests\n",
    "\n",
    "import jax.random as random\n",
    "import jax.numpy as jnp\n",
    "from jax import jacfwd, jit, grad"
   ]
  },
  {
   "cell_type": "markdown",
   "id": "249bd0ef-2612-4e8f-adf7-e3e8a7ab3106",
   "metadata": {},
   "source": [
    "1. Jiting a function with static arguments"
   ]
  },
  {
   "cell_type": "code",
   "execution_count": 16,
   "id": "cd139adf-7e04-4d19-8c60-ddd802fe8235",
   "metadata": {},
   "outputs": [
    {
     "data": {
      "text/plain": [
       "Array([   0,    1,  256, 6561], dtype=int32)"
      ]
     },
     "execution_count": 16,
     "metadata": {},
     "output_type": "execute_result"
    }
   ],
   "source": [
    "def g(x, n):\n",
    "    for i in range(n):\n",
    "        x = x ** 2\n",
    "    return x\n",
    "\n",
    "jit(g, static_argnums=1)(jnp.arange(4), 3)\n",
    "#jit(g, static_argnames='n')(jnp.arange(4), 3)"
   ]
  },
  {
   "cell_type": "code",
   "execution_count": 17,
   "id": "793e3835-f11d-4eaf-8ef5-e83ae681bdf3",
   "metadata": {},
   "outputs": [
    {
     "data": {
      "text/plain": [
       "Array([   0,    1,  256, 6561], dtype=int32)"
      ]
     },
     "execution_count": 17,
     "metadata": {},
     "output_type": "execute_result"
    }
   ],
   "source": [
    "@partial(jit, static_argnums=1)\n",
    "#@partial(jit, static_argnames=['n'])\n",
    "def g(x, n):\n",
    "    for i in range(n):\n",
    "        x = x ** 2\n",
    "    return x\n",
    "\n",
    "g(jnp.arange(4), 3)"
   ]
  },
  {
   "cell_type": "markdown",
   "id": "fbd0560a",
   "metadata": {},
   "source": [
    "## evaluating a composition of functions iteratively"
   ]
  },
  {
   "cell_type": "code",
   "execution_count": 4,
   "id": "9195b0c3",
   "metadata": {},
   "outputs": [],
   "source": [
    "def apply_activation(x):\n",
    "    return jnp.maximum(0.0, x)\n",
    "\n",
    "def get_dot_product(u, v):\n",
    "    return jnp.dot(u, v)"
   ]
  },
  {
   "cell_type": "code",
   "execution_count": 5,
   "id": "3fe0a2b9",
   "metadata": {},
   "outputs": [
    {
     "name": "stdout",
     "output_type": "stream",
     "text": [
      "it.: 1, dot product time: 5.3e-02, activation time: 1.3e-02\n",
      "it.: 2, dot product time: 3.9e-02, activation time: 2.7e-04\n",
      "it.: 3, dot product time: 3.8e-02, activation time: 2.7e-04\n",
      "it.: 4, dot product time: 3.8e-02, activation time: 3.1e-04\n",
      "it.: 5, dot product time: 3.9e-02, activation time: 4.5e-04\n",
      "it.: 6, dot product time: 3.9e-02, activation time: 5.6e-04\n",
      "it.: 7, dot product time: 4.0e-02, activation time: 2.8e-04\n",
      "it.: 8, dot product time: 3.9e-02, activation time: 2.4e-04\n",
      "it.: 9, dot product time: 4.0e-02, activation time: 2.6e-04\n",
      "it.: 10, dot product time: 3.9e-02, activation time: 3.7e-04\n"
     ]
    }
   ],
   "source": [
    "# generate key\n",
    "key = random.PRNGKey(1)\n",
    "n, m, p = (1000, 10000, 1000)\n",
    "u = random.normal(key=key, shape=[n, m], dtype=jnp.float32)\n",
    "\n",
    "# generate subkey\n",
    "key, subkey = random.split(key)\n",
    "v = random.normal(key=subkey, shape=[m, p], dtype=jnp.float32)\n",
    "\n",
    "# JIT the functions we have\n",
    "dot_product_jit  = jit(get_dot_product)\n",
    "activation_jit = jit(apply_activation)\n",
    "\n",
    "for i in range(10):\n",
    "    \n",
    "    start = time.time()\n",
    "    z = dot_product_jit(u, v).block_until_ready()\n",
    "    dt_dot_product = time.time() - start\n",
    "    \n",
    "    start = time.time()\n",
    "    a = activation_jit(z).block_until_ready()\n",
    "    dt_activation = time.time() - start\n",
    "    \n",
    "    print(f'it.: {i+1}, dot product time: {dt_dot_product:.1e}, activation time: {dt_activation:.1e}')"
   ]
  },
  {
   "cell_type": "markdown",
   "id": "853c315e",
   "metadata": {},
   "source": [
    "## jit a method inside a class"
   ]
  },
  {
   "cell_type": "code",
   "execution_count": 6,
   "id": "f10f00f3",
   "metadata": {},
   "outputs": [],
   "source": [
    "class FeedForwardNN:\n",
    "    def __init__(self):\n",
    "        pass\n",
    "    \n",
    "    def get_dot_product(self, u, v):\n",
    "        return jnp.dot(u, v)\n",
    "    \n",
    "    def apply_activation(self, x):\n",
    "        return jnp.maximum(0.0, x)"
   ]
  },
  {
   "cell_type": "code",
   "execution_count": 7,
   "id": "6699bc4e",
   "metadata": {},
   "outputs": [],
   "source": [
    "# generate key\n",
    "key = random.PRNGKey(1)\n",
    "n, m, p = (10, 100, 50)\n",
    "u = random.normal(key=key, shape=[n, m], dtype=jnp.float32)\n",
    "\n",
    "# generate subkey\n",
    "key, subkey = random.split(key)\n",
    "v = random.normal(key=subkey, shape=[m, p], dtype=jnp.float32)\n",
    "\n",
    "# init nn\n",
    "nn = FeedForwardNN()"
   ]
  },
  {
   "cell_type": "code",
   "execution_count": 8,
   "id": "e05c9e35",
   "metadata": {},
   "outputs": [],
   "source": [
    "# forward pass\n",
    "x = nn.get_dot_product(u, v)\n",
    "x = nn.apply_activation(x)"
   ]
  },
  {
   "cell_type": "code",
   "execution_count": null,
   "id": "db7fbc97-a5ec-4568-b53e-87a77a7ef051",
   "metadata": {},
   "outputs": [],
   "source": []
  }
 ],
 "metadata": {
  "kernelspec": {
   "display_name": "Python 3 (ipykernel)",
   "language": "python",
   "name": "python3"
  },
  "language_info": {
   "codemirror_mode": {
    "name": "ipython",
    "version": 3
   },
   "file_extension": ".py",
   "mimetype": "text/x-python",
   "name": "python",
   "nbconvert_exporter": "python",
   "pygments_lexer": "ipython3",
   "version": "3.11.2"
  }
 },
 "nbformat": 4,
 "nbformat_minor": 5
}
