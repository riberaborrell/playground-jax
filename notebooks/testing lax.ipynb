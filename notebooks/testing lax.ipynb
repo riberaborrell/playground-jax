{
 "cells": [
  {
   "cell_type": "code",
   "execution_count": 1,
   "id": "8249416f-34e3-4962-a6ff-75530670a697",
   "metadata": {},
   "outputs": [],
   "source": [
    "import jax.numpy as jnp\n",
    "from jax import vmap, jit, random, lax\n",
    "from jax import make_jaxpr"
   ]
  },
  {
   "cell_type": "markdown",
   "id": "ce6fc029-aba1-4d2f-9202-4ac2cd970c78",
   "metadata": {},
   "source": [
    "# Scan\n",
    "1. Cumulative sum"
   ]
  },
  {
   "cell_type": "code",
   "execution_count": 2,
   "id": "6dd9afc9-3c8f-4e88-b685-b1268dcbf2f5",
   "metadata": {},
   "outputs": [],
   "source": [
    "@jit\n",
    "def body_fn(carry, x):\n",
    "    carry = carry + x\n",
    "    return carry, carry\n",
    "\n",
    "def cumsum(xs):\n",
    "    return lax.scan(body_fn, init=0, xs=xs)"
   ]
  },
  {
   "cell_type": "code",
   "execution_count": null,
   "id": "3458c609-2c5e-4505-b33b-53b65e036319",
   "metadata": {},
   "outputs": [],
   "source": []
  },
  {
   "cell_type": "code",
   "execution_count": 3,
   "id": "08032293-f9a2-42ae-91e7-96c19f28c503",
   "metadata": {},
   "outputs": [
    {
     "name": "stdout",
     "output_type": "stream",
     "text": [
      "CPU times: user 21.1 ms, sys: 1.52 ms, total: 22.7 ms\n",
      "Wall time: 22.3 ms\n"
     ]
    },
    {
     "data": {
      "text/plain": [
       "(Array(45, dtype=int32),\n",
       " Array([ 0,  1,  3,  6, 10, 15, 21, 28, 36, 45], dtype=int32))"
      ]
     },
     "execution_count": 3,
     "metadata": {},
     "output_type": "execute_result"
    }
   ],
   "source": [
    "x = jnp.arange(10)\n",
    "%time cumsum(x)\n",
    "#%time vmap(cumsum)(jnp.stack((x, x)))"
   ]
  },
  {
   "cell_type": "markdown",
   "id": "f1f9e705-4a5c-4adb-8d53-7e25af5a32c1",
   "metadata": {},
   "source": [
    "2. Accumulate"
   ]
  },
  {
   "cell_type": "code",
   "execution_count": 4,
   "id": "9b2a2818-e976-463e-aa09-20f433eddca4",
   "metadata": {},
   "outputs": [],
   "source": [
    "@jit\n",
    "def body_fn(carry, x):\n",
    "    carry = carry + 1\n",
    "    return carry, carry\n",
    "\n",
    "def accumulate(length):\n",
    "    return lax.scan(body_fn, init=0, xs=None, length=length)"
   ]
  },
  {
   "cell_type": "code",
   "execution_count": 5,
   "id": "cdf379e1-10c0-4b1f-99d4-fcc593d04a57",
   "metadata": {},
   "outputs": [
    {
     "data": {
      "text/plain": [
       "(Array(10, dtype=int32, weak_type=True),\n",
       " Array([ 1,  2,  3,  4,  5,  6,  7,  8,  9, 10], dtype=int32, weak_type=True))"
      ]
     },
     "execution_count": 5,
     "metadata": {},
     "output_type": "execute_result"
    }
   ],
   "source": [
    "accumulate(10)\n",
    "#vmap(accumulate)(jnp.array([10, 5]))"
   ]
  },
  {
   "cell_type": "markdown",
   "id": "350cbd35-9042-4831-890a-0e7b4411a40d",
   "metadata": {},
   "source": [
    "3. Simulate"
   ]
  },
  {
   "cell_type": "code",
   "execution_count": 6,
   "id": "a2f5839c-2db1-4b15-a359-800c0c90a064",
   "metadata": {},
   "outputs": [],
   "source": [
    "@jit\n",
    "def body_fn(carry, x):\n",
    "    carry = carry + 1\n",
    "    return carry, carry\n",
    "\n",
    "def simulate(init):\n",
    "    return lax.scan(body_fn, init=init, xs=None, length=10)"
   ]
  },
  {
   "cell_type": "code",
   "execution_count": 7,
   "id": "7e1c2643-5d4d-4505-ab8d-ab555374e272",
   "metadata": {},
   "outputs": [
    {
     "data": {
      "text/plain": [
       "(Array([11., 11.], dtype=float32),\n",
       " Array([[ 2.,  3.,  4.,  5.,  6.,  7.,  8.,  9., 10., 11.],\n",
       "        [ 2.,  3.,  4.,  5.,  6.,  7.,  8.,  9., 10., 11.]], dtype=float32))"
      ]
     },
     "execution_count": 7,
     "metadata": {},
     "output_type": "execute_result"
    }
   ],
   "source": [
    "#simulate(0)\n",
    "vmap(simulate)(jnp.ones(2))"
   ]
  },
  {
   "cell_type": "markdown",
   "id": "31466839-d764-46cd-a2f2-8ead41ebaedd",
   "metadata": {},
   "source": [
    "4. Simulate with stop condition"
   ]
  },
  {
   "cell_type": "code",
   "execution_count": 8,
   "id": "53a3f317-2e80-4457-a047-09ff80b36130",
   "metadata": {},
   "outputs": [],
   "source": [
    "def is_done(x):\n",
    "    return x >= 10#jnp.where"
   ]
  },
  {
   "cell_type": "code",
   "execution_count": 10,
   "id": "6f866d3a-2962-49c9-ad6e-2b95cf18f026",
   "metadata": {},
   "outputs": [
    {
     "data": {
      "text/plain": [
       "True"
      ]
     },
     "execution_count": 10,
     "metadata": {},
     "output_type": "execute_result"
    }
   ],
   "source": [
    "is_done(10)"
   ]
  },
  {
   "cell_type": "code",
   "execution_count": 26,
   "id": "fdcdef66-6c80-482c-8d1e-8c60ec11c995",
   "metadata": {},
   "outputs": [],
   "source": [
    "def apply_fn(carry):\n",
    "    return carry + 1\n",
    "\n",
    "def simulate_fht(carry, x):\n",
    "    carry = lax.cond(carry < 10, apply_fn, lambda x: x, carry)\n",
    "    #carry = jnp.where(is_done(carry), carry, carry + 1)\n",
    "    return carry, None"
   ]
  },
  {
   "cell_type": "code",
   "execution_count": 27,
   "id": "1e63c55a-cb13-43d6-a0ec-9657b3b6a22b",
   "metadata": {},
   "outputs": [
    {
     "name": "stdout",
     "output_type": "stream",
     "text": [
      "1.04 ms ± 11.5 µs per loop (mean ± std. dev. of 7 runs, 1,000 loops each)\n"
     ]
    }
   ],
   "source": [
    "%timeit lax.scan(simulate_fht, init=0, xs=None, length=int(1e6))"
   ]
  },
  {
   "cell_type": "markdown",
   "id": "3d17d93e-3973-417e-9f2f-42dd6516124a",
   "metadata": {},
   "source": [
    "5. Other examples"
   ]
  },
  {
   "cell_type": "code",
   "execution_count": 9,
   "id": "4abef5a9-9a4e-44a9-8735-e64c6027e88e",
   "metadata": {},
   "outputs": [],
   "source": [
    "@jit\n",
    "def scan_fun(x, y):\n",
    "    # A loop using scan, note how I access y within the body\n",
    "    n = x.shape[0]\n",
    "\n",
    "    def body(carry, x):\n",
    "        curr, i = carry\n",
    "        return (curr + x * y[i], i+1), None\n",
    "\n",
    "    (res, _), _ = lax.scan(body, (0., 0), x)\n",
    "    return res / n\n"
   ]
  },
  {
   "cell_type": "code",
   "execution_count": 10,
   "id": "21b01334-d0f2-44ac-a164-0d9c5a08916e",
   "metadata": {},
   "outputs": [],
   "source": [
    "n = 50\n",
    "m = 150\n",
    "x = jnp.arange(n, dtype=jnp.float32)\n",
    "y = jnp.arange(m, step=2., dtype=jnp.float32)"
   ]
  },
  {
   "cell_type": "code",
   "execution_count": 11,
   "id": "f2e40457-f863-4b6d-86b7-68e136084d56",
   "metadata": {},
   "outputs": [
    {
     "data": {
      "text/plain": [
       "Array([ 0.,  1.,  2.,  3.,  4.,  5.,  6.,  7.,  8.,  9., 10., 11., 12.,\n",
       "       13., 14., 15., 16., 17., 18., 19., 20., 21., 22., 23., 24., 25.,\n",
       "       26., 27., 28., 29., 30., 31., 32., 33., 34., 35., 36., 37., 38.,\n",
       "       39., 40., 41., 42., 43., 44., 45., 46., 47., 48., 49.],      dtype=float32)"
      ]
     },
     "execution_count": 11,
     "metadata": {},
     "output_type": "execute_result"
    }
   ],
   "source": [
    "x"
   ]
  },
  {
   "cell_type": "code",
   "execution_count": 12,
   "id": "6dcd3522-9c1d-4743-a621-ae37f837f4a1",
   "metadata": {},
   "outputs": [
    {
     "data": {
      "text/plain": [
       "Array([  0.,   2.,   4.,   6.,   8.,  10.,  12.,  14.,  16.,  18.,  20.,\n",
       "        22.,  24.,  26.,  28.,  30.,  32.,  34.,  36.,  38.,  40.,  42.,\n",
       "        44.,  46.,  48.,  50.,  52.,  54.,  56.,  58.,  60.,  62.,  64.,\n",
       "        66.,  68.,  70.,  72.,  74.,  76.,  78.,  80.,  82.,  84.,  86.,\n",
       "        88.,  90.,  92.,  94.,  96.,  98., 100., 102., 104., 106., 108.,\n",
       "       110., 112., 114., 116., 118., 120., 122., 124., 126., 128., 130.,\n",
       "       132., 134., 136., 138., 140., 142., 144., 146., 148.],      dtype=float32)"
      ]
     },
     "execution_count": 12,
     "metadata": {},
     "output_type": "execute_result"
    }
   ],
   "source": [
    "y"
   ]
  },
  {
   "cell_type": "code",
   "execution_count": 13,
   "id": "dcfaec49-4446-4cf4-8e61-df7c48bc3c6c",
   "metadata": {},
   "outputs": [
    {
     "data": {
      "text/plain": [
       "Array(1617., dtype=float32)"
      ]
     },
     "execution_count": 13,
     "metadata": {},
     "output_type": "execute_result"
    }
   ],
   "source": [
    "scan_fun(x, y)"
   ]
  },
  {
   "cell_type": "code",
   "execution_count": 2,
   "id": "b7a27114-49f3-4cbe-b30f-44dc732c8124",
   "metadata": {},
   "outputs": [
    {
     "data": {
      "text/plain": [
       "(Array(6., dtype=float32), Array([0., 1., 3.], dtype=float32, weak_type=True))"
      ]
     },
     "execution_count": 2,
     "metadata": {},
     "output_type": "execute_result"
    }
   ],
   "source": [
    "# lax.scan\n",
    "def func11(arr, extra):\n",
    "    ones = jnp.ones(arr.shape)\n",
    "    def body(carry, aelems):\n",
    "        ae1, ae2 = aelems\n",
    "        return (carry + ae1 * ae2 + extra, carry)\n",
    "    return lax.scan(body, 0., (arr, ones))\n",
    "#make_jaxpr(func11)(jnp.arange(16), 5.)\n",
    "func11(jnp.arange(3), 1.)"
   ]
  },
  {
   "cell_type": "code",
   "execution_count": null,
   "id": "d0176c62-e04e-43db-8be7-b703a45fc780",
   "metadata": {},
   "outputs": [],
   "source": []
  }
 ],
 "metadata": {
  "kernelspec": {
   "display_name": "Python 3 (ipykernel)",
   "language": "python",
   "name": "python3"
  },
  "language_info": {
   "codemirror_mode": {
    "name": "ipython",
    "version": 3
   },
   "file_extension": ".py",
   "mimetype": "text/x-python",
   "name": "python",
   "nbconvert_exporter": "python",
   "pygments_lexer": "ipython3",
   "version": "3.11.2"
  }
 },
 "nbformat": 4,
 "nbformat_minor": 5
}
