{
 "cells": [
  {
   "cell_type": "code",
   "execution_count": 1,
   "id": "35ea14d1",
   "metadata": {},
   "outputs": [],
   "source": [
    "import jax.numpy as jnp\n",
    "from jax import grad, jit, lax, random, vmap\n",
    "import numpy as np"
   ]
  },
  {
   "cell_type": "markdown",
   "id": "42650e41",
   "metadata": {},
   "source": [
    "### key"
   ]
  },
  {
   "cell_type": "code",
   "execution_count": 2,
   "id": "38b70080",
   "metadata": {},
   "outputs": [],
   "source": [
    "# Generate key which is used to generate random numbers\n",
    "key = random.PRNGKey(1)"
   ]
  },
  {
   "cell_type": "markdown",
   "id": "c84cee26",
   "metadata": {},
   "source": [
    "### matrix-matrix product using vmap"
   ]
  },
  {
   "cell_type": "code",
   "execution_count": 3,
   "id": "60e7002b",
   "metadata": {},
   "outputs": [
    {
     "data": {
      "text/plain": [
       "(3, 2)"
      ]
     },
     "execution_count": 3,
     "metadata": {},
     "output_type": "execute_result"
    }
   ],
   "source": [
    "# vectors\n",
    "u = jnp.array([1, 2, 3])\n",
    "v = jnp.array([1, 0, -1])\n",
    "\n",
    "# matrix\n",
    "a = jnp.array([[0, 1, 0], [1, 1, 1]])\n",
    "b = jnp.array([[0, 1], [1, 0], [0, 0]])\n",
    "c = 2 * jnp.eye(2)\n",
    "d = jnp.arange(1, 4+1).reshape(2, 2)\n",
    "b.shape"
   ]
  },
  {
   "cell_type": "code",
   "execution_count": 4,
   "id": "bd41b699",
   "metadata": {},
   "outputs": [
    {
     "data": {
      "text/plain": [
       "Array(-2, dtype=int32)"
      ]
     },
     "execution_count": 4,
     "metadata": {},
     "output_type": "execute_result"
    }
   ],
   "source": [
    "# vector product\n",
    "jnp.vdot(u, v)"
   ]
  },
  {
   "cell_type": "code",
   "execution_count": 5,
   "id": "c3134d60",
   "metadata": {},
   "outputs": [
    {
     "data": {
      "text/plain": [
       "Array([2, 6], dtype=int32)"
      ]
     },
     "execution_count": 5,
     "metadata": {},
     "output_type": "execute_result"
    }
   ],
   "source": [
    "# matrix vector product\n",
    "mv = vmap(jnp.vdot, in_axes=(0, None), out_axes=0)\n",
    "mv(a, u)"
   ]
  },
  {
   "cell_type": "code",
   "execution_count": 6,
   "id": "076af632-1be0-4fad-a41b-e7c6b52cd39e",
   "metadata": {},
   "outputs": [
    {
     "data": {
      "text/plain": [
       "Array([2, 6], dtype=int32)"
      ]
     },
     "execution_count": 6,
     "metadata": {},
     "output_type": "execute_result"
    }
   ],
   "source": [
    "# matrix vector product having more arguments\n",
    "def vdot_custom(dt, u, v):\n",
    "    return jnp.vdot(u, v)\n",
    "\n",
    "mv = vmap(vdot_custom, in_axes=(None, 0, None), out_axes=0)\n",
    "mv(0.01, a, u)"
   ]
  },
  {
   "cell_type": "code",
   "execution_count": 7,
   "id": "5137f355",
   "metadata": {},
   "outputs": [
    {
     "data": {
      "text/plain": [
       "Array([2, 1], dtype=int32)"
      ]
     },
     "execution_count": 7,
     "metadata": {},
     "output_type": "execute_result"
    }
   ],
   "source": [
    "# matrix vector product\n",
    "mv = vmap(jnp.vdot, in_axes=(1, None), out_axes=0)\n",
    "mv(b, u)"
   ]
  },
  {
   "cell_type": "code",
   "execution_count": 8,
   "id": "e16d7015",
   "metadata": {},
   "outputs": [
    {
     "data": {
      "text/plain": [
       "Array([[2., 4.],\n",
       "       [6., 8.]], dtype=float32)"
      ]
     },
     "execution_count": 8,
     "metadata": {},
     "output_type": "execute_result"
    }
   ],
   "source": [
    "# matrix matrix product\n",
    "mm = vmap(mv, (None, 1), 1)\n",
    "mm(c, d)"
   ]
  },
  {
   "cell_type": "code",
   "execution_count": 9,
   "id": "bb1ea135",
   "metadata": {},
   "outputs": [
    {
     "data": {
      "text/plain": [
       "(Array([[ 1,  3],\n",
       "        [23, -5]], dtype=int32),\n",
       " Array([[11,  7],\n",
       "        [19, 13]], dtype=int32))"
      ]
     },
     "execution_count": 9,
     "metadata": {},
     "output_type": "execute_result"
    }
   ],
   "source": [
    "a = jnp.array([[1, 3], [23, -5]])\n",
    "b = jnp.array([[11, 7], [19, 13]])\n",
    "a, b"
   ]
  },
  {
   "cell_type": "markdown",
   "id": "f5ccf66c",
   "metadata": {},
   "source": [
    "### batch matrix-matrix product using vmap and matmul"
   ]
  },
  {
   "cell_type": "code",
   "execution_count": 10,
   "id": "b9b025c6",
   "metadata": {},
   "outputs": [],
   "source": [
    "K = 10\n",
    "a_batch = jnp.tile(a, (K, 1, 1))\n",
    "b_batch = jnp.tile(b, (K, 1, 1))"
   ]
  },
  {
   "cell_type": "code",
   "execution_count": 11,
   "id": "8701b8c7",
   "metadata": {},
   "outputs": [
    {
     "data": {
      "text/plain": [
       "(10, 2, 2)"
      ]
     },
     "execution_count": 11,
     "metadata": {},
     "output_type": "execute_result"
    }
   ],
   "source": [
    "# batch matrix matrix product\n",
    "mm_batch = vmap(jnp.matmul, in_axes=(0, 0), out_axes=0)\n",
    "mm_batch(a_batch, b_batch).shape"
   ]
  },
  {
   "cell_type": "code",
   "execution_count": null,
   "id": "6955afc3-010a-433f-a4a2-2d5dbdce4cf6",
   "metadata": {},
   "outputs": [],
   "source": []
  },
  {
   "cell_type": "markdown",
   "id": "3e2c0d47",
   "metadata": {},
   "source": [
    "### batch norm using vmap"
   ]
  },
  {
   "cell_type": "code",
   "execution_count": 12,
   "id": "47b32096",
   "metadata": {},
   "outputs": [
    {
     "data": {
      "text/plain": [
       "(Array([1, 2, 3], dtype=int32), Array(3.7416575, dtype=float32))"
      ]
     },
     "execution_count": 12,
     "metadata": {},
     "output_type": "execute_result"
    }
   ],
   "source": [
    "u, jnp.linalg.norm(u)"
   ]
  },
  {
   "cell_type": "code",
   "execution_count": 13,
   "id": "3586c22b",
   "metadata": {},
   "outputs": [],
   "source": [
    "# batched vector\n",
    "K = 10\n",
    "u_batch = random.normal(key, (K, 1))"
   ]
  },
  {
   "cell_type": "code",
   "execution_count": 14,
   "id": "ccb9aaa2",
   "metadata": {},
   "outputs": [
    {
     "data": {
      "text/plain": [
       "(Array([0.690805  , 0.48744103, 1.155789  , 0.12108463, 0.19598432,\n",
       "        0.5078766 , 0.91568655, 1.70968   , 0.36749417, 0.14315689],      dtype=float32),\n",
       " Array([0.690805  , 0.48744103, 1.155789  , 0.12108463, 0.19598432,\n",
       "        0.5078766 , 0.91568655, 1.70968   , 0.36749417, 0.14315689],      dtype=float32))"
      ]
     },
     "execution_count": 14,
     "metadata": {},
     "output_type": "execute_result"
    }
   ],
   "source": [
    "norm_u_batch = vmap(jnp.linalg.norm, in_axes=0, out_axes=0)(u_batch)\n",
    "norm_u = jnp.linalg.norm(u_batch, axis=1)\n",
    "norm_u_batch, norm_u"
   ]
  },
  {
   "cell_type": "markdown",
   "id": "50b3b5c0",
   "metadata": {},
   "source": [
    "### ReLu layer"
   ]
  },
  {
   "cell_type": "code",
   "execution_count": 15,
   "id": "be577f87",
   "metadata": {},
   "outputs": [],
   "source": [
    "def ReLU(x):\n",
    "    \"\"\" Rectified Linear Unit (ReLU) activation function\n",
    "    \"\"\"\n",
    "    return jnp.maximum(0, x)\n",
    "\n",
    "def relu_layer(params, x):\n",
    "    \"\"\" Simple ReLu layer for single sample\n",
    "    \"\"\"\n",
    "    return ReLU(jnp.dot(params[0], x) + params[1])\n",
    "\n",
    "def relu_layer_batch(params, x):\n",
    "    \"\"\" Error prone batch version\n",
    "    \"\"\"\n",
    "    return ReLU(jnp.dot(x, params[0].T) + params[1])\n",
    "\n",
    "@jit\n",
    "def relu_layer_vmap(params, x):\n",
    "    \"\"\" vmap version of the ReLU layer \n",
    "    \"\"\"\n",
    "    return vmap(relu_layer, in_axes=(None, 0), out_axes=0)(params, x)"
   ]
  },
  {
   "cell_type": "code",
   "execution_count": 16,
   "id": "5a845d01",
   "metadata": {},
   "outputs": [],
   "source": [
    "# batch size\n",
    "batch_dim = 32\n",
    "\n",
    "# input dimension\n",
    "feature_dim = 100\n",
    "\n",
    "# hidden layer dimension\n",
    "hidden_dim = 512\n",
    "\n",
    "# generate a batch of vectors to process\n",
    "x = random.normal(key, (batch_dim, feature_dim))\n",
    "\n",
    "# generate Gaussian weights and biases\n",
    "params = [\n",
    "    random.normal(key, (hidden_dim, feature_dim)),\n",
    "    random.normal(key, (hidden_dim, )),\n",
    "]\n",
    "\n",
    "out1 = jnp.stack([relu_layer(params, x[i, :]) for i in range(x.shape[0])])\n",
    "out2 = relu_layer_batch(params, x)\n",
    "out3 = relu_layer_vmap(params, x)"
   ]
  },
  {
   "cell_type": "code",
   "execution_count": 17,
   "id": "887d82b6",
   "metadata": {},
   "outputs": [
    {
     "data": {
      "text/plain": [
       "Array([[ 0.4935343,  0.       ,  0.       , ...,  0.       ,  0.       ,\n",
       "         0.7005646],\n",
       "       [ 0.       ,  0.       ,  0.       , ...,  0.       ,  0.       ,\n",
       "         0.8145983],\n",
       "       [ 0.       ,  0.       ,  0.       , ...,  0.       ,  0.       ,\n",
       "         7.39748  ],\n",
       "       ...,\n",
       "       [ 6.1218243,  0.       ,  0.       , ...,  6.7441397,  0.       ,\n",
       "        11.019762 ],\n",
       "       [ 0.       ,  0.       , 21.238564 , ...,  0.       ,  0.       ,\n",
       "         0.       ],\n",
       "       [ 0.       ,  6.7150664,  0.       , ...,  0.       ,  0.       ,\n",
       "        10.949038 ]], dtype=float32)"
      ]
     },
     "execution_count": 17,
     "metadata": {},
     "output_type": "execute_result"
    }
   ],
   "source": [
    "out3"
   ]
  },
  {
   "cell_type": "markdown",
   "id": "e099695c",
   "metadata": {},
   "source": [
    "### double well"
   ]
  },
  {
   "cell_type": "code",
   "execution_count": 18,
   "id": "3f3a4673",
   "metadata": {},
   "outputs": [],
   "source": [
    "def doublewell(x):\n",
    "    alpha = jnp.ones(10)\n",
    "    return jnp.sum(alpha * (x**2 - 1) ** 2)\n",
    "\n",
    "def doublewell_batch(x):\n",
    "    alpha = jnp.ones(10)\n",
    "    return jnp.sum(alpha * (x ** 2 -1) **2, axis=1)\n",
    "\n",
    "@jit\n",
    "def doublewell_vmap(x):\n",
    "    return vmap(doublewell, in_axes=0, out_axes=0)(x)\n",
    "    #return jit(vmap(doublewell)(x))"
   ]
  },
  {
   "cell_type": "code",
   "execution_count": 19,
   "id": "fd7d199a",
   "metadata": {},
   "outputs": [],
   "source": [
    "d = 10\n",
    "K = 100\n",
    "x = random.normal(key, (K, d))\n",
    "\n",
    "out1 = jnp.stack([doublewell(x[i, :]) for i in range(x.shape[0])])\n",
    "out2 = doublewell_batch(x)\n",
    "out3 = doublewell_vmap(x)"
   ]
  },
  {
   "cell_type": "code",
   "execution_count": 20,
   "id": "2fbc1ebb",
   "metadata": {},
   "outputs": [
    {
     "data": {
      "text/plain": [
       "Array([ True,  True,  True,  True,  True,  True,  True, False,  True,\n",
       "        True, False,  True,  True,  True,  True,  True,  True,  True,\n",
       "       False,  True,  True,  True,  True,  True, False,  True,  True,\n",
       "       False,  True, False,  True,  True,  True, False,  True,  True,\n",
       "        True,  True, False,  True,  True, False,  True, False,  True,\n",
       "       False, False, False, False, False,  True,  True,  True,  True,\n",
       "       False, False,  True,  True,  True,  True, False, False,  True,\n",
       "        True,  True, False,  True,  True,  True,  True, False,  True,\n",
       "        True, False, False,  True, False,  True,  True,  True, False,\n",
       "        True, False,  True,  True,  True, False, False,  True,  True,\n",
       "        True,  True,  True,  True,  True,  True,  True,  True,  True,\n",
       "        True], dtype=bool)"
      ]
     },
     "execution_count": 20,
     "metadata": {},
     "output_type": "execute_result"
    }
   ],
   "source": [
    "(out2 == out3)"
   ]
  },
  {
   "cell_type": "markdown",
   "id": "10b8ed95-580c-42d2-9a62-b5f365534446",
   "metadata": {},
   "source": [
    "### TracerBoolConversionError"
   ]
  },
  {
   "cell_type": "markdown",
   "id": "10c36dd2-6bd4-4ef0-9f23-971dc1e6c3d6",
   "metadata": {},
   "source": [
    "#### if-else statements"
   ]
  },
  {
   "cell_type": "code",
   "execution_count": 6,
   "id": "9dc877a3",
   "metadata": {},
   "outputs": [],
   "source": [
    "def f(x):\n",
    "    if x > 0:\n",
    "        return True\n",
    "    else:\n",
    "        return False\n",
    "    \n",
    "def g(x):\n",
    "    return jnp.where(x > 0, True, False)"
   ]
  },
  {
   "cell_type": "code",
   "execution_count": 7,
   "id": "bc358b66",
   "metadata": {},
   "outputs": [],
   "source": [
    "# batch size\n",
    "K = 10\n",
    "\n",
    "x = random.normal(key, (K,))"
   ]
  },
  {
   "cell_type": "code",
   "execution_count": 13,
   "id": "8ca71257",
   "metadata": {},
   "outputs": [
    {
     "data": {
      "text/plain": [
       "Array([ True, False, False,  True, False, False,  True,  True, False,\n",
       "        True], dtype=bool)"
      ]
     },
     "execution_count": 13,
     "metadata": {},
     "output_type": "execute_result"
    }
   ],
   "source": [
    "#jit(f)(x)\n",
    "jit(vmap(g))(x)"
   ]
  },
  {
   "cell_type": "markdown",
   "id": "ab71c72d-b7f8-4cf8-9a07-29e4cee8099c",
   "metadata": {},
   "source": [
    "#### While loops"
   ]
  },
  {
   "cell_type": "code",
   "execution_count": 21,
   "id": "ca3cd5d7-09cc-4324-a19e-efe5cf3d0a2d",
   "metadata": {},
   "outputs": [],
   "source": [
    "cond_fn = lambda x: x <= 0\n",
    "body_fn = lambda x: x + 1\n",
    "\n",
    "def f(x):\n",
    "    while cond_fn(x):\n",
    "        x = body_fn(x)\n",
    "    return x\n",
    "    \n",
    "def g(x):\n",
    "    return lax.while_loop(cond_fn, body_fn, x)"
   ]
  },
  {
   "cell_type": "code",
   "execution_count": 24,
   "id": "73dc3b3d-7938-45b9-8fc5-95fc3f2017e1",
   "metadata": {},
   "outputs": [
    {
     "data": {
      "text/plain": [
       "Array([False,  True,  True], dtype=bool)"
      ]
     },
     "execution_count": 24,
     "metadata": {},
     "output_type": "execute_result"
    }
   ],
   "source": [
    "#f(0), f(jnp.zeros(1))\n",
    "#jit(f)(jnp.zeros(1))\n",
    "#vmap(f)(np.arange(3.))\n",
    "jit(vmap(g))(np.arange(3.))"
   ]
  },
  {
   "cell_type": "markdown",
   "id": "d5c42163-5da5-4bc0-a8d6-fa0bb3203184",
   "metadata": {},
   "source": [
    "#### Where"
   ]
  },
  {
   "cell_type": "code",
   "execution_count": 36,
   "id": "94b2e2cc-651e-43a7-b71e-36f3eaed6f36",
   "metadata": {},
   "outputs": [
    {
     "data": {
      "text/plain": [
       "Array([ 0.,  1.,  2., nan, nan, nan, nan, nan, nan, nan],      dtype=float32, weak_type=True)"
      ]
     },
     "execution_count": 36,
     "metadata": {},
     "output_type": "execute_result"
    }
   ],
   "source": [
    "N = 10\n",
    "\n",
    "def f(x):\n",
    "    return jnp.where(x <= 5)[0]\n",
    "\n",
    "def g(x):\n",
    "    return jnp.argwhere(x <= 5, size=N, fill_value=jnp.nan).squeeze()\n",
    "\n",
    "x = jnp.arange(0, N+2, 2)\n",
    "f(x), g(x)\n",
    "#jit(f)(x)\n",
    "jit(g)(x)"
   ]
  },
  {
   "cell_type": "code",
   "execution_count": null,
   "id": "6169104e-aa19-4c85-b7b2-cfb19803b661",
   "metadata": {},
   "outputs": [],
   "source": []
  }
 ],
 "metadata": {
  "kernelspec": {
   "display_name": "Python 3 (ipykernel)",
   "language": "python",
   "name": "python3"
  },
  "language_info": {
   "codemirror_mode": {
    "name": "ipython",
    "version": 3
   },
   "file_extension": ".py",
   "mimetype": "text/x-python",
   "name": "python",
   "nbconvert_exporter": "python",
   "pygments_lexer": "ipython3",
   "version": "3.11.2"
  }
 },
 "nbformat": 4,
 "nbformat_minor": 5
}
