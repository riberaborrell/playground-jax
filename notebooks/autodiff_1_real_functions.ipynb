{
 "cells": [
  {
   "cell_type": "markdown",
   "id": "7615099d",
   "metadata": {},
   "source": [
    "# Real functions\n",
    "Consider a real-valued function of a real variable $f: \\mathbb{R} \\rightarrow \\mathbb{R}$ given by\n",
    "$$\n",
    "f(x) = \\frac{1}{2}{x}^2. \\quad\n",
    "$$\n",
    "Its derivative is\n",
    "$$\n",
    "\\frac{d}{d x}f(x) = x. \n",
    "$$"
   ]
  },
  {
   "cell_type": "code",
   "execution_count": 115,
   "id": "df3a3436",
   "metadata": {},
   "outputs": [],
   "source": [
    "import jax.numpy as jnp\n",
    "from jax import grad\n",
    "from jax import vmap\n",
    "from jax import random\n",
    "\n",
    "key = random.PRNGKey(0)"
   ]
  },
  {
   "cell_type": "code",
   "execution_count": 116,
   "id": "aa433214-76b4-49ac-bcec-951507efd3cf",
   "metadata": {},
   "outputs": [],
   "source": [
    "# parameters\n",
    "batch_size = 3#int(1e5)"
   ]
  },
  {
   "cell_type": "markdown",
   "id": "8af168fc",
   "metadata": {},
   "source": [
    "1. no batch input"
   ]
  },
  {
   "cell_type": "code",
   "execution_count": 117,
   "id": "0d247a62-2152-41f8-b2d2-e48908069107",
   "metadata": {},
   "outputs": [],
   "source": [
    "def f(x):\n",
    "    return 0.5 * x**2\n",
    "\n",
    "def der1_f(x):\n",
    "    return grad(f)(x)"
   ]
  },
  {
   "cell_type": "code",
   "execution_count": 118,
   "id": "9803a710-2966-4487-b052-7d7fb95b2d6c",
   "metadata": {},
   "outputs": [
    {
     "data": {
      "text/plain": [
       "(Array(-0.20584226, dtype=float32), Array(-0.20584226, dtype=float32))"
      ]
     },
     "execution_count": 118,
     "metadata": {},
     "output_type": "execute_result"
    }
   ],
   "source": [
    "# initialize input\n",
    "x = random.normal(key)\n",
    "\n",
    "# compute gradients\n",
    "grad_y = grad_f(x)\n",
    "\n",
    "x, grad_y"
   ]
  },
  {
   "cell_type": "markdown",
   "id": "8e2840c4",
   "metadata": {},
   "source": [
    "2. Batch input"
   ]
  },
  {
   "cell_type": "code",
   "execution_count": 119,
   "id": "5cbfd319-f6a5-492f-9c68-abdb690ce78f",
   "metadata": {},
   "outputs": [],
   "source": [
    "def f_vect(inputs):\n",
    "    return vmap(f)(inputs)\n",
    "    \n",
    "def der1_f_vect(inputs):\n",
    "    return vmap(der1_f)(inputs)"
   ]
  },
  {
   "cell_type": "code",
   "execution_count": 120,
   "id": "050a1421",
   "metadata": {},
   "outputs": [],
   "source": [
    "x = random.normal(key, (batch_size,))"
   ]
  },
  {
   "cell_type": "code",
   "execution_count": 121,
   "id": "4dd6de6f-1715-487f-a32b-c07ee65d0389",
   "metadata": {},
   "outputs": [
    {
     "name": "stdout",
     "output_type": "stream",
     "text": [
      "CPU times: user 1e+03 ns, sys: 0 ns, total: 1e+03 ns\n",
      "Wall time: 2.86 µs\n"
     ]
    }
   ],
   "source": [
    "%time\n",
    "\n",
    "# compute gradients\n",
    "grad_y = grad_f_vect(x)"
   ]
  },
  {
   "cell_type": "code",
   "execution_count": 122,
   "id": "3fda7d9b-7b36-4f3b-8ef1-4c1f6569277e",
   "metadata": {},
   "outputs": [
    {
     "data": {
      "text/plain": [
       "(Array([ 1.8160863 , -0.48262316,  0.33988908], dtype=float32),\n",
       " Array([ 1.8160863 , -0.48262316,  0.33988908], dtype=float32))"
      ]
     },
     "execution_count": 122,
     "metadata": {},
     "output_type": "execute_result"
    }
   ],
   "source": [
    "x, grad_y"
   ]
  },
  {
   "cell_type": "markdown",
   "id": "15d85827-9163-4668-bb2f-c137ec09ea4a",
   "metadata": {},
   "source": [
    "3. k-th derivatives"
   ]
  },
  {
   "cell_type": "code",
   "execution_count": 123,
   "id": "38ab6bc7-68bb-4b45-ba3b-465a2ae29dce",
   "metadata": {},
   "outputs": [],
   "source": [
    "def der2_f(x):\n",
    "    #return grad(der1_f)(x)\n",
    "    return grad(grad(f))(x)\n",
    "\n",
    "def der3_f(x):\n",
    "    #return grad(der2_f)(x)\n",
    "    return grad(grad(grad(f)))(x)"
   ]
  },
  {
   "cell_type": "code",
   "execution_count": 124,
   "id": "a709d3d4-e866-45a5-8c3c-8a89f959cb80",
   "metadata": {},
   "outputs": [
    {
     "data": {
      "text/plain": [
       "(Array(-0.20584226, dtype=float32),\n",
       " Array(-0.20584226, dtype=float32),\n",
       " Array(1., dtype=float32),\n",
       " Array(0., dtype=float32))"
      ]
     },
     "execution_count": 124,
     "metadata": {},
     "output_type": "execute_result"
    }
   ],
   "source": [
    "# initialize input\n",
    "x = random.normal(key)\n",
    "\n",
    "# input, first, second and third derivative\n",
    "#x, grad(f)(x), grad(grad(f))(x), grad(grad(grad((f))))(x)\n",
    "x, der1_f(x), der2_f(x), der3_f(x)"
   ]
  },
  {
   "cell_type": "markdown",
   "id": "3918bffc-d170-4f07-a501-e9aebc7ff1b9",
   "metadata": {},
   "source": [
    "4. k-th derivatives (with batch input)"
   ]
  },
  {
   "cell_type": "code",
   "execution_count": 125,
   "id": "a7b61b00-b34b-48b3-bf2a-c2835d1e8979",
   "metadata": {},
   "outputs": [],
   "source": [
    "def der2_f_vect(inputs):\n",
    "    return vmap(der2_f(inputs))"
   ]
  },
  {
   "cell_type": "code",
   "execution_count": 126,
   "id": "4a79b23d-cdaa-4ab3-9e01-7fcfa0c46747",
   "metadata": {},
   "outputs": [],
   "source": [
    "x = random.normal(key, (batch_size,))"
   ]
  },
  {
   "cell_type": "code",
   "execution_count": 127,
   "id": "8c3d5560-30b4-48f4-8587-2a109e71a110",
   "metadata": {},
   "outputs": [
    {
     "ename": "TypeError",
     "evalue": "Gradient only defined for scalar-output functions. Output had shape: (3,).",
     "output_type": "error",
     "traceback": [
      "\u001b[0;31m---------------------------------------------------------------------------\u001b[0m",
      "\u001b[0;31mTypeError\u001b[0m                                 Traceback (most recent call last)",
      "Cell \u001b[0;32mIn[127], line 1\u001b[0m\n\u001b[0;32m----> 1\u001b[0m x, der1_f_vect(x), \u001b[43mder2_f_vect\u001b[49m\u001b[43m(\u001b[49m\u001b[43mx\u001b[49m\u001b[43m)\u001b[49m \n",
      "Cell \u001b[0;32mIn[125], line 2\u001b[0m, in \u001b[0;36mder2_f_vect\u001b[0;34m(inputs)\u001b[0m\n\u001b[1;32m      1\u001b[0m \u001b[38;5;28;01mdef\u001b[39;00m \u001b[38;5;21mder2_f_vect\u001b[39m(inputs):\n\u001b[0;32m----> 2\u001b[0m     \u001b[38;5;28;01mreturn\u001b[39;00m vmap(\u001b[43mder2_f\u001b[49m\u001b[43m(\u001b[49m\u001b[43minputs\u001b[49m\u001b[43m)\u001b[49m)\n",
      "Cell \u001b[0;32mIn[123], line 3\u001b[0m, in \u001b[0;36mder2_f\u001b[0;34m(x)\u001b[0m\n\u001b[1;32m      1\u001b[0m \u001b[38;5;28;01mdef\u001b[39;00m \u001b[38;5;21mder2_f\u001b[39m(x):\n\u001b[1;32m      2\u001b[0m     \u001b[38;5;66;03m#return grad(der1_f)(x)\u001b[39;00m\n\u001b[0;32m----> 3\u001b[0m     \u001b[38;5;28;01mreturn\u001b[39;00m \u001b[43mgrad\u001b[49m\u001b[43m(\u001b[49m\u001b[43mgrad\u001b[49m\u001b[43m(\u001b[49m\u001b[43mf\u001b[49m\u001b[43m)\u001b[49m\u001b[43m)\u001b[49m\u001b[43m(\u001b[49m\u001b[43mx\u001b[49m\u001b[43m)\u001b[49m\n",
      "    \u001b[0;31m[... skipping hidden 14 frame]\u001b[0m\n",
      "File \u001b[0;32m~/Dokumente/packages/playground-jax/venv/lib/python3.11/site-packages/jax/_src/api.py:756\u001b[0m, in \u001b[0;36m_check_scalar\u001b[0;34m(x)\u001b[0m\n\u001b[1;32m    754\u001b[0m \u001b[38;5;28;01mif\u001b[39;00m \u001b[38;5;28misinstance\u001b[39m(aval, ShapedArray):\n\u001b[1;32m    755\u001b[0m   \u001b[38;5;28;01mif\u001b[39;00m aval\u001b[38;5;241m.\u001b[39mshape \u001b[38;5;241m!=\u001b[39m ():\n\u001b[0;32m--> 756\u001b[0m     \u001b[38;5;28;01mraise\u001b[39;00m \u001b[38;5;167;01mTypeError\u001b[39;00m(msg(\u001b[38;5;124mf\u001b[39m\u001b[38;5;124m\"\u001b[39m\u001b[38;5;124mhad shape: \u001b[39m\u001b[38;5;132;01m{\u001b[39;00maval\u001b[38;5;241m.\u001b[39mshape\u001b[38;5;132;01m}\u001b[39;00m\u001b[38;5;124m\"\u001b[39m))\n\u001b[1;32m    757\u001b[0m \u001b[38;5;28;01melse\u001b[39;00m:\n\u001b[1;32m    758\u001b[0m   \u001b[38;5;28;01mraise\u001b[39;00m \u001b[38;5;167;01mTypeError\u001b[39;00m(msg(\u001b[38;5;124mf\u001b[39m\u001b[38;5;124m\"\u001b[39m\u001b[38;5;124mhad abstract value \u001b[39m\u001b[38;5;132;01m{\u001b[39;00maval\u001b[38;5;132;01m}\u001b[39;00m\u001b[38;5;124m\"\u001b[39m))\n",
      "\u001b[0;31mTypeError\u001b[0m: Gradient only defined for scalar-output functions. Output had shape: (3,)."
     ]
    }
   ],
   "source": [
    "x, der1_f_vect(x), der2_f_vect(x) "
   ]
  },
  {
   "cell_type": "code",
   "execution_count": 98,
   "id": "ef2a0b93-900b-49d6-b55c-d72e519e35ec",
   "metadata": {},
   "outputs": [
    {
     "ename": "TypeError",
     "evalue": "Gradient only defined for scalar-output functions. Output had shape: (3,).",
     "output_type": "error",
     "traceback": [
      "\u001b[0;31m---------------------------------------------------------------------------\u001b[0m",
      "\u001b[0;31mTypeError\u001b[0m                                 Traceback (most recent call last)",
      "Cell \u001b[0;32mIn[98], line 1\u001b[0m\n\u001b[0;32m----> 1\u001b[0m x, vmap(\u001b[43mgrad\u001b[49m\u001b[43m(\u001b[49m\u001b[43mf\u001b[49m\u001b[43m)\u001b[49m\u001b[43m(\u001b[49m\u001b[43mx\u001b[49m\u001b[43m)\u001b[49m)\u001b[38;5;66;03m#, vmap(grad(grad(f)))(x)\u001b[39;00m\n",
      "    \u001b[0;31m[... skipping hidden 4 frame]\u001b[0m\n",
      "File \u001b[0;32m~/Dokumente/packages/playground-jax/venv/lib/python3.11/site-packages/jax/_src/api.py:756\u001b[0m, in \u001b[0;36m_check_scalar\u001b[0;34m(x)\u001b[0m\n\u001b[1;32m    754\u001b[0m \u001b[38;5;28;01mif\u001b[39;00m \u001b[38;5;28misinstance\u001b[39m(aval, ShapedArray):\n\u001b[1;32m    755\u001b[0m   \u001b[38;5;28;01mif\u001b[39;00m aval\u001b[38;5;241m.\u001b[39mshape \u001b[38;5;241m!=\u001b[39m ():\n\u001b[0;32m--> 756\u001b[0m     \u001b[38;5;28;01mraise\u001b[39;00m \u001b[38;5;167;01mTypeError\u001b[39;00m(msg(\u001b[38;5;124mf\u001b[39m\u001b[38;5;124m\"\u001b[39m\u001b[38;5;124mhad shape: \u001b[39m\u001b[38;5;132;01m{\u001b[39;00maval\u001b[38;5;241m.\u001b[39mshape\u001b[38;5;132;01m}\u001b[39;00m\u001b[38;5;124m\"\u001b[39m))\n\u001b[1;32m    757\u001b[0m \u001b[38;5;28;01melse\u001b[39;00m:\n\u001b[1;32m    758\u001b[0m   \u001b[38;5;28;01mraise\u001b[39;00m \u001b[38;5;167;01mTypeError\u001b[39;00m(msg(\u001b[38;5;124mf\u001b[39m\u001b[38;5;124m\"\u001b[39m\u001b[38;5;124mhad abstract value \u001b[39m\u001b[38;5;132;01m{\u001b[39;00maval\u001b[38;5;132;01m}\u001b[39;00m\u001b[38;5;124m\"\u001b[39m))\n",
      "\u001b[0;31mTypeError\u001b[0m: Gradient only defined for scalar-output functions. Output had shape: (3,)."
     ]
    }
   ],
   "source": [
    "x, vmap(grad(f)(x))#, vmap(grad(grad(f)))(x)"
   ]
  },
  {
   "cell_type": "code",
   "execution_count": null,
   "id": "6d7cd4e8-1dda-49da-890d-9b1dad6c8846",
   "metadata": {},
   "outputs": [],
   "source": []
  }
 ],
 "metadata": {
  "kernelspec": {
   "display_name": "Python 3 (ipykernel)",
   "language": "python",
   "name": "python3"
  },
  "language_info": {
   "codemirror_mode": {
    "name": "ipython",
    "version": 3
   },
   "file_extension": ".py",
   "mimetype": "text/x-python",
   "name": "python",
   "nbconvert_exporter": "python",
   "pygments_lexer": "ipython3",
   "version": "3.11.2"
  }
 },
 "nbformat": 4,
 "nbformat_minor": 5
}
