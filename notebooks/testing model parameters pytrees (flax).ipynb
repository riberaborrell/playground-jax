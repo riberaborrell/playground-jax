{
 "cells": [
  {
   "cell_type": "code",
   "execution_count": 65,
   "id": "caf7dd92",
   "metadata": {},
   "outputs": [],
   "source": [
    "from jax import numpy as jnp, random, tree_util, nn\n",
    "from jax import jacfwd, jacrev, jvp, vjp, jit, grad, vmap\n",
    "from flax import linen as nn"
   ]
  },
  {
   "cell_type": "code",
   "execution_count": 66,
   "id": "a6cdbe53-8bc0-41b1-be53-5e4743c0025b",
   "metadata": {},
   "outputs": [],
   "source": [
    "# set seed, create key\n",
    "key = random.PRNGKey(seed=1)"
   ]
  },
  {
   "cell_type": "markdown",
   "id": "249bd0ef-2612-4e8f-adf7-e3e8a7ab3106",
   "metadata": {},
   "source": [
    "1. create model"
   ]
  },
  {
   "cell_type": "code",
   "execution_count": 67,
   "id": "cd139adf-7e04-4d19-8c60-ddd802fe8235",
   "metadata": {},
   "outputs": [],
   "source": [
    "# define model\n",
    "d = 2\n",
    "d_in, d_out = d, d\n",
    "model = nn.Dense(d_out)\n",
    "\n",
    "# initialize parameters\n",
    "key, split = random.split(key)\n",
    "params = model.init(key, jnp.ones(d_in))"
   ]
  },
  {
   "cell_type": "markdown",
   "id": "fbd0560a",
   "metadata": {},
   "source": [
    "2. parameters pytree"
   ]
  },
  {
   "cell_type": "code",
   "execution_count": 71,
   "id": "46b2a20b-93c5-4a1e-913a-ca80004e9f26",
   "metadata": {},
   "outputs": [
    {
     "name": "stdout",
     "output_type": "stream",
     "text": [
      "{'params': {'kernel': Array([[-0.67368186,  0.05756453],\n",
      "       [-0.38660565, -0.07138228]], dtype=float32), 'bias': Array([0., 0.], dtype=float32)}}\n"
     ]
    }
   ],
   "source": [
    "# print pytree representation\n",
    "#type(params)\n",
    "print(repr(params))"
   ]
  },
  {
   "cell_type": "code",
   "execution_count": 72,
   "id": "a6dc6c8d-791b-44c4-9738-4b9e0f8cfc01",
   "metadata": {},
   "outputs": [
    {
     "name": "stdout",
     "output_type": "stream",
     "text": [
      "Number of leaves: 2\n"
     ]
    }
   ],
   "source": [
    "# get leaves\n",
    "leaves = tree_util.tree_leaves(params)\n",
    "print(f\"Number of leaves: {len(leaves)}\")"
   ]
  },
  {
   "cell_type": "code",
   "execution_count": 73,
   "id": "1bca3a6d-1113-4dbf-ad61-d1168a5c493e",
   "metadata": {},
   "outputs": [
    {
     "data": {
      "text/plain": [
       "{'params': {'bias': (2,), 'kernel': (2, 2)}}"
      ]
     },
     "execution_count": 73,
     "metadata": {},
     "output_type": "execute_result"
    }
   ],
   "source": [
    "# check shapes\n",
    "tree_util.tree_map(lambda x: x.shape, params)"
   ]
  },
  {
   "cell_type": "code",
   "execution_count": 74,
   "id": "e07d58f5-658c-4fd3-a579-c6503d84c62b",
   "metadata": {},
   "outputs": [
    {
     "data": {
      "text/plain": [
       "jaxlib.xla_extension.pytree.PyTreeDef"
      ]
     },
     "execution_count": 74,
     "metadata": {},
     "output_type": "execute_result"
    }
   ],
   "source": [
    "# get leaves and tree structure\n",
    "leaves, params_treedef = tree_util.tree_flatten(params)\n",
    "type(params_treedef)"
   ]
  },
  {
   "cell_type": "markdown",
   "id": "853c315e",
   "metadata": {},
   "source": [
    "3. modify pytrees"
   ]
  },
  {
   "cell_type": "code",
   "execution_count": 75,
   "id": "dad41b12-2406-4174-a0b3-013c88e95279",
   "metadata": {},
   "outputs": [
    {
     "data": {
      "text/plain": [
       "{'params': {'bias': (2,), 'kernel': (2, 2)}}"
      ]
     },
     "execution_count": 75,
     "metadata": {},
     "output_type": "execute_result"
    }
   ],
   "source": [
    "# zero pytree\n",
    "updated_params = tree_util.tree_map(jnp.zeros_like, params)\n",
    "tree_util.tree_map(lambda x: x.shape, updated_params)"
   ]
  },
  {
   "cell_type": "code",
   "execution_count": 77,
   "id": "db7fbc97-a5ec-4568-b53e-87a77a7ef051",
   "metadata": {},
   "outputs": [
    {
     "data": {
      "text/plain": [
       "{'params': {'bias': (100, 2), 'kernel': (100, 2, 2)}}"
      ]
     },
     "execution_count": 77,
     "metadata": {},
     "output_type": "execute_result"
    }
   ],
   "source": [
    "# zeros pytree with batch\n",
    "batch_size = 100\n",
    "leaves_batched = list(map(lambda l: jnp.zeros((batch_size,) + l.shape), leaves))\n",
    "updated_params = tree_util.tree_unflatten(params_treedef, leaves_batched)\n",
    "tree_util.tree_map(lambda x: x.shape, updated_params)"
   ]
  },
  {
   "cell_type": "code",
   "execution_count": 78,
   "id": "9e0dd645-1ce8-4d06-a81d-466dbf571df4",
   "metadata": {},
   "outputs": [],
   "source": [
    "# constant pytree\n",
    "a = 2.\n",
    "updated_params = tree_util.tree_unflatten(params_treedef, list(map(lambda l: a * jnp.ones_like(l), leaves)))\n",
    "#repr(updated_params)"
   ]
  },
  {
   "cell_type": "code",
   "execution_count": 79,
   "id": "ba47fdb7-179e-4aae-a8ec-5f43da2192be",
   "metadata": {},
   "outputs": [
    {
     "data": {
      "text/plain": [
       "{'params': {'bias': Array([2., 2.], dtype=float32),\n",
       "  'kernel': Array([[1.3263181, 2.0575645],\n",
       "         [1.6133944, 1.9286177]], dtype=float32)}}"
      ]
     },
     "execution_count": 79,
     "metadata": {},
     "output_type": "execute_result"
    }
   ],
   "source": [
    "# operations between pytrees\n",
    "tree_util.tree_map(lambda x, y: x + y, params, updated_params)"
   ]
  },
  {
   "cell_type": "markdown",
   "id": "5863803c-6d48-40c2-a410-d1416b59147c",
   "metadata": {},
   "source": [
    "4. Jacobian"
   ]
  },
  {
   "cell_type": "code",
   "execution_count": 98,
   "id": "2d3de86b-324d-40f7-b9a6-1df169cc4910",
   "metadata": {},
   "outputs": [],
   "source": [
    "x = jnp.ones(d)\n",
    "u = model.apply(params, x)\n",
    "#x.shape, y.shape, tree_util.tree_map(lambda x: x.shape, params)\n",
    "\n",
    "# model with fixed input\n",
    "f = lambda p: model.apply(p, x)"
   ]
  },
  {
   "cell_type": "code",
   "execution_count": 99,
   "id": "f8e2ba34-e80e-49c2-a903-78c9a2e9eb01",
   "metadata": {},
   "outputs": [
    {
     "data": {
      "text/plain": [
       "{'params': {'bias': (2, 2), 'kernel': (2, 2, 2)}}"
      ]
     },
     "execution_count": 99,
     "metadata": {},
     "output_type": "execute_result"
    }
   ],
   "source": [
    "#jac_tree = jacfwd(f)(params)\n",
    "jac_tree = jacfwd(model.apply)(params, x)\n",
    "tree_util.tree_map(lambda x: x.shape, jac_tree)"
   ]
  },
  {
   "cell_type": "code",
   "execution_count": 100,
   "id": "e9f0bb17-793a-4127-a44d-67edb950a1ea",
   "metadata": {},
   "outputs": [
    {
     "name": "stdout",
     "output_type": "stream",
     "text": [
      "CPU times: user 10.1 ms, sys: 667 µs, total: 10.7 ms\n",
      "Wall time: 10.1 ms\n"
     ]
    }
   ],
   "source": [
    "%time jac_tree = jacrev(model.apply)(params, x)"
   ]
  },
  {
   "cell_type": "code",
   "execution_count": 101,
   "id": "76339486-e5b7-4f59-94d8-6cc45fd1dc29",
   "metadata": {},
   "outputs": [],
   "source": [
    "batch_size = int(1e3)\n",
    "x = jnp.ones((batch_size, d))\n",
    "f = lambda p: model.apply(p, x)"
   ]
  },
  {
   "cell_type": "code",
   "execution_count": 104,
   "id": "528aefc8-2a9c-401d-88da-2353d97d3a5d",
   "metadata": {},
   "outputs": [
    {
     "data": {
      "text/plain": [
       "{'params': {'bias': (1000, 2, 2), 'kernel': (1000, 2, 2, 2)}}"
      ]
     },
     "execution_count": 104,
     "metadata": {},
     "output_type": "execute_result"
    }
   ],
   "source": [
    "#jac_tree = jacfwd(model.apply)(params, x)\n",
    "jac_tree = jacfwd(f)(params)\n",
    "tree_util.tree_map(lambda x: x.shape, jac_tree)"
   ]
  },
  {
   "cell_type": "code",
   "execution_count": 105,
   "id": "aa16a686-6fd5-41d0-98ff-1ce640f22b2f",
   "metadata": {},
   "outputs": [
    {
     "name": "stdout",
     "output_type": "stream",
     "text": [
      "CPU times: user 46.4 ms, sys: 25.1 ms, total: 71.6 ms\n",
      "Wall time: 44.8 ms\n"
     ]
    }
   ],
   "source": [
    "%time jac_tree = jacrev(model.apply)(params, x)"
   ]
  },
  {
   "cell_type": "code",
   "execution_count": 106,
   "id": "f35500bf-f70e-4bd9-9112-0795084e3c45",
   "metadata": {},
   "outputs": [
    {
     "data": {
      "text/plain": [
       "{'params': {'bias': (1000, 2, 2), 'kernel': (1000, 2, 2, 2)}}"
      ]
     },
     "execution_count": 106,
     "metadata": {},
     "output_type": "execute_result"
    }
   ],
   "source": [
    "tree_util.tree_map(lambda x: x.shape, jac_tree)"
   ]
  },
  {
   "cell_type": "markdown",
   "id": "e9db2642-309d-4cda-9ec9-7ef08615d7eb",
   "metadata": {},
   "source": [
    "5. JVP and VJP"
   ]
  },
  {
   "cell_type": "code",
   "execution_count": 148,
   "id": "bb88260d-8701-45cb-af4e-11a517478e5a",
   "metadata": {},
   "outputs": [
    {
     "data": {
      "text/plain": [
       "((2,), (2,), Array([-1.0602875 , -0.01381774], dtype=float32))"
      ]
     },
     "execution_count": 148,
     "metadata": {},
     "output_type": "execute_result"
    }
   ],
   "source": [
    "x = jnp.ones(d)\n",
    "f = lambda p: model.apply(p, x)\n",
    "y = f(params)\n",
    "x.shape, y.shape, y"
   ]
  },
  {
   "cell_type": "code",
   "execution_count": 149,
   "id": "c5246296-66a1-4e62-9c02-b0338daa8445",
   "metadata": {},
   "outputs": [
    {
     "data": {
      "text/plain": [
       "(Array([-1.0602875 , -0.01381774], dtype=float32),\n",
       " Array([-1.0602875 , -0.01381774], dtype=float32))"
      ]
     },
     "execution_count": 149,
     "metadata": {},
     "output_type": "execute_result"
    }
   ],
   "source": [
    "# jacobian vector product\n",
    "jvp(f, (params,), (params,))"
   ]
  },
  {
   "cell_type": "code",
   "execution_count": 150,
   "id": "75fa5e0a-daac-45f9-a39e-1621821c7a7d",
   "metadata": {},
   "outputs": [
    {
     "name": "stdout",
     "output_type": "stream",
     "text": [
      "{'params': {'bias': (2,), 'kernel': (2, 2)}}\n",
      "{'params': {'bias': Array([-1.0602875 , -0.01381774], dtype=float32), 'kernel': Array([[-1.0602875 , -0.01381774],\n",
      "       [-1.0602875 , -0.01381774]], dtype=float32)}}\n"
     ]
    }
   ],
   "source": [
    "# vector jacobian product\n",
    "y, vjp_fun = vjp(f, params)\n",
    "vjp_tree = vjp_fun(y)[0]\n",
    "print(tree_util.tree_map(lambda x: x.shape, vjp_tree))\n",
    "print(repr(vjp_tree))"
   ]
  },
  {
   "cell_type": "code",
   "execution_count": 155,
   "id": "2c2a4e17-9be4-4d3e-86c9-7e2e8c537e46",
   "metadata": {},
   "outputs": [
    {
     "name": "stdout",
     "output_type": "stream",
     "text": [
      "({'params': {'bias': (2,), 'kernel': (2, 2)}}, (2,))\n",
      "({'params': {'bias': Array([-1.0602875 , -0.01381774], dtype=float32), 'kernel': Array([[-1.0602875 , -0.01381774],\n",
      "       [-1.0602875 , -0.01381774]], dtype=float32)}}, Array([0.71350104, 0.41089946], dtype=float32))\n"
     ]
    }
   ],
   "source": [
    "# vector jacobian product\n",
    "y, vjp_fun = vjp(model.apply, params, x)\n",
    "vjp_tree = vjp_fun(y)\n",
    "print(tree_util.tree_map(lambda x: x.shape, vjp_tree))\n",
    "print(repr(vjp_tree))"
   ]
  },
  {
   "cell_type": "markdown",
   "id": "a6edb0a8-0f5d-48fd-afca-2f6d5c7bf63e",
   "metadata": {},
   "source": [
    "with batch"
   ]
  },
  {
   "cell_type": "code",
   "execution_count": 157,
   "id": "bb1b830a-f7c5-43d7-833f-ab50a12523ce",
   "metadata": {},
   "outputs": [
    {
     "data": {
      "text/plain": [
       "(10, 2)"
      ]
     },
     "execution_count": 157,
     "metadata": {},
     "output_type": "execute_result"
    }
   ],
   "source": [
    "batch_size = int(1e1)\n",
    "x = jnp.ones((batch_size, d))\n",
    "f = lambda p: model.apply(p, x)\n",
    "f(params).shape"
   ]
  },
  {
   "cell_type": "code",
   "execution_count": 161,
   "id": "231aff48-df10-4b16-aa8f-03f9bc7fe090",
   "metadata": {},
   "outputs": [
    {
     "data": {
      "text/plain": [
       "((10, 2),\n",
       " ({'params': {'bias': Array([-10.602875  ,  -0.13817742], dtype=float32),\n",
       "    'kernel': Array([[-10.602875  ,  -0.13817742],\n",
       "           [-10.602875  ,  -0.13817742]], dtype=float32)}},))"
      ]
     },
     "execution_count": 161,
     "metadata": {},
     "output_type": "execute_result"
    }
   ],
   "source": [
    "# vector jacobian product\n",
    "y, vjp_fun = vjp(f, params)#, reduce_axes=('batch',))\n",
    "y.shape, vjp_fun(y)\n",
    "#vmap(vjp_fun)(y)"
   ]
  },
  {
   "cell_type": "code",
   "execution_count": 160,
   "id": "f1dbfa8f-9a22-4f88-9957-9d3bbe3ae3c5",
   "metadata": {},
   "outputs": [
    {
     "ename": "ScopeParamShapeError",
     "evalue": "Initializer expected to generate shape (2,) but got shape (2, 2) instead for parameter \"kernel\" in \"/\". (https://flax.readthedocs.io/en/latest/api_reference/flax.errors.html#flax.errors.ScopeParamShapeError)",
     "output_type": "error",
     "traceback": [
      "\u001b[0;31m---------------------------------------------------------------------------\u001b[0m",
      "\u001b[0;31mScopeParamShapeError\u001b[0m                      Traceback (most recent call last)",
      "Cell \u001b[0;32mIn[160], line 2\u001b[0m\n\u001b[1;32m      1\u001b[0m \u001b[38;5;66;03m# vector jacobian product\u001b[39;00m\n\u001b[0;32m----> 2\u001b[0m y, vjp_fun \u001b[38;5;241m=\u001b[39m \u001b[43mvmap\u001b[49m\u001b[43m(\u001b[49m\u001b[43mvjp\u001b[49m\u001b[43m,\u001b[49m\u001b[43m \u001b[49m\u001b[43min_axes\u001b[49m\u001b[38;5;241;43m=\u001b[39;49m\u001b[43m(\u001b[49m\u001b[38;5;28;43;01mNone\u001b[39;49;00m\u001b[43m,\u001b[49m\u001b[43m \u001b[49m\u001b[38;5;241;43m0\u001b[39;49m\u001b[43m)\u001b[49m\u001b[43m)\u001b[49m\u001b[43m(\u001b[49m\u001b[43mf\u001b[49m\u001b[43m,\u001b[49m\u001b[43m \u001b[49m\u001b[43mparams\u001b[49m\u001b[43m)\u001b[49m\n",
      "    \u001b[0;31m[... skipping hidden 10 frame]\u001b[0m\n",
      "Cell \u001b[0;32mIn[157], line 3\u001b[0m, in \u001b[0;36m<lambda>\u001b[0;34m(p)\u001b[0m\n\u001b[1;32m      1\u001b[0m batch_size \u001b[38;5;241m=\u001b[39m \u001b[38;5;28mint\u001b[39m(\u001b[38;5;241m1e1\u001b[39m)\n\u001b[1;32m      2\u001b[0m x \u001b[38;5;241m=\u001b[39m jnp\u001b[38;5;241m.\u001b[39mones((batch_size, d))\n\u001b[0;32m----> 3\u001b[0m f \u001b[38;5;241m=\u001b[39m \u001b[38;5;28;01mlambda\u001b[39;00m p: \u001b[43mmodel\u001b[49m\u001b[38;5;241;43m.\u001b[39;49m\u001b[43mapply\u001b[49m\u001b[43m(\u001b[49m\u001b[43mp\u001b[49m\u001b[43m,\u001b[49m\u001b[43m \u001b[49m\u001b[43mx\u001b[49m\u001b[43m)\u001b[49m\n\u001b[1;32m      4\u001b[0m f(params)\u001b[38;5;241m.\u001b[39mshape\n",
      "    \u001b[0;31m[... skipping hidden 6 frame]\u001b[0m\n",
      "File \u001b[0;32m~/Dokumente/packages/playground-jax/venv/lib/python3.11/site-packages/flax/linen/linear.py:235\u001b[0m, in \u001b[0;36mDense.__call__\u001b[0;34m(self, inputs)\u001b[0m\n\u001b[1;32m    225\u001b[0m \u001b[38;5;129m@compact\u001b[39m\n\u001b[1;32m    226\u001b[0m \u001b[38;5;28;01mdef\u001b[39;00m \u001b[38;5;21m__call__\u001b[39m(\u001b[38;5;28mself\u001b[39m, inputs: Array) \u001b[38;5;241m-\u001b[39m\u001b[38;5;241m>\u001b[39m Array:\n\u001b[1;32m    227\u001b[0m \u001b[38;5;250m  \u001b[39m\u001b[38;5;124;03m\"\"\"Applies a linear transformation to the inputs along the last dimension.\u001b[39;00m\n\u001b[1;32m    228\u001b[0m \n\u001b[1;32m    229\u001b[0m \u001b[38;5;124;03m  Args:\u001b[39;00m\n\u001b[0;32m   (...)\u001b[0m\n\u001b[1;32m    233\u001b[0m \u001b[38;5;124;03m    The transformed input.\u001b[39;00m\n\u001b[1;32m    234\u001b[0m \u001b[38;5;124;03m  \"\"\"\u001b[39;00m\n\u001b[0;32m--> 235\u001b[0m   kernel \u001b[38;5;241m=\u001b[39m \u001b[38;5;28;43mself\u001b[39;49m\u001b[38;5;241;43m.\u001b[39;49m\u001b[43mparam\u001b[49m\u001b[43m(\u001b[49m\n\u001b[1;32m    236\u001b[0m \u001b[43m      \u001b[49m\u001b[38;5;124;43m'\u001b[39;49m\u001b[38;5;124;43mkernel\u001b[39;49m\u001b[38;5;124;43m'\u001b[39;49m\u001b[43m,\u001b[49m\n\u001b[1;32m    237\u001b[0m \u001b[43m      \u001b[49m\u001b[38;5;28;43mself\u001b[39;49m\u001b[38;5;241;43m.\u001b[39;49m\u001b[43mkernel_init\u001b[49m\u001b[43m,\u001b[49m\n\u001b[1;32m    238\u001b[0m \u001b[43m      \u001b[49m\u001b[43m(\u001b[49m\u001b[43mjnp\u001b[49m\u001b[38;5;241;43m.\u001b[39;49m\u001b[43mshape\u001b[49m\u001b[43m(\u001b[49m\u001b[43minputs\u001b[49m\u001b[43m)\u001b[49m\u001b[43m[\u001b[49m\u001b[38;5;241;43m-\u001b[39;49m\u001b[38;5;241;43m1\u001b[39;49m\u001b[43m]\u001b[49m\u001b[43m,\u001b[49m\u001b[43m \u001b[49m\u001b[38;5;28;43mself\u001b[39;49m\u001b[38;5;241;43m.\u001b[39;49m\u001b[43mfeatures\u001b[49m\u001b[43m)\u001b[49m\u001b[43m,\u001b[49m\n\u001b[1;32m    239\u001b[0m \u001b[43m      \u001b[49m\u001b[38;5;28;43mself\u001b[39;49m\u001b[38;5;241;43m.\u001b[39;49m\u001b[43mparam_dtype\u001b[49m\u001b[43m,\u001b[49m\n\u001b[1;32m    240\u001b[0m \u001b[43m  \u001b[49m\u001b[43m)\u001b[49m\n\u001b[1;32m    241\u001b[0m   \u001b[38;5;28;01mif\u001b[39;00m \u001b[38;5;28mself\u001b[39m\u001b[38;5;241m.\u001b[39muse_bias:\n\u001b[1;32m    242\u001b[0m     bias \u001b[38;5;241m=\u001b[39m \u001b[38;5;28mself\u001b[39m\u001b[38;5;241m.\u001b[39mparam(\n\u001b[1;32m    243\u001b[0m         \u001b[38;5;124m'\u001b[39m\u001b[38;5;124mbias\u001b[39m\u001b[38;5;124m'\u001b[39m, \u001b[38;5;28mself\u001b[39m\u001b[38;5;241m.\u001b[39mbias_init, (\u001b[38;5;28mself\u001b[39m\u001b[38;5;241m.\u001b[39mfeatures,), \u001b[38;5;28mself\u001b[39m\u001b[38;5;241m.\u001b[39mparam_dtype\n\u001b[1;32m    244\u001b[0m     )\n",
      "    \u001b[0;31m[... skipping hidden 1 frame]\u001b[0m\n",
      "File \u001b[0;32m~/Dokumente/packages/playground-jax/venv/lib/python3.11/site-packages/flax/core/scope.py:971\u001b[0m, in \u001b[0;36mScope.param\u001b[0;34m(self, name, init_fn, unbox, *init_args)\u001b[0m\n\u001b[1;32m    966\u001b[0m   \u001b[38;5;28;01mfor\u001b[39;00m val, abs_val \u001b[38;5;129;01min\u001b[39;00m \u001b[38;5;28mzip\u001b[39m(value_flat, abs_value_flat):\n\u001b[1;32m    967\u001b[0m     \u001b[38;5;66;03m# NOTE: We could check dtype consistency here as well but it's\u001b[39;00m\n\u001b[1;32m    968\u001b[0m     \u001b[38;5;66;03m# usefuleness is less obvious. We might intentionally change the dtype\u001b[39;00m\n\u001b[1;32m    969\u001b[0m     \u001b[38;5;66;03m# for inference to a half float type for example.\u001b[39;00m\n\u001b[1;32m    970\u001b[0m     \u001b[38;5;28;01mif\u001b[39;00m jnp\u001b[38;5;241m.\u001b[39mshape(val) \u001b[38;5;241m!=\u001b[39m jnp\u001b[38;5;241m.\u001b[39mshape(abs_val):\n\u001b[0;32m--> 971\u001b[0m       \u001b[38;5;28;01mraise\u001b[39;00m errors\u001b[38;5;241m.\u001b[39mScopeParamShapeError(\n\u001b[1;32m    972\u001b[0m           name, \u001b[38;5;28mself\u001b[39m\u001b[38;5;241m.\u001b[39mpath_text, jnp\u001b[38;5;241m.\u001b[39mshape(abs_val), jnp\u001b[38;5;241m.\u001b[39mshape(val)\n\u001b[1;32m    973\u001b[0m       )\n\u001b[1;32m    974\u001b[0m \u001b[38;5;28;01melse\u001b[39;00m:\n\u001b[1;32m    975\u001b[0m   \u001b[38;5;28;01mif\u001b[39;00m \u001b[38;5;129;01mnot\u001b[39;00m \u001b[38;5;28mself\u001b[39m\u001b[38;5;241m.\u001b[39mis_mutable_collection(\u001b[38;5;124m'\u001b[39m\u001b[38;5;124mparams\u001b[39m\u001b[38;5;124m'\u001b[39m):\n",
      "\u001b[0;31mScopeParamShapeError\u001b[0m: Initializer expected to generate shape (2,) but got shape (2, 2) instead for parameter \"kernel\" in \"/\". (https://flax.readthedocs.io/en/latest/api_reference/flax.errors.html#flax.errors.ScopeParamShapeError)"
     ]
    }
   ],
   "source": [
    "# vector jacobian product\n",
    "y, vjp_fun = vmap(vjp, in_axes=(None, 0))(f, params)"
   ]
  },
  {
   "cell_type": "code",
   "execution_count": 144,
   "id": "2a54a007-5a71-45b5-a0f1-e4f3773b461a",
   "metadata": {},
   "outputs": [
    {
     "ename": "ValueError",
     "evalue": "vmap was requested to map its argument along axis 0, which implies that its rank should be at least 1, but is only 0 (its shape is ())",
     "output_type": "error",
     "traceback": [
      "\u001b[0;31m---------------------------------------------------------------------------\u001b[0m",
      "\u001b[0;31mIndexError\u001b[0m                                Traceback (most recent call last)",
      "File \u001b[0;32m~/Dokumente/packages/playground-jax/venv/lib/python3.11/site-packages/jax/_src/api.py:1269\u001b[0m, in \u001b[0;36m_mapped_axis_size.<locals>._get_axis_size\u001b[0;34m(name, shape, axis)\u001b[0m\n\u001b[1;32m   1268\u001b[0m \u001b[38;5;28;01mtry\u001b[39;00m:\n\u001b[0;32m-> 1269\u001b[0m   \u001b[38;5;28;01mreturn\u001b[39;00m \u001b[43mshape\u001b[49m\u001b[43m[\u001b[49m\u001b[43maxis\u001b[49m\u001b[43m]\u001b[49m\n\u001b[1;32m   1270\u001b[0m \u001b[38;5;28;01mexcept\u001b[39;00m (\u001b[38;5;167;01mIndexError\u001b[39;00m, \u001b[38;5;167;01mTypeError\u001b[39;00m) \u001b[38;5;28;01mas\u001b[39;00m e:\n",
      "\u001b[0;31mIndexError\u001b[0m: tuple index out of range",
      "\nThe above exception was the direct cause of the following exception:\n",
      "\u001b[0;31mValueError\u001b[0m                                Traceback (most recent call last)",
      "Cell \u001b[0;32mIn[144], line 1\u001b[0m\n\u001b[0;32m----> 1\u001b[0m y, vjp_fun \u001b[38;5;241m=\u001b[39m \u001b[43mvmap\u001b[49m\u001b[43m(\u001b[49m\u001b[43mvjp\u001b[49m\u001b[43m,\u001b[49m\u001b[43m \u001b[49m\u001b[43min_axes\u001b[49m\u001b[38;5;241;43m=\u001b[39;49m\u001b[43m(\u001b[49m\u001b[38;5;241;43m0\u001b[39;49m\u001b[43m,\u001b[49m\u001b[43m \u001b[49m\u001b[38;5;28;43;01mNone\u001b[39;49;00m\u001b[43m,\u001b[49m\u001b[43m \u001b[49m\u001b[38;5;241;43m0\u001b[39;49m\u001b[43m)\u001b[49m\u001b[43m)\u001b[49m\u001b[43m(\u001b[49m\u001b[43mmodel\u001b[49m\u001b[38;5;241;43m.\u001b[39;49m\u001b[43mapply\u001b[49m\u001b[43m,\u001b[49m\u001b[43m \u001b[49m\u001b[43mparams\u001b[49m\u001b[43m,\u001b[49m\u001b[43m \u001b[49m\u001b[43mx\u001b[49m\u001b[43m)\u001b[49m\n\u001b[1;32m      2\u001b[0m vmap(vjp)(y)\n",
      "    \u001b[0;31m[... skipping hidden 6 frame]\u001b[0m\n",
      "File \u001b[0;32m~/Dokumente/packages/playground-jax/venv/lib/python3.11/site-packages/jax/_src/api.py:1273\u001b[0m, in \u001b[0;36m_mapped_axis_size.<locals>._get_axis_size\u001b[0;34m(name, shape, axis)\u001b[0m\n\u001b[1;32m   1271\u001b[0m min_rank \u001b[38;5;241m=\u001b[39m axis \u001b[38;5;241m+\u001b[39m \u001b[38;5;241m1\u001b[39m \u001b[38;5;28;01mif\u001b[39;00m axis \u001b[38;5;241m>\u001b[39m\u001b[38;5;241m=\u001b[39m \u001b[38;5;241m0\u001b[39m \u001b[38;5;28;01melse\u001b[39;00m \u001b[38;5;241m-\u001b[39maxis\n\u001b[1;32m   1272\u001b[0m \u001b[38;5;66;03m# TODO(mattjj): better error message here\u001b[39;00m\n\u001b[0;32m-> 1273\u001b[0m \u001b[38;5;28;01mraise\u001b[39;00m \u001b[38;5;167;01mValueError\u001b[39;00m(\n\u001b[1;32m   1274\u001b[0m     \u001b[38;5;124mf\u001b[39m\u001b[38;5;124m\"\u001b[39m\u001b[38;5;132;01m{\u001b[39;00mname\u001b[38;5;132;01m}\u001b[39;00m\u001b[38;5;124m was requested to map its argument along axis \u001b[39m\u001b[38;5;132;01m{\u001b[39;00maxis\u001b[38;5;132;01m}\u001b[39;00m\u001b[38;5;124m, \u001b[39m\u001b[38;5;124m\"\u001b[39m\n\u001b[1;32m   1275\u001b[0m     \u001b[38;5;124mf\u001b[39m\u001b[38;5;124m\"\u001b[39m\u001b[38;5;124mwhich implies that its rank should be at least \u001b[39m\u001b[38;5;132;01m{\u001b[39;00mmin_rank\u001b[38;5;132;01m}\u001b[39;00m\u001b[38;5;124m, \u001b[39m\u001b[38;5;124m\"\u001b[39m\n\u001b[1;32m   1276\u001b[0m     \u001b[38;5;124mf\u001b[39m\u001b[38;5;124m\"\u001b[39m\u001b[38;5;124mbut is only \u001b[39m\u001b[38;5;132;01m{\u001b[39;00m\u001b[38;5;28mlen\u001b[39m(shape)\u001b[38;5;132;01m}\u001b[39;00m\u001b[38;5;124m (its shape is \u001b[39m\u001b[38;5;132;01m{\u001b[39;00mshape\u001b[38;5;132;01m}\u001b[39;00m\u001b[38;5;124m)\u001b[39m\u001b[38;5;124m\"\u001b[39m) \u001b[38;5;28;01mfrom\u001b[39;00m \u001b[38;5;21;01me\u001b[39;00m\n",
      "\u001b[0;31mValueError\u001b[0m: vmap was requested to map its argument along axis 0, which implies that its rank should be at least 1, but is only 0 (its shape is ())"
     ]
    }
   ],
   "source": [
    "y, vjp_fun = vmap(vjp, in_axes=(0, None, 0))(model.apply, params, x)\n",
    "vmap(vjp)(y)\n",
    "\n",
    "reduce_axes=('batch',)"
   ]
  },
  {
   "cell_type": "code",
   "execution_count": null,
   "id": "28ce446f-5edb-413d-a7fe-f6855a3c305a",
   "metadata": {},
   "outputs": [],
   "source": []
  }
 ],
 "metadata": {
  "kernelspec": {
   "display_name": "Python 3 (ipykernel)",
   "language": "python",
   "name": "python3"
  },
  "language_info": {
   "codemirror_mode": {
    "name": "ipython",
    "version": 3
   },
   "file_extension": ".py",
   "mimetype": "text/x-python",
   "name": "python",
   "nbconvert_exporter": "python",
   "pygments_lexer": "ipython3",
   "version": "3.11.2"
  }
 },
 "nbformat": 4,
 "nbformat_minor": 5
}
