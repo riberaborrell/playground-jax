{
 "cells": [
  {
   "cell_type": "code",
   "execution_count": 1,
   "metadata": {},
   "outputs": [],
   "source": [
    "from jax import numpy as jnp, random\n",
    "from jax import jacfwd, jacrev, jvp, vjp, vmap"
   ]
  },
  {
   "cell_type": "markdown",
   "metadata": {},
   "source": [
    "# Vector-valued function\n",
    "\n",
    "Let $f: \\mathbb{R}^n \\rightarrow \\mathbb{R}^m$ be vector-valued function given by\n",
    "$$\n",
    "f(x) = (f_1(x), f_2(x)), \\quad f_1(x) = 3 x_1^3 - x_2^2 + x_3, \\quad f_2(x) = sin(x_1)x_2, \n",
    "$$\n",
    "i.e. $n=2$ and $m=3$. The Jacobian $D_f \\in \\mathbb{R}^{m \\times n}$ given by $D_f = \\bigl(\\frac{\\partial}{\\partial x_j}f_i(x) \\bigr)_{i, j}$ is\n",
    "$$\n",
    "\\frac{\\partial}{\\partial x_1}f_1(x) = 9 x_1^2, \\quad \n",
    "\\frac{\\partial}{\\partial x_2}f_1(x) = - 2 x_2, \\quad\n",
    "\\frac{\\partial}{\\partial x_3}f_1(x) = 1, \\quad\n",
    "\\frac{\\partial}{\\partial x_1}f_2(x) = cos(x_1)x_2, \\quad \n",
    "\\frac{\\partial}{\\partial x_2}f_2(x) = sin(x_1), \\quad\n",
    "\\frac{\\partial}{\\partial x_3}f_2(x) = 0 .\n",
    "$$"
   ]
  },
  {
   "cell_type": "code",
   "execution_count": 2,
   "metadata": {},
   "outputs": [],
   "source": [
    "# create key\n",
    "key = random.PRNGKey(0)\n",
    "\n",
    "# domain, codomain dimension and batch size\n",
    "n, m = 3, 2\n",
    "batch_size = int(1e4)"
   ]
  },
  {
   "cell_type": "markdown",
   "metadata": {},
   "source": [
    "## Compute Jacobians"
   ]
  },
  {
   "cell_type": "code",
   "execution_count": 3,
   "metadata": {},
   "outputs": [],
   "source": [
    "def check_jacobian(x, jac_y):\n",
    "    jac_y_ref = jnp.array([\n",
    "        [9*x[0]**2, -2*x[1], 1.0], \n",
    "        [jnp.cos(x[0])*x[1], jnp.sin(x[0]), 0.],\n",
    "    ])\n",
    "    if jnp.isclose(jac_y, jac_y_ref).all().item():\n",
    "        return True\n",
    "    else:\n",
    "        return False"
   ]
  },
  {
   "cell_type": "markdown",
   "metadata": {},
   "source": [
    "1. Vector input variable (no batch)"
   ]
  },
  {
   "cell_type": "code",
   "execution_count": 4,
   "metadata": {},
   "outputs": [],
   "source": [
    "def f(x):\n",
    "    y = jnp.array([\n",
    "        3 * x[0]**3 - x[1]**2 + x[2],\n",
    "        jnp.sin(x[0])*x[1],\n",
    "    ])\n",
    "    return y"
   ]
  },
  {
   "cell_type": "code",
   "execution_count": 5,
   "metadata": {},
   "outputs": [
    {
     "name": "stdout",
     "output_type": "stream",
     "text": [
      "CPU times: user 277 ms, sys: 4.24 ms, total: 281 ms\n",
      "Wall time: 280 ms\n"
     ]
    },
    {
     "data": {
      "text/plain": [
       "True"
      ]
     },
     "execution_count": 5,
     "metadata": {},
     "output_type": "execute_result"
    }
   ],
   "source": [
    "# initialize input\n",
    "x = random.normal(key, (n,))\n",
    "\n",
    "# compute jacobian\n",
    "#%time jac_y = jacfwd(f)(x)\n",
    "%time jac_y = jacrev(f)(x)\n",
    "\n",
    "# check jacobian \n",
    "check_jacobian(x, jac_y)"
   ]
  },
  {
   "cell_type": "markdown",
   "metadata": {},
   "source": [
    "2. Multiple scalar input variables (no batch)"
   ]
  },
  {
   "cell_type": "code",
   "execution_count": 6,
   "metadata": {},
   "outputs": [],
   "source": [
    "def g(x1, x2, x3):\n",
    "    y = jnp.array([\n",
    "        3 * x1**3 - x2**2 + x3,\n",
    "        jnp.sin(x1)*x2\n",
    "    ])\n",
    "    return y\n",
    "\n",
    "def jac_g(x1, x2, x3):\n",
    "    return jacfwd(g, (0, 1, 2))(x1, x2, x3)"
   ]
  },
  {
   "cell_type": "code",
   "execution_count": 7,
   "metadata": {},
   "outputs": [
    {
     "data": {
      "text/plain": [
       "True"
      ]
     },
     "execution_count": 7,
     "metadata": {},
     "output_type": "execute_result"
    }
   ],
   "source": [
    "# initialize input\n",
    "x1 = random.normal(key)\n",
    "x2 = random.normal(key)\n",
    "x3 = random.normal(key)\n",
    "\n",
    "# compute jacobian\n",
    "jac_y = jnp.array(jac_g(x1, x2, x3)).T\n",
    "\n",
    "# check jacobian \n",
    "check_jacobian(jnp.array([x1, x2, x3]), jac_y)"
   ]
  },
  {
   "cell_type": "code",
   "execution_count": 8,
   "metadata": {},
   "outputs": [],
   "source": [
    "def check_jacobian_vect(x, jac_y):\n",
    "    jac_y_ref = jnp.empty((batch_size, m, n))\n",
    "    jac_y_ref = jac_y_ref.at[:, 0, 0].set(9*x[:, 0]**2)\n",
    "    jac_y_ref = jac_y_ref.at[:, 0, 1].set(-2*x[:, 1])\n",
    "    jac_y_ref = jac_y_ref.at[:, 0, 2].set(1.0)\n",
    "    jac_y_ref = jac_y_ref.at[:, 1, 0].set(jnp.cos(x[:, 0])*x[:, 1])\n",
    "    jac_y_ref = jac_y_ref.at[:, 1, 1].set(jnp.sin(x[:, 0]))\n",
    "    jac_y_ref = jac_y_ref.at[:, 1, 2].set(0)\n",
    "    #return jac_y_ref\n",
    "    \n",
    "    if jnp.isclose(jac_y, jac_y_ref).all().item():\n",
    "        return True\n",
    "    else:\n",
    "        return False"
   ]
  },
  {
   "cell_type": "markdown",
   "metadata": {},
   "source": [
    "3. Vector input variable (batch)"
   ]
  },
  {
   "cell_type": "code",
   "execution_count": 9,
   "metadata": {},
   "outputs": [],
   "source": [
    "x = random.normal(key, (batch_size, n))\n",
    "y = vmap(f)(x)"
   ]
  },
  {
   "cell_type": "code",
   "execution_count": 10,
   "metadata": {},
   "outputs": [
    {
     "name": "stdout",
     "output_type": "stream",
     "text": [
      "CPU times: user 164 ms, sys: 0 ns, total: 164 ms\n",
      "Wall time: 163 ms\n"
     ]
    }
   ],
   "source": [
    "# compute gradients\n",
    "#%time jac_y = vmap(jacfwd(f))(x)\n",
    "#%time jac_y = jacfwd(vmap(f))(x)\n",
    "%time jac_y = vmap(jacrev(f))(x)\n",
    "#%time jac_y = jacrev(vmap(f))(x)"
   ]
  },
  {
   "cell_type": "code",
   "execution_count": 11,
   "metadata": {},
   "outputs": [
    {
     "data": {
      "text/plain": [
       "True"
      ]
     },
     "execution_count": 11,
     "metadata": {},
     "output_type": "execute_result"
    }
   ],
   "source": [
    "check_jacobian_vect(x, jac_y)"
   ]
  },
  {
   "cell_type": "markdown",
   "metadata": {},
   "source": [
    "4. Multiple scalar input variables (batch input)"
   ]
  },
  {
   "cell_type": "code",
   "execution_count": 12,
   "metadata": {},
   "outputs": [],
   "source": [
    "def g_vect(x1, x2, x3):\n",
    "    return vmap(g, in_axes=(0, 0, 0), out_axes=0)(x1, x2, x3)\n",
    "\n",
    "def jac_g_vect(x1, x2, x3):\n",
    "    return vmap(jac_g, in_axes=(0, 0, 0), out_axes=0)(x1, x2, x3)"
   ]
  },
  {
   "cell_type": "code",
   "execution_count": 13,
   "metadata": {},
   "outputs": [],
   "source": [
    "x = random.normal(key, (batch_size, n))\n",
    "x1 = x[:, 0]\n",
    "x2 = x[:, 1]\n",
    "x3 = x[:, 2]"
   ]
  },
  {
   "cell_type": "code",
   "execution_count": 14,
   "metadata": {},
   "outputs": [
    {
     "name": "stdout",
     "output_type": "stream",
     "text": [
      "CPU times: user 153 ms, sys: 8.31 ms, total: 161 ms\n",
      "Wall time: 160 ms\n"
     ]
    }
   ],
   "source": [
    "%time jac_y = jnp.stack((jac_g_vect(x1, x2, x3))).swapaxes(0, 1).swapaxes(1, 2)"
   ]
  },
  {
   "cell_type": "code",
   "execution_count": 15,
   "metadata": {},
   "outputs": [
    {
     "data": {
      "text/plain": [
       "True"
      ]
     },
     "execution_count": 15,
     "metadata": {},
     "output_type": "execute_result"
    }
   ],
   "source": [
    "check_jacobian_vect(x, jac_y)"
   ]
  },
  {
   "cell_type": "markdown",
   "metadata": {},
   "source": [
    "# Compute Jacobian-Vector Products (JVP)"
   ]
  },
  {
   "cell_type": "markdown",
   "metadata": {},
   "source": [
    "1. Without batch"
   ]
  },
  {
   "cell_type": "code",
   "execution_count": 16,
   "metadata": {},
   "outputs": [
    {
     "data": {
      "text/plain": [
       "(Array([ 0.13893168,  0.509335  , -0.53116107], dtype=float32),\n",
       " Array([ 1.1378784 , -1.2209548 , -0.59153634], dtype=float32),\n",
       " Array([-0.7825382 ,  0.07053534], dtype=float32),\n",
       " Array([-0.7825382 ,  0.07053534], dtype=float32),\n",
       " Array([0.84988374, 0.4048928 ], dtype=float32))"
      ]
     },
     "execution_count": 16,
     "metadata": {},
     "output_type": "execute_result"
    }
   ],
   "source": [
    "# initialize input\n",
    "key1, key2 = random.split(key, 2)\n",
    "x = random.normal(key1, (n,))\n",
    "v = random.normal(key2, (n,))\n",
    "\n",
    "# compute jvp\n",
    "primals, tangents = jvp(f, (x,), (v,))\n",
    "\n",
    "#primals.shape, tangents.shape\n",
    "x, v, f(x), primals, tangents"
   ]
  },
  {
   "cell_type": "markdown",
   "metadata": {},
   "source": [
    "2. With batch"
   ]
  },
  {
   "cell_type": "code",
   "execution_count": 17,
   "metadata": {},
   "outputs": [
    {
     "data": {
      "text/plain": [
       "((10000, 2), (10000, 2))"
      ]
     },
     "execution_count": 17,
     "metadata": {},
     "output_type": "execute_result"
    }
   ],
   "source": [
    "# initialize input\n",
    "key1, key2 = random.split(key, 2)\n",
    "x = random.normal(key1, (batch_size, n))\n",
    "v = random.normal(key2, (batch_size, n))\n",
    "\n",
    "# compute jvp\n",
    "primals, tangents = vmap(jvp, in_axes=(None, 0, 0))(f, (x,), (v,))\n",
    "\n",
    "primals.shape, tangents.shape"
   ]
  },
  {
   "cell_type": "markdown",
   "metadata": {},
   "source": [
    "# Compute Vector-jacobian products"
   ]
  },
  {
   "cell_type": "markdown",
   "metadata": {},
   "source": [
    "1. Without batch"
   ]
  },
  {
   "cell_type": "code",
   "execution_count": 18,
   "metadata": {},
   "outputs": [
    {
     "data": {
      "text/plain": [
       "(Array([ 0.13893168,  0.509335  , -0.53116107], dtype=float32),\n",
       " Array([ 0.19307722, -0.52678293], dtype=float32),\n",
       " Array([-0.7825382 ,  0.07053534], dtype=float32),\n",
       " Array([-0.7825382 ,  0.07053534], dtype=float32),\n",
       " (Array([-0.23218267, -0.2696336 ,  0.19307722], dtype=float32),))"
      ]
     },
     "execution_count": 18,
     "metadata": {},
     "output_type": "execute_result"
    }
   ],
   "source": [
    "# initialize input\n",
    "key1, key2 = random.split(key, 2)\n",
    "x = random.normal(key1, (n,))\n",
    "u = random.normal(key2, (m,))\n",
    "\n",
    "# compute vjp\n",
    "y, vjp_fun = vjp(f, x)\n",
    "\n",
    "# pull back the covector `u` along `f` evaluated at `x`\n",
    "v = vjp_fun(u)\n",
    "\n",
    "#y.shape[0] == m\n",
    "x, u, f(x), y, v"
   ]
  },
  {
   "cell_type": "markdown",
   "metadata": {},
   "source": [
    "2. With batch"
   ]
  },
  {
   "cell_type": "code",
   "execution_count": 19,
   "metadata": {},
   "outputs": [
    {
     "data": {
      "text/plain": [
       "(True, (10000, 2), (10000, 3))"
      ]
     },
     "execution_count": 19,
     "metadata": {},
     "output_type": "execute_result"
    }
   ],
   "source": [
    "# initialize input\n",
    "key1, key2 = random.split(key, 2)\n",
    "x = random.normal(key1, (batch_size, n))\n",
    "u = random.normal(key2, (batch_size, m))\n",
    "\n",
    "# compute vjp\n",
    "y, vjp_fun = vmap(vjp, in_axes=(None, 0))(f, x)\n",
    "\n",
    "# pull back the covector `u` along `f` evaluated at `x`\n",
    "v = vmap(vjp_fun)(u)[0]\n",
    "\n",
    "y.shape[1] == m, y.shape, v.shape"
   ]
  }
 ],
 "metadata": {
  "kernelspec": {
   "display_name": "Python 3 (ipykernel)",
   "language": "python",
   "name": "python3"
  },
  "language_info": {
   "codemirror_mode": {
    "name": "ipython",
    "version": 3
   },
   "file_extension": ".py",
   "mimetype": "text/x-python",
   "name": "python",
   "nbconvert_exporter": "python",
   "pygments_lexer": "ipython3",
   "version": "3.11.2"
  }
 },
 "nbformat": 4,
 "nbformat_minor": 4
}
