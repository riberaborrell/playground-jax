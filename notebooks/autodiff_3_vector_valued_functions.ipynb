{
 "cells": [
  {
   "cell_type": "markdown",
   "metadata": {},
   "source": [
    "# Vector-valued function\n",
    "\n",
    "Let $f: \\mathbb{R}^n \\rightarrow \\mathbb{R}^m$ be vector-valued function given by\n",
    "$$\n",
    "f(x) = (f_1(x), f_2(x)), \\quad f_1(x) = 3 x_1^3 - x_2^2 + x_3, \\quad f_2(x) = sin(x_1)x_2, \n",
    "$$\n",
    "i.e. $n=2$ and $m=3$. The Jacobian $D_f \\in \\mathbb{R}^{m \\times n}$ given by $D_f = \\bigl(\\frac{\\partial}{\\partial x_j}f_i(x) \\bigr)_{i, j}$ is\n",
    "$$\n",
    "\\frac{\\partial}{\\partial x_1}f_1(x) = 9 x_1^2, \\quad \n",
    "\\frac{\\partial}{\\partial x_2}f_1(x) = - 2 x_2, \\quad\n",
    "\\frac{\\partial}{\\partial x_3}f_1(x) = 1, \\quad\n",
    "\\frac{\\partial}{\\partial x_1}f_2(x) = cos(x_1)x_2, \\quad \n",
    "\\frac{\\partial}{\\partial x_2}f_2(x) = sin(x_1), \\quad\n",
    "\\frac{\\partial}{\\partial x_3}f_2(x) = 0 .\n",
    "$$"
   ]
  },
  {
   "cell_type": "code",
   "execution_count": 114,
   "metadata": {},
   "outputs": [],
   "source": [
    "import jax.numpy as jnp\n",
    "from jax import jacfwd, jacrev \n",
    "from jax import vmap\n",
    "from jax import random\n",
    "\n",
    "key = random.PRNGKey(0)"
   ]
  },
  {
   "cell_type": "code",
   "execution_count": 186,
   "metadata": {},
   "outputs": [],
   "source": [
    "# domain, codomain dimension and batch size\n",
    "n = 3\n",
    "m = 2\n",
    "batch_size = int(1e3)"
   ]
  },
  {
   "cell_type": "code",
   "execution_count": 116,
   "metadata": {},
   "outputs": [],
   "source": [
    "def check_jacobian(x, jac_y):\n",
    "    jac_y_ref = jnp.array([\n",
    "        [9*x[0]**2, -2*x[1], 1.0], \n",
    "        [jnp.cos(x[0])*x[1], jnp.sin(x[0]), 0.],\n",
    "    ])\n",
    "    if jnp.isclose(jac_y, jac_y_ref).all().item():\n",
    "        return True\n",
    "    else:\n",
    "        return False"
   ]
  },
  {
   "cell_type": "markdown",
   "metadata": {},
   "source": [
    "1. Vector input variable (no batch)"
   ]
  },
  {
   "cell_type": "code",
   "execution_count": 117,
   "metadata": {},
   "outputs": [],
   "source": [
    "def f(x):\n",
    "    y = jnp.array([\n",
    "        3 * x[0]**3 - x[1]**2 + x[2],\n",
    "        jnp.sin(x[0])*x[1],\n",
    "    ])\n",
    "    return y\n",
    "    \n",
    "def jac_f(x):\n",
    "    return jacfwd(f)(x)\n",
    "    #return jacrev(f)(x)"
   ]
  },
  {
   "cell_type": "code",
   "execution_count": 118,
   "metadata": {},
   "outputs": [
    {
     "data": {
      "text/plain": [
       "True"
      ]
     },
     "execution_count": 118,
     "metadata": {},
     "output_type": "execute_result"
    }
   ],
   "source": [
    "# initialize input\n",
    "x = random.normal(key, (n,))\n",
    "\n",
    "# compute jacobian\n",
    "jac_y = jac_f(x)\n",
    "\n",
    "# check jacobian \n",
    "check_jacobian(x, jac_y)"
   ]
  },
  {
   "cell_type": "markdown",
   "metadata": {},
   "source": [
    "2. Multiple scalar input variables (no batch)"
   ]
  },
  {
   "cell_type": "code",
   "execution_count": 119,
   "metadata": {},
   "outputs": [],
   "source": [
    "def g(x1, x2, x3):\n",
    "    y = jnp.array([\n",
    "        3 * x1**3 - x2**2 + x3,\n",
    "        jnp.sin(x1)*x2\n",
    "    ])\n",
    "    return y\n",
    "\n",
    "def jac_g(x1, x2, x3):\n",
    "    return jacfwd(g, (0, 1, 2))(x1, x2, x3)"
   ]
  },
  {
   "cell_type": "code",
   "execution_count": 120,
   "metadata": {},
   "outputs": [
    {
     "data": {
      "text/plain": [
       "True"
      ]
     },
     "execution_count": 120,
     "metadata": {},
     "output_type": "execute_result"
    }
   ],
   "source": [
    "# initialize input\n",
    "x1 = random.normal(key)\n",
    "x2 = random.normal(key)\n",
    "x3 = random.normal(key)\n",
    "\n",
    "# compute jacobian\n",
    "jac_y = jnp.array(jac_g(x1, x2, x3)).T\n",
    "\n",
    "# check jacobian \n",
    "check_jacobian(jnp.array([x1, x2, x3]), jac_y)"
   ]
  },
  {
   "cell_type": "code",
   "execution_count": 177,
   "metadata": {},
   "outputs": [],
   "source": [
    "def check_jacobian_vect(x, jac_y):\n",
    "    jac_y_ref = jnp.empty((batch_size, m, n))\n",
    "    jac_y_ref = jac_y_ref.at[:, 0, 0].set(9*x[:, 0]**2)\n",
    "    jac_y_ref = jac_y_ref.at[:, 0, 1].set(-2*x[:, 1])\n",
    "    jac_y_ref = jac_y_ref.at[:, 0, 2].set(1.0)\n",
    "    jac_y_ref = jac_y_ref.at[:, 1, 0].set(jnp.cos(x[:, 0])*x[:, 1])\n",
    "    jac_y_ref = jac_y_ref.at[:, 1, 1].set(jnp.sin(x[:, 0]))\n",
    "    jac_y_ref = jac_y_ref.at[:, 1, 2].set(0)\n",
    "    #return jac_y_ref\n",
    "    \n",
    "    if jnp.isclose(jac_y, jac_y_ref).all().item():\n",
    "        return True\n",
    "    else:\n",
    "        return False"
   ]
  },
  {
   "cell_type": "markdown",
   "metadata": {},
   "source": [
    "3. Vector input variable (batch)"
   ]
  },
  {
   "cell_type": "code",
   "execution_count": 178,
   "metadata": {},
   "outputs": [],
   "source": [
    "def f_vect(inputs):\n",
    "    return vmap(f)(inputs)\n",
    "    \n",
    "def jac_f_vect(inputs):\n",
    "    return vmap(jac_f)(inputs)\n",
    "\n",
    "def jac_f_vect2(inputs):\n",
    "    return jacfwd(f_vect)(inputs)"
   ]
  },
  {
   "cell_type": "code",
   "execution_count": 187,
   "metadata": {},
   "outputs": [],
   "source": [
    "x = random.normal(key, (batch_size, n))\n",
    "y = f_vect(x)"
   ]
  },
  {
   "cell_type": "code",
   "execution_count": 188,
   "metadata": {},
   "outputs": [
    {
     "name": "stdout",
     "output_type": "stream",
     "text": [
      "CPU times: user 2 µs, sys: 1 µs, total: 3 µs\n",
      "Wall time: 5.25 µs\n"
     ]
    }
   ],
   "source": [
    "%time\n",
    "\n",
    "# compute gradients\n",
    "jac_y = jac_f_vect(x)"
   ]
  },
  {
   "cell_type": "code",
   "execution_count": 189,
   "metadata": {},
   "outputs": [
    {
     "data": {
      "text/plain": [
       "True"
      ]
     },
     "execution_count": 189,
     "metadata": {},
     "output_type": "execute_result"
    }
   ],
   "source": [
    "check_jacobian_vect(x, jac_y)"
   ]
  },
  {
   "cell_type": "markdown",
   "metadata": {},
   "source": [
    "4. Multiple scalar input variables (batch input)"
   ]
  },
  {
   "cell_type": "code",
   "execution_count": 191,
   "metadata": {},
   "outputs": [],
   "source": [
    "def g_vect(x1, x2, x3):\n",
    "    return vmap(g)(x1, x2, x3)\n",
    "\n",
    "def jac_g_vect(x1, x2, x3):\n",
    "    return vmap(jac_g)(x1, x2, x3)"
   ]
  },
  {
   "cell_type": "code",
   "execution_count": 192,
   "metadata": {},
   "outputs": [],
   "source": [
    "x = random.normal(key, (batch_size, n))\n",
    "x1 = x[:, 0]\n",
    "x2 = x[:, 1]\n",
    "x3 = x[:, 2]"
   ]
  },
  {
   "cell_type": "code",
   "execution_count": 193,
   "metadata": {},
   "outputs": [
    {
     "name": "stdout",
     "output_type": "stream",
     "text": [
      "CPU times: user 1e+03 ns, sys: 1e+03 ns, total: 2 µs\n",
      "Wall time: 2.86 µs\n"
     ]
    }
   ],
   "source": [
    "%time\n",
    "jac_y = jnp.stack((jac_g_vect(x1, x2, x3))).swapaxes(0, 1).swapaxes(1, 2)"
   ]
  },
  {
   "cell_type": "code",
   "execution_count": 194,
   "metadata": {},
   "outputs": [
    {
     "data": {
      "text/plain": [
       "True"
      ]
     },
     "execution_count": 194,
     "metadata": {},
     "output_type": "execute_result"
    }
   ],
   "source": [
    "check_jacobian_vect(x, jac_y)"
   ]
  },
  {
   "cell_type": "code",
   "execution_count": null,
   "metadata": {},
   "outputs": [],
   "source": []
  }
 ],
 "metadata": {
  "kernelspec": {
   "display_name": "Python 3 (ipykernel)",
   "language": "python",
   "name": "python3"
  },
  "language_info": {
   "codemirror_mode": {
    "name": "ipython",
    "version": 3
   },
   "file_extension": ".py",
   "mimetype": "text/x-python",
   "name": "python",
   "nbconvert_exporter": "python",
   "pygments_lexer": "ipython3",
   "version": "3.11.2"
  }
 },
 "nbformat": 4,
 "nbformat_minor": 4
}
