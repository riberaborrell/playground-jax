{
 "cells": [
  {
   "cell_type": "code",
   "execution_count": 4,
   "id": "a4ba40f9-ec16-4fb6-b418-272d8efcc21d",
   "metadata": {},
   "outputs": [],
   "source": [
    "from time import time \n",
    "\n",
    "from jax import numpy as jnp, lax, random\n",
    "from jax import vmap, jit"
   ]
  },
  {
   "cell_type": "code",
   "execution_count": 5,
   "id": "4dd185aa-a42f-4e93-9587-f3c7d41e0619",
   "metadata": {},
   "outputs": [],
   "source": [
    "# set a random key\n",
    "key = random.PRNGKey(seed=1)"
   ]
  },
  {
   "cell_type": "code",
   "execution_count": 6,
   "id": "0e8f1c48-ee2b-4870-807f-e6941e4f839e",
   "metadata": {},
   "outputs": [],
   "source": [
    "# parameters\n",
    "d = 1\n",
    "dt = 0.01\n",
    "K = int(1e3)\n",
    "N = int(1e4)\n",
    "x_init = -1 * jnp.ones((K, d))\n",
    "subkeys = random.split(key, K)"
   ]
  },
  {
   "cell_type": "markdown",
   "id": "88bc5d04-d46e-4a3f-9a11-ccc485daff16",
   "metadata": {},
   "source": [
    "1. sample brownian motion with a finite-time horizon vectorized also in the time steps"
   ]
  },
  {
   "cell_type": "code",
   "execution_count": 4,
   "id": "5e820f6c-17ec-4469-99f0-a2e96a42f89c",
   "metadata": {},
   "outputs": [],
   "source": [
    "def brownian_finite(x_init, key):  \n",
    "\n",
    "    # brownian increments                                                                \n",
    "    db = jnp.sqrt(dt) * random.normal(key, (N,) + x_init.shape)\n",
    "\n",
    "    # cumulative sum                                                       \n",
    "    x = jnp.cumsum(db, axis=0)                                             \n",
    "\n",
    "    # add B(0) = 0                                                       \n",
    "    x = jnp.insert(x, 0, 0, axis=0)\n",
    "\n",
    "    # set origin\n",
    "    x += x_init\n",
    "\n",
    "    return x\n",
    "\n",
    "brownian_finite = jit(brownian_finite)"
   ]
  },
  {
   "cell_type": "code",
   "execution_count": 5,
   "id": "58b11c9e-c1af-496e-ba47-4a8d61e1ddd8",
   "metadata": {},
   "outputs": [
    {
     "name": "stderr",
     "output_type": "stream",
     "text": [
      "2024-01-22 16:00:52.871682: E external/xla/xla/service/slow_operation_alarm.cc:65] Constant folding an instruction is taking > 1s:\n",
      "\n",
      "  %pad.167 = f32[10001,1000,3]{2,1,0} pad(f32[1,1000,3]{2,1,0} %broadcast.234, f32[] %constant.22), padding=0_10000x0_0x0_0, metadata={op_name=\"jit(brownian_finite)/jit(main)/scatter[update_jaxpr=None update_consts=() dimension_numbers=ScatterDimensionNumbers(update_window_dims=(1, 2), inserted_window_dims=(0,), scatter_dims_to_operand_dims=(0,)) indices_are_sorted=False unique_indices=False mode=GatherScatterMode.FILL_OR_DROP]\" source_file=\"/tmp/ipykernel_111961/2002951467.py\" source_line=10}\n",
      "\n",
      "This isn't necessarily a bug; constant-folding is inherently a trade-off between compilation time and speed at runtime. XLA has some guards that attempt to keep constant folding from taking too long, but fundamentally you'll always be able to come up with an input program that takes a long time.\n",
      "\n",
      "If you'd like to file a bug, run with envvar XLA_FLAGS=--xla_dump_to=/tmp/foo and attach the results.\n",
      "2024-01-22 16:01:01.735171: E external/xla/xla/service/slow_operation_alarm.cc:133] The operation took 9.863569605s\n",
      "Constant folding an instruction is taking > 1s:\n",
      "\n",
      "  %pad.167 = f32[10001,1000,3]{2,1,0} pad(f32[1,1000,3]{2,1,0} %broadcast.234, f32[] %constant.22), padding=0_10000x0_0x0_0, metadata={op_name=\"jit(brownian_finite)/jit(main)/scatter[update_jaxpr=None update_consts=() dimension_numbers=ScatterDimensionNumbers(update_window_dims=(1, 2), inserted_window_dims=(0,), scatter_dims_to_operand_dims=(0,)) indices_are_sorted=False unique_indices=False mode=GatherScatterMode.FILL_OR_DROP]\" source_file=\"/tmp/ipykernel_111961/2002951467.py\" source_line=10}\n",
      "\n",
      "This isn't necessarily a bug; constant-folding is inherently a trade-off between compilation time and speed at runtime. XLA has some guards that attempt to keep constant folding from taking too long, but fundamentally you'll always be able to come up with an input program that takes a long time.\n",
      "\n",
      "If you'd like to file a bug, run with envvar XLA_FLAGS=--xla_dump_to=/tmp/foo and attach the results.\n"
     ]
    },
    {
     "name": "stdout",
     "output_type": "stream",
     "text": [
      "CPU times: user 28 s, sys: 15.8 s, total: 43.9 s\n",
      "Wall time: 11 s\n"
     ]
    }
   ],
   "source": [
    "%time x = brownian_finite(x_init, key)"
   ]
  },
  {
   "cell_type": "code",
   "execution_count": 6,
   "id": "55b3a9e7-23ea-4c04-9312-c51078f7109d",
   "metadata": {},
   "outputs": [
    {
     "data": {
      "text/plain": [
       "(10001, 1000, 3)"
      ]
     },
     "execution_count": 6,
     "metadata": {},
     "output_type": "execute_result"
    }
   ],
   "source": [
    "x.shape"
   ]
  },
  {
   "cell_type": "markdown",
   "id": "74cb4ff8-9f3f-426d-817b-dfa525e391b3",
   "metadata": {},
   "source": [
    "2. sample brownian motion with a finite-time horizon with a loop in the time-steps"
   ]
  },
  {
   "cell_type": "code",
   "execution_count": 7,
   "id": "43d4427f-150c-45af-9373-5b6a935cb410",
   "metadata": {},
   "outputs": [],
   "source": [
    "def brownian_finite(x_init, key):\n",
    "\n",
    "    # dimension\n",
    "    d = x_init.shape[0]\n",
    "\n",
    "    # initialize trajectory\n",
    "    xt = x_init\n",
    "\n",
    "    # trajectory list\n",
    "    x = [xt]\n",
    "    for i in range(N):\n",
    "\n",
    "        # brownian increments\n",
    "        key, subkey = random.split(key)    \n",
    "        dbt = jnp.sqrt(dt) * random.normal(key, (d,))\n",
    "\n",
    "        # update\n",
    "        xt += dbt\n",
    "\n",
    "        # save position\n",
    "        x += [xt]\n",
    "        \n",
    "    return jnp.stack(x)\n",
    "\n",
    "brownian_finite = vmap(brownian_finite, in_axes=(0, 0), out_axes=1)\n",
    "#brownian_finite = jit(brownian_finite)#, static_argnums=(1))"
   ]
  },
  {
   "cell_type": "code",
   "execution_count": 8,
   "id": "ece9d657-89df-4693-95eb-f6c830d4c6a8",
   "metadata": {},
   "outputs": [],
   "source": [
    "x = brownian_finite(x_init, subkeys)"
   ]
  },
  {
   "cell_type": "code",
   "execution_count": 9,
   "id": "04a8845d-7875-4474-8fc8-59ae39ec411c",
   "metadata": {},
   "outputs": [],
   "source": [
    "def apply_fn(state):\n",
    "    \n",
    "    # unpack values\n",
    "    xt, key = state\n",
    "    d = xt.shape[0]\n",
    "\n",
    "    # brownian motion\n",
    "    key, subkey = random.split(key)\n",
    "    eta = random.normal(key, (d,))     \n",
    "\n",
    "    # sde update\n",
    "    xt = xt + jnp.sqrt(dt) * eta\n",
    "    \n",
    "    return xt, key"
   ]
  },
  {
   "cell_type": "markdown",
   "id": "ff3f02e1-1d92-455f-8ac0-29ab4b0c74e6",
   "metadata": {},
   "source": [
    "3. sample brownian motion with a finite-time horizon with foriloop"
   ]
  },
  {
   "cell_type": "code",
   "execution_count": 10,
   "id": "6aea877b-9934-4b55-9914-f5e146b27e00",
   "metadata": {},
   "outputs": [],
   "source": [
    "def body_fn_loop(i, state):\n",
    "    return apply_fn(state)\n",
    "    \n",
    "def brownian_finite(x_init, key):\n",
    "    return lax.fori_loop(0, N, body_fn_loop, (x_init, key))\n",
    "\n",
    "brownian_finite = jit(vmap(brownian_finite))"
   ]
  },
  {
   "cell_type": "code",
   "execution_count": 11,
   "id": "4fca5efa-a97a-448e-ad97-8d4024088578",
   "metadata": {},
   "outputs": [
    {
     "name": "stdout",
     "output_type": "stream",
     "text": [
      "CPU times: user 1.83 s, sys: 396 ms, total: 2.23 s\n",
      "Wall time: 1.12 s\n"
     ]
    }
   ],
   "source": [
    "%time x_T, _ = brownian_finite(x_init, subkeys)"
   ]
  },
  {
   "cell_type": "markdown",
   "id": "217f98f0-0746-40c4-b770-bd47017e03d9",
   "metadata": {},
   "source": [
    "4. sample brownian motion with a finite-time horizon with scan"
   ]
  },
  {
   "cell_type": "code",
   "execution_count": 12,
   "id": "1d4aa6c0-51ce-4eec-ab48-74ef7c727c82",
   "metadata": {},
   "outputs": [],
   "source": [
    "def body_fn_scan(state, x):\n",
    "    state = apply_fn(state)\n",
    "    return state, state[0]\n",
    "    #return state, None\n",
    "\n",
    "def simulate_brownian_finite(x_init, key):\n",
    "    return lax.scan(body_fn_scan, init=(x_init, key), xs=None, length=N)\n",
    "\n",
    "simulate_brownian_finite = jit(vmap(simulate_brownian_finite))"
   ]
  },
  {
   "cell_type": "code",
   "execution_count": 13,
   "id": "f74bb2df-fe5c-4b07-a3ea-24bde63304db",
   "metadata": {},
   "outputs": [
    {
     "name": "stdout",
     "output_type": "stream",
     "text": [
      "CPU times: user 2 s, sys: 382 ms, total: 2.38 s\n",
      "Wall time: 1.19 s\n"
     ]
    }
   ],
   "source": [
    "%time (x_T, key), x = simulate_brownian_finite(x_init, subkeys)"
   ]
  },
  {
   "cell_type": "code",
   "execution_count": 13,
   "id": "52ec2c85-d809-4f2a-920d-cdbee36f5bcf",
   "metadata": {},
   "outputs": [],
   "source": [
    "#x_T"
   ]
  },
  {
   "cell_type": "code",
   "execution_count": null,
   "id": "fe1e7f37-60f7-4617-8ad0-4b9ebd4cc0d8",
   "metadata": {},
   "outputs": [],
   "source": []
  }
 ],
 "metadata": {
  "kernelspec": {
   "display_name": "Python 3 (ipykernel)",
   "language": "python",
   "name": "python3"
  },
  "language_info": {
   "codemirror_mode": {
    "name": "ipython",
    "version": 3
   },
   "file_extension": ".py",
   "mimetype": "text/x-python",
   "name": "python",
   "nbconvert_exporter": "python",
   "pygments_lexer": "ipython3",
   "version": "3.11.2"
  }
 },
 "nbformat": 4,
 "nbformat_minor": 5
}
