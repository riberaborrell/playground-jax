{
 "cells": [
  {
   "cell_type": "code",
   "execution_count": 5,
   "id": "1d501cd1",
   "metadata": {},
   "outputs": [],
   "source": [
    "from time import time \n",
    "\n",
    "import jax.lax as lax\n",
    "import jax.numpy as jnp\n",
    "import jax.random as random\n",
    "from jax import grad, value_and_grad, vmap, jit\n",
    "import equinox as eqx\n",
    "import optax\n",
    "import matplotlib.pyplot as plt\n",
    "\n",
    "from playground_jax.models_equinox import *"
   ]
  },
  {
   "cell_type": "code",
   "execution_count": 6,
   "id": "2b73a17a-5615-44af-8eb0-5ccce5130bfa",
   "metadata": {},
   "outputs": [],
   "source": [
    "# set a random key\n",
    "key = random.PRNGKey(seed=1)"
   ]
  },
  {
   "cell_type": "code",
   "execution_count": 3,
   "id": "38e79748-2591-4a07-b29e-31f23e80817a",
   "metadata": {},
   "outputs": [],
   "source": [
    "# parameters\n",
    "d = 1\n",
    "dt = 0.01\n",
    "K = 100\n",
    "N = 100\n",
    "x_init = 0 * jnp.ones((K, d))\n",
    "r_lim = 1"
   ]
  },
  {
   "cell_type": "markdown",
   "id": "d8eb68d6",
   "metadata": {},
   "source": [
    "1. Build a model"
   ]
  },
  {
   "cell_type": "code",
   "execution_count": 7,
   "id": "e90ea5cc",
   "metadata": {},
   "outputs": [],
   "source": [
    "# model\n",
    "key, subkey = random.split(key)\n",
    "model = MLP_4layers(d_in=d, d_out=d, d_hidden=[32, 32, 32], key=subkey)\n",
    "\n",
    "# evaluation data\n",
    "x = jnp.expand_dims(jnp.linspace(-1, 1, 101), axis=-1)\n",
    "y_init = vmap(model)(x)"
   ]
  },
  {
   "cell_type": "markdown",
   "id": "a2c0d55c",
   "metadata": {},
   "source": [
    "2. Define optimization routine "
   ]
  },
  {
   "cell_type": "code",
   "execution_count": 8,
   "id": "a08fcf5f-8816-49af-aa0f-ddbb18e27d38",
   "metadata": {},
   "outputs": [],
   "source": [
    "lr = 1e-2\n",
    "opt = optax.adam(learning_rate=lr)\n",
    "opt_state = opt.init(model)"
   ]
  },
  {
   "cell_type": "markdown",
   "id": "5286dcdd",
   "metadata": {},
   "source": [
    "3. Define loss"
   ]
  },
  {
   "cell_type": "code",
   "execution_count": null,
   "id": "2200dd35-a630-485f-b91c-5dcd3bae4871",
   "metadata": {},
   "outputs": [],
   "source": []
  },
  {
   "cell_type": "code",
   "execution_count": 9,
   "id": "f33a60f6-e3cb-4e80-a86e-6d27eb79f814",
   "metadata": {},
   "outputs": [],
   "source": [
    "def loss_fn(model, key):\n",
    "\n",
    "    def apply_fn(state):\n",
    "    \n",
    "        # unpack values\n",
    "        xt, det_int, key = state\n",
    "        d = xt.shape[0]\n",
    "\n",
    "        # brownian motion\n",
    "        key, subkey = random.split(key)\n",
    "        eta = random.normal(key, (d,))     \n",
    "\n",
    "        # sde update\n",
    "        xt = xt + jnp.sqrt(dt) * eta\n",
    "\n",
    "        # det girsanov integral\n",
    "        u = model(xt)\n",
    "        det_int = det_int + (jnp.linalg.norm(u) ** 2) * dt\n",
    "    \n",
    "        return xt, det_int, key\n",
    "\n",
    "    def body_fn_loop(i, state):\n",
    "        return apply_fn(state)\n",
    "\n",
    "    def sample_fn_loop(x_init, key):\n",
    "        return lax.fori_loop(0, N, body_fn_loop, (x_init, 0., key))\n",
    "\n",
    "    def body_fn_scan(state, x):\n",
    "        state = apply_fn(state)\n",
    "        return state, None\n",
    "\n",
    "    def sample_fn_scan(x_init, key):\n",
    "        return lax.scan(body_fn_scan, init=(x_init, 0., key), xs=None, length=N)\n",
    "        \n",
    "    #sample_fn_loop = vmap(sample_fn_loop, in_axes=(0, 0), out_axes=0)\n",
    "    sample_fn_scan = vmap(sample_fn_scan, in_axes=(0, 0), out_axes=0)        \n",
    "    subkeys = random.split(key, K)\n",
    "    #xt, det_int, key = sample_fn_loop(x_init, subkeys)\n",
    "    (xt, det_int, key), _ = sample_fn_scan(x_init, subkeys)\n",
    "    return det_int.mean(), (xt, key)\n",
    "\n",
    "loss_fn = jit(loss_fn)"
   ]
  },
  {
   "cell_type": "markdown",
   "id": "e6178390-c8b8-4e5a-945b-d93cf9f69229",
   "metadata": {},
   "source": [
    "4. Update function"
   ]
  },
  {
   "cell_type": "code",
   "execution_count": 10,
   "id": "c054a7b2-ec18-4499-9194-b5db40b0d703",
   "metadata": {},
   "outputs": [],
   "source": [
    "@jit\n",
    "def update_fn(model, opt_state, key):\n",
    "    \n",
    "    # compute gradients and loss value\n",
    "    (loss, data), grads = value_and_grad(loss_fn, has_aux=True)(model, key)\n",
    "\n",
    "    # optimizer upate\n",
    "    updates, opt_state = opt.update(grads, opt_state)\n",
    "    model = optax.apply_updates(model, updates)\n",
    "    return loss, model, opt_state"
   ]
  },
  {
   "cell_type": "markdown",
   "id": "5b79cc9f",
   "metadata": {},
   "source": [
    "5. Train"
   ]
  },
  {
   "cell_type": "code",
   "execution_count": 11,
   "id": "fb869039-1263-463f-9d85-0317571efc04",
   "metadata": {},
   "outputs": [
    {
     "name": "stdout",
     "output_type": "stream",
     "text": [
      "it: 0, loss: 9.103e-02, time: 0.7123s\n"
     ]
    }
   ],
   "source": [
    "n_iter = int(1e1)\n",
    "log_period_iter = int(1e1)\n",
    "for i in range(n_iter):\n",
    "    t0 = time()\n",
    "    loss, model, opt_state = update_fn(model, opt_state, key)\n",
    "    t1 = time()\n",
    "    if i % log_period_iter == 0: \n",
    "        print('it: {:d}, loss: {:.3e}, time: {:.4f}s'.format(i, loss, t1-t0))"
   ]
  },
  {
   "cell_type": "markdown",
   "id": "d93b7e61",
   "metadata": {},
   "source": [
    "6. Evaluate"
   ]
  },
  {
   "cell_type": "code",
   "execution_count": 54,
   "id": "48234a0f",
   "metadata": {},
   "outputs": [
    {
     "data": {
      "text/plain": [
       "[<matplotlib.lines.Line2D at 0x7f92e8f81350>]"
      ]
     },
     "execution_count": 54,
     "metadata": {},
     "output_type": "execute_result"
    },
    {
     "data": {
      "image/png": "[encoded data removed]",
      "text/plain": [
       "<Figure size 640x480 with 1 Axes>"
      ]
     },
     "metadata": {},
     "output_type": "display_data"
    }
   ],
   "source": [
    "y_final = vmap(model)(x)\n",
    "fig, ax = plt.subplots()\n",
    "ax.plot(x, y_init)\n",
    "ax.plot(x, y_final)"
   ]
  },
  {
   "cell_type": "code",
   "execution_count": null,
   "id": "e8671a2c-44ed-4d88-8015-41cf8d584bc1",
   "metadata": {},
   "outputs": [],
   "source": []
  }
 ],
 "metadata": {
  "kernelspec": {
   "display_name": "Python 3 (ipykernel)",
   "language": "python",
   "name": "python3"
  },
  "language_info": {
   "codemirror_mode": {
    "name": "ipython",
    "version": 3
   },
   "file_extension": ".py",
   "mimetype": "text/x-python",
   "name": "python",
   "nbconvert_exporter": "python",
   "pygments_lexer": "ipython3",
   "version": "3.11.2"
  }
 },
 "nbformat": 4,
 "nbformat_minor": 5
}
