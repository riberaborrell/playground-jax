{
 "cells": [
  {
   "cell_type": "code",
   "execution_count": 1,
   "id": "4a6f0ff2",
   "metadata": {},
   "outputs": [],
   "source": [
    "import sys; sys.path.append('../../src/playground_jax')\n",
    "\n",
    "from jax import numpy as jnp, random\n",
    "from jax import vmap\n",
    "from jax.tree_util import tree_map\n",
    "from flax import linen as nn\n",
    "import matplotlib.pyplot as plt\n",
    "\n",
    "from models_flax import *"
   ]
  },
  {
   "cell_type": "code",
   "execution_count": 2,
   "id": "0a694a89-819e-4083-9d9e-641a33639685",
   "metadata": {},
   "outputs": [],
   "source": [
    "# set a random key\n",
    "key = random.PRNGKey(1)"
   ]
  },
  {
   "cell_type": "markdown",
   "id": "0eaad371",
   "metadata": {},
   "source": [
    "1. Gaussian model"
   ]
  },
  {
   "cell_type": "code",
   "execution_count": 3,
   "id": "afa5ce9e-2d41-4c5a-a170-f6d39bbf3277",
   "metadata": {},
   "outputs": [],
   "source": [
    "# define model\n",
    "d_in = 1\n",
    "n_gauss = 10\n",
    "means = jnp.linspace(-2, 2, n_gauss).reshape(n_gauss, d_in)\n",
    "sigma = 1.\n",
    "cov = sigma * jnp.eye(d_in)\n",
    "sigma_i = jnp.diagonal(cov)\n",
    "\n",
    "model = GaussianAnsatz(means, cov)"
   ]
  },
  {
   "cell_type": "code",
   "execution_count": 4,
   "id": "d75677a4-43ae-436f-9752-fe8b50c80f2e",
   "metadata": {},
   "outputs": [
    {
     "data": {
      "text/plain": [
       "{'params': {'Dense_0': {'kernel': (10, 1)}}}"
      ]
     },
     "execution_count": 4,
     "metadata": {},
     "output_type": "execute_result"
    }
   ],
   "source": [
    "# initialize variables\n",
    "key, split = random.split(key)\n",
    "input = jnp.ones(d_in)\n",
    "params = model.init(key, input)\n",
    "tree_map(lambda x: x.shape, params)\n",
    "#params"
   ]
  },
  {
   "cell_type": "code",
   "execution_count": 6,
   "id": "785de829-efcd-4e4c-ad6f-81f442006e6a",
   "metadata": {},
   "outputs": [
    {
     "data": {
      "text/plain": [
       "(1000, 1)"
      ]
     },
     "execution_count": 6,
     "metadata": {},
     "output_type": "execute_result"
    }
   ],
   "source": [
    "# evaluate model\n",
    "batch_size = int(1e3)\n",
    "input = random.normal(key, (batch_size, d_in), jnp.float32) \n",
    "#model.apply(params, input[0]).shape\n",
    "vmap(model.apply, in_axes=(None, 0))(params, input).shape"
   ]
  },
  {
   "cell_type": "code",
   "execution_count": null,
   "id": "44023086-a730-4cca-89c5-29ce1c5b31c1",
   "metadata": {},
   "outputs": [],
   "source": []
  }
 ],
 "metadata": {
  "kernelspec": {
   "display_name": "Python 3 (ipykernel)",
   "language": "python",
   "name": "python3"
  },
  "language_info": {
   "codemirror_mode": {
    "name": "ipython",
    "version": 3
   },
   "file_extension": ".py",
   "mimetype": "text/x-python",
   "name": "python",
   "nbconvert_exporter": "python",
   "pygments_lexer": "ipython3",
   "version": "3.11.2"
  }
 },
 "nbformat": 4,
 "nbformat_minor": 5
}
