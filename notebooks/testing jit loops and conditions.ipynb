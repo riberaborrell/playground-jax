{
 "cells": [
  {
   "cell_type": "code",
   "execution_count": 96,
   "id": "caf7dd92",
   "metadata": {},
   "outputs": [],
   "source": [
    "import jax\n",
    "import jax.numpy as jnp\n",
    "from jax import jit\n",
    "import jax.lax as lax\n",
    "from jax import make_jaxpr"
   ]
  },
  {
   "cell_type": "code",
   "execution_count": 97,
   "id": "f02611d2-adaf-461f-85fc-dafd5d464c3b",
   "metadata": {},
   "outputs": [],
   "source": [
    "def func(x, y):\n",
    "    #return x if x.sum() < y.sum() else y # leads to TracerBoolConversionError\n",
    "    return jnp.where(x.sum() < y.sum(), x, y) # workaround: use whre"
   ]
  },
  {
   "cell_type": "code",
   "execution_count": 98,
   "id": "9da2fbe6-7a60-4d41-8fce-70ad2218d3e0",
   "metadata": {},
   "outputs": [
    {
     "data": {
      "text/plain": [
       "Array([0, 0, 0], dtype=int32)"
      ]
     },
     "execution_count": 98,
     "metadata": {},
     "output_type": "execute_result"
    }
   ],
   "source": [
    "x, y = jnp.array([1, 2, 3]), jnp.array([0])\n",
    "jit(func)(x, y)\n",
    "#make_jaxpr(func)(x, y)"
   ]
  },
  {
   "cell_type": "code",
   "execution_count": 99,
   "id": "b062ba6e-0dcb-4b85-9965-0cee47eef11c",
   "metadata": {},
   "outputs": [],
   "source": [
    "def func(i, x):\n",
    "  return x + i\n",
    "\n",
    "def simulate_finite_time(x):\n",
    "    trajectory = []\n",
    "    for i in range(10):\n",
    "        x = func(i, x)\n",
    "        trajectory.append(x)\n",
    "    return jnp.array(trajectory)"
   ]
  },
  {
   "cell_type": "code",
   "execution_count": 100,
   "id": "274077be-a4d3-4874-95af-a20a2bbef85b",
   "metadata": {},
   "outputs": [
    {
     "data": {
      "text/plain": [
       "Array(35, dtype=int32, weak_type=True)"
      ]
     },
     "execution_count": 100,
     "metadata": {},
     "output_type": "execute_result"
    }
   ],
   "source": [
    "#jit(simulate_finite_time)(-10)\n",
    "#make_jaxpr(simulate_finite_time)(0)\n",
    "lax.fori_loop(lower=0, upper=10, body_fun=func, init_val=-10)"
   ]
  },
  {
   "cell_type": "code",
   "execution_count": 101,
   "id": "89c2392b-fabf-4ac3-b2ce-556b33d91ddc",
   "metadata": {},
   "outputs": [],
   "source": [
    "def simulate_fht2(x):\n",
    "    trajectory = []\n",
    "    i = 0\n",
    "    while x != 5:\n",
    "        x = x + i\n",
    "        trajectory.append(x)\n",
    "        i = i + 1\n",
    "    return jnp.array(trajectory)"
   ]
  },
  {
   "cell_type": "code",
   "execution_count": 106,
   "id": "d693078e-043b-4de6-80e3-f29701282c8e",
   "metadata": {},
   "outputs": [
    {
     "data": {
      "text/plain": [
       "Array([-5, -4, -2,  1,  5], dtype=int32)"
      ]
     },
     "execution_count": 106,
     "metadata": {},
     "output_type": "execute_result"
    }
   ],
   "source": [
    "simulate_fht2(-5)\n",
    "#jit(simulate_fht2)(2)"
   ]
  },
  {
   "cell_type": "code",
   "execution_count": 108,
   "id": "48106c59-b624-436c-b205-17fac57a37a5",
   "metadata": {},
   "outputs": [],
   "source": [
    "def body_fun(carry):\n",
    "  i, x = carry\n",
    "  return i + 1, func(i, x)\n",
    "    \n",
    "def cond_fun(carry):\n",
    "  i, x = carry\n",
    "  break_condition = (x == 5)\n",
    "  return ~break_condition & (i < 10)"
   ]
  },
  {
   "cell_type": "code",
   "execution_count": 109,
   "id": "f6f37ef1-1f47-4a25-aead-1f92be4e43b8",
   "metadata": {},
   "outputs": [
    {
     "data": {
      "text/plain": [
       "(Array(5, dtype=int32, weak_type=True), Array(5, dtype=int32, weak_type=True))"
      ]
     },
     "execution_count": 109,
     "metadata": {},
     "output_type": "execute_result"
    }
   ],
   "source": [
    "lax.while_loop(cond_fun, body_fun, init_val=(0, -5))"
   ]
  },
  {
   "cell_type": "code",
   "execution_count": null,
   "id": "1c394fb0-e7fc-40f0-9bce-d2ee983aaddf",
   "metadata": {},
   "outputs": [],
   "source": []
  }
 ],
 "metadata": {
  "kernelspec": {
   "display_name": "Python 3 (ipykernel)",
   "language": "python",
   "name": "python3"
  },
  "language_info": {
   "codemirror_mode": {
    "name": "ipython",
    "version": 3
   },
   "file_extension": ".py",
   "mimetype": "text/x-python",
   "name": "python",
   "nbconvert_exporter": "python",
   "pygments_lexer": "ipython3",
   "version": "3.11.2"
  }
 },
 "nbformat": 4,
 "nbformat_minor": 5
}
