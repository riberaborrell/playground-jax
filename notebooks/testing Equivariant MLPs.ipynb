{
 "cells": [
  {
   "cell_type": "code",
   "execution_count": 2,
   "id": "61804b95-71bd-4f24-abe0-08eb7157682f",
   "metadata": {},
   "outputs": [
    {
     "name": "stderr",
     "output_type": "stream",
     "text": [
      "/home/bzfborre/Dokumente/packages/playground-jax/venv/lib/python3.11/site-packages/tqdm/auto.py:21: TqdmWarning: IProgress not found. Please update jupyter and ipywidgets. See https://ipywidgets.readthedocs.io/en/stable/user_install.html\n",
      "  from .autonotebook import tqdm as notebook_tqdm\n"
     ]
    }
   ],
   "source": [
    "from emlp.reps import V, T\n",
    "from emlp.groups import SO\n",
    "import emlp.nn.flax as nn\n",
    "from jax import numpy as jnp, random, tree_util\n",
    "import numpy as np"
   ]
  },
  {
   "cell_type": "code",
   "execution_count": 3,
   "id": "881c988f-c3a7-4c9f-91ef-51aaafe68ee1",
   "metadata": {},
   "outputs": [],
   "source": [
    "# create key\n",
    "key = random.PRNGKey(0)"
   ]
  },
  {
   "cell_type": "code",
   "execution_count": null,
   "id": "bc8978d8-2e85-47e2-9d2d-1e811c6ebfe3",
   "metadata": {},
   "outputs": [],
   "source": [
    "# vector value MLP"
   ]
  },
  {
   "cell_type": "code",
   "execution_count": 4,
   "id": "bdf3caa7-7c7b-4cfd-a855-b17d8e18333d",
   "metadata": {},
   "outputs": [
    {
     "data": {
      "text/plain": [
       "((V+V+V+V), (V+V+V+V), SO(3))"
      ]
     },
     "execution_count": 4,
     "metadata": {},
     "output_type": "execute_result"
    }
   ],
   "source": [
    "# representation base\n",
    "repin = 4 * V\n",
    "repout = 4 * V\n",
    "\n",
    "# special orthogonal group (3d rotations)\n",
    "G = SO(3)\n",
    "repin, repout, G"
   ]
  },
  {
   "cell_type": "code",
   "execution_count": 5,
   "id": "a3a60460-e043-4c71-a554-d1e5defa5ca3",
   "metadata": {},
   "outputs": [],
   "source": [
    "# define model\n",
    "model = nn.EMLP(repin, repout, G, ch=[32, 16, 8])\n",
    "\n",
    "# initialize parameters\n",
    "key, subkey = random.split(key)\n",
    "params = model.init(subkey, jnp.ones(repin(G).size()))"
   ]
  },
  {
   "cell_type": "code",
   "execution_count": 6,
   "id": "855f11aa-002c-42e9-b07a-6e8fb7aa9013",
   "metadata": {},
   "outputs": [],
   "source": [
    "batch_size = 10\n",
    "x = np.random.randn(batch_size, repin(G).size()) # generate some random data\n",
    "y = model.apply(params,  x) # Forward pass with inputs x and parameters"
   ]
  },
  {
   "cell_type": "code",
   "execution_count": 7,
   "id": "410d42b2-01c2-46a7-a795-3331ff2734ca",
   "metadata": {},
   "outputs": [
    {
     "data": {
      "text/plain": [
       "((10, 12), (10, 12))"
      ]
     },
     "execution_count": 7,
     "metadata": {},
     "output_type": "execute_result"
    }
   ],
   "source": [
    "x.shape, y.shape"
   ]
  },
  {
   "cell_type": "code",
   "execution_count": 8,
   "id": "260cb30b-45b9-465d-9493-d29c2176db40",
   "metadata": {},
   "outputs": [
    {
     "data": {
      "text/plain": [
       "{'params': {'modules_0': {'bilinear': {'w': (369,)},\n",
       "   'linear': {'b': (36,), 'w': (36, 12)}},\n",
       "  'modules_1': {'bilinear': {'w': (96,)},\n",
       "   'linear': {'b': (18,), 'w': (18, 32)}},\n",
       "  'modules_2': {'bilinear': {'w': (12,)}, 'linear': {'b': (9,), 'w': (9, 16)}},\n",
       "  'modules_3': {'b': (12,), 'w': (12, 8)}}}"
      ]
     },
     "execution_count": 8,
     "metadata": {},
     "output_type": "execute_result"
    }
   ],
   "source": [
    "# check shapes\n",
    "tree_util.tree_map(lambda x: x.shape, params)"
   ]
  },
  {
   "cell_type": "code",
   "execution_count": null,
   "id": "3304cca6-b540-4a91-b007-09c72f6169df",
   "metadata": {},
   "outputs": [],
   "source": []
  }
 ],
 "metadata": {
  "kernelspec": {
   "display_name": "Python 3 (ipykernel)",
   "language": "python",
   "name": "python3"
  },
  "language_info": {
   "codemirror_mode": {
    "name": "ipython",
    "version": 3
   },
   "file_extension": ".py",
   "mimetype": "text/x-python",
   "name": "python",
   "nbconvert_exporter": "python",
   "pygments_lexer": "ipython3",
   "version": "3.11.2"
  }
 },
 "nbformat": 4,
 "nbformat_minor": 5
}
