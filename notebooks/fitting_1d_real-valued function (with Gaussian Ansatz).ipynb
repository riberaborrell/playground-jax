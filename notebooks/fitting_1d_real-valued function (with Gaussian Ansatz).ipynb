{
 "cells": [
  {
   "cell_type": "code",
   "execution_count": 1,
   "id": "4a6f0ff2",
   "metadata": {},
   "outputs": [],
   "source": [
    "import sys; sys.path.append('../../src/playground_jax')\n",
    "from time import time\n",
    "\n",
    "from jax import numpy as jnp, random, nn\n",
    "from jax import grad, value_and_grad, vmap, jit\n",
    "from jax.tree_util import tree_map\n",
    "from jaxtyping import Array, PyTree\n",
    "import flax\n",
    "import optax\n",
    "import matplotlib.pyplot as plt\n",
    "\n",
    "from models_flax import *"
   ]
  },
  {
   "cell_type": "markdown",
   "id": "b982a2b8",
   "metadata": {},
   "source": [
    "Goal: fit a scalar real-valued funciton\n",
    "$ f: D \\subset \\mathbb{R} \\rightarrow \\mathbb{R}$"
   ]
  },
  {
   "cell_type": "markdown",
   "id": "cef737c3-0a69-4e64-ad7b-20e4d766f302",
   "metadata": {},
   "source": [
    "1. Generate training data"
   ]
  },
  {
   "cell_type": "code",
   "execution_count": 2,
   "id": "4cd3990d",
   "metadata": {},
   "outputs": [
    {
     "data": {
      "image/png": "[encoded data removed]",
      "text/plain": [
       "<Figure size 640x480 with 1 Axes>"
      ]
     },
     "metadata": {},
     "output_type": "display_data"
    }
   ],
   "source": [
    "N = 101\n",
    "x = jnp.expand_dims(jnp.linspace(-2, 2, N), axis=-1)\n",
    "y = jnp.exp(-(x - 1)**2)\n",
    "fig, ax = plt.subplots()\n",
    "ax.plot(x, y)\n",
    "plt.show()"
   ]
  },
  {
   "cell_type": "markdown",
   "id": "0eaad371",
   "metadata": {},
   "source": [
    "2. build a model"
   ]
  },
  {
   "cell_type": "code",
   "execution_count": 3,
   "id": "afa5ce9e-2d41-4c5a-a170-f6d39bbf3277",
   "metadata": {},
   "outputs": [
    {
     "data": {
      "text/plain": [
       "{'params': {'Dense_0': {'kernel': (6, 1)}}}"
      ]
     },
     "execution_count": 3,
     "metadata": {},
     "output_type": "execute_result"
    }
   ],
   "source": [
    "# set a random key\n",
    "key = random.PRNGKey(1)\n",
    "\n",
    "# define model\n",
    "d_in = 1\n",
    "n_gauss = 6\n",
    "means = jnp.linspace(-2, 2, n_gauss).reshape(n_gauss, d_in)\n",
    "sigma = 1.\n",
    "cov = sigma * jnp.eye(d_in)\n",
    "sigma_i = jnp.diagonal(cov)\n",
    "\n",
    "model = GaussianAnsatz(means, cov)\n",
    "\n",
    "# initialize variables\n",
    "key, split = random.split(key)\n",
    "input = jnp.ones(d_in)\n",
    "params = model.init(key, input)\n",
    "tree_map(lambda x: x.shape, params)\n",
    "#params"
   ]
  },
  {
   "cell_type": "code",
   "execution_count": 4,
   "id": "785de829-efcd-4e4c-ad6f-81f442006e6a",
   "metadata": {},
   "outputs": [
    {
     "data": {
      "text/plain": [
       "(1000, 1)"
      ]
     },
     "execution_count": 4,
     "metadata": {},
     "output_type": "execute_result"
    }
   ],
   "source": [
    "# evaluate model\n",
    "batch_size = int(1e3)\n",
    "input = random.normal(key, (batch_size, d_in), jnp.float32) \n",
    "vmap(model.apply, in_axes=(None, 0))(params, input).shape"
   ]
  },
  {
   "cell_type": "markdown",
   "id": "88da9a49-5d63-4466-99c5-3170f6837852",
   "metadata": {},
   "source": [
    "3. Define loss (mean square error loss)"
   ]
  },
  {
   "cell_type": "code",
   "execution_count": 5,
   "id": "c547d169-7c22-4d0f-b248-619f3746f206",
   "metadata": {},
   "outputs": [],
   "source": [
    "@jit\n",
    "def loss_fn(params: flax.core.frozen_dict.FrozenDict, x, y):\n",
    "    pred_y = vmap(model.apply, in_axes=(None, 0))(params, x)\n",
    "    return jnp.mean((y - pred_y) ** 2)"
   ]
  },
  {
   "cell_type": "markdown",
   "id": "a2fd02d2-2396-48f9-8419-61b42162d670",
   "metadata": {},
   "source": [
    "4. Choose optimizer"
   ]
  },
  {
   "cell_type": "code",
   "execution_count": 6,
   "id": "d650a7ef-e8f2-48f6-a562-a244d4cca356",
   "metadata": {},
   "outputs": [],
   "source": [
    "lr = 1e-1\n",
    "wd = 1e-5\n",
    "\n",
    "# using optax\n",
    "opt = optax.adamw(learning_rate=lr, weight_decay=wd)\n",
    "opt_state = opt.init(params)"
   ]
  },
  {
   "cell_type": "markdown",
   "id": "cec7b980-0ad7-4f77-8f57-591b2d39ed99",
   "metadata": {},
   "source": [
    "5. Update function"
   ]
  },
  {
   "cell_type": "code",
   "execution_count": 7,
   "id": "970faa2f-5cd5-480b-8c98-7d634fe7f85f",
   "metadata": {},
   "outputs": [],
   "source": [
    "@jit\n",
    "def update_fn(params, opt_state: PyTree, x: Array, y: Array):\n",
    "    \n",
    "    # compute gradients and loss value\n",
    "    loss, grads = value_and_grad(loss_fn)(params, x, y)\n",
    "    print(grads)\n",
    "\n",
    "    # optimizer upate\n",
    "    updates, opt_state = opt.update(grads, opt_state, params)\n",
    "    params = optax.apply_updates(params, updates)\n",
    "    return loss, params, opt_state"
   ]
  },
  {
   "cell_type": "code",
   "execution_count": 8,
   "id": "0d620d6d-8ad0-4dc3-b1c2-b99b7d1f851f",
   "metadata": {},
   "outputs": [
    {
     "data": {
      "text/plain": [
       "((101, 1), (101, 1))"
      ]
     },
     "execution_count": 8,
     "metadata": {},
     "output_type": "execute_result"
    }
   ],
   "source": [
    "x.shape, y.shape"
   ]
  },
  {
   "cell_type": "markdown",
   "id": "a9da0611-e42d-4ad2-b050-aa01864ef668",
   "metadata": {},
   "source": [
    "6. Train"
   ]
  },
  {
   "cell_type": "code",
   "execution_count": 9,
   "id": "883d904b-7aee-4bcb-ae28-9d002fcf6a6c",
   "metadata": {},
   "outputs": [
    {
     "name": "stdout",
     "output_type": "stream",
     "text": [
      "{'params': {'Dense_0': {'kernel': Traced<ShapedArray(float32[6,1])>with<DynamicJaxprTrace(level=1/0)>}}}\n",
      "it: 0, loss: 3.704e-01, time: 0.0702s\n",
      "it: 1000, loss: 1.958e-04, time: 0.0000s\n",
      "it: 2000, loss: 1.546e-04, time: 0.0000s\n",
      "it: 3000, loss: 1.262e-04, time: 0.0000s\n",
      "it: 4000, loss: 1.155e-04, time: 0.0000s\n",
      "it: 5000, loss: 1.080e-04, time: 0.0000s\n",
      "it: 6000, loss: 1.074e-04, time: 0.0000s\n",
      "it: 7000, loss: 1.073e-04, time: 0.0000s\n",
      "it: 8000, loss: 1.073e-04, time: 0.0000s\n",
      "it: 9000, loss: 1.073e-04, time: 0.0000s\n"
     ]
    }
   ],
   "source": [
    "n_iter = int(1e4)\n",
    "log_period_iter = int(1e3)\n",
    "for i in range(n_iter):\n",
    "    t0 = time()\n",
    "    loss, params, opt_state = update_fn(params, opt_state, x, y)\n",
    "    t1 = time()\n",
    "    if i % log_period_iter  == 0: \n",
    "        print('it: {:d}, loss: {:.3e}, time: {:.4f}s'.format(i, loss, t1-t0))"
   ]
  },
  {
   "cell_type": "markdown",
   "id": "cd381077-b036-4e2e-afa4-9c5921d9ffcd",
   "metadata": {},
   "source": [
    "7. Evaluate results"
   ]
  },
  {
   "cell_type": "code",
   "execution_count": 10,
   "id": "8aaa6580",
   "metadata": {},
   "outputs": [
    {
     "data": {
      "image/png": "[encoded data removed]",
      "text/plain": [
       "<Figure size 640x480 with 1 Axes>"
      ]
     },
     "metadata": {},
     "output_type": "display_data"
    }
   ],
   "source": [
    "#y_pred = model.apply(params, x)\n",
    "y_pred = vmap(model.apply, in_axes=(None, 0))(params, x)\n",
    "fig, ax = plt.subplots()\n",
    "ax.plot(x, y)\n",
    "ax.scatter(x, y_pred, c='orange', marker='.')\n",
    "plt.show()"
   ]
  },
  {
   "cell_type": "code",
   "execution_count": null,
   "id": "9f0197a0-41a2-444f-9d1d-f1e038013c24",
   "metadata": {},
   "outputs": [],
   "source": []
  }
 ],
 "metadata": {
  "kernelspec": {
   "display_name": "Python 3 (ipykernel)",
   "language": "python",
   "name": "python3"
  },
  "language_info": {
   "codemirror_mode": {
    "name": "ipython",
    "version": 3
   },
   "file_extension": ".py",
   "mimetype": "text/x-python",
   "name": "python",
   "nbconvert_exporter": "python",
   "pygments_lexer": "ipython3",
   "version": "3.11.2"
  }
 },
 "nbformat": 4,
 "nbformat_minor": 5
}
