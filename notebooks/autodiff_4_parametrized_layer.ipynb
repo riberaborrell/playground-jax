{
 "cells": [
  {
   "cell_type": "code",
   "execution_count": 9,
   "id": "37011e02",
   "metadata": {},
   "outputs": [],
   "source": [
    "from jax import numpy as jnp, random\n",
    "from jax import grad, jacfwd, jacrev, jit, vmap"
   ]
  },
  {
   "cell_type": "code",
   "execution_count": 10,
   "id": "3a8234da-6265-4d2b-8e45-911591ba4e7b",
   "metadata": {},
   "outputs": [],
   "source": [
    "key = random.PRNGKey(0)"
   ]
  },
  {
   "cell_type": "markdown",
   "id": "79e09c5f",
   "metadata": {},
   "source": [
    "# Linear layers"
   ]
  },
  {
   "cell_type": "markdown",
   "id": "5d0e17bf",
   "metadata": {},
   "source": [
    "#### Real-valued linear layer\n",
    "$f: \\mathbb{R}^n \\times \\mathbb{R}^p \\rightarrow \\mathbb{R}$, $x \\mapsto x^T W + b^T$ , $W \\in \\mathbb{R}^{n}, b \\in \\mathbb{R}$  "
   ]
  },
  {
   "cell_type": "code",
   "execution_count": 11,
   "id": "ff05ccbc-4e93-4430-9b5d-7c6a32336d2d",
   "metadata": {},
   "outputs": [],
   "source": [
    "# input and output dimensions\n",
    "d_input = 3\n",
    "d_output = 1"
   ]
  },
  {
   "cell_type": "markdown",
   "id": "53c52eef-39c8-42a1-a18d-3da165c8d2f7",
   "metadata": {},
   "source": [
    "1. No batch"
   ]
  },
  {
   "cell_type": "code",
   "execution_count": 12,
   "id": "ea86d462",
   "metadata": {},
   "outputs": [],
   "source": [
    "def layer(x, W, b):\n",
    "    return jnp.dot(x, W) + b\n",
    "\n",
    "def grad_layer(x, W, b):\n",
    "    return grad(layer,  argnums=(1, 2))(x, W, b)"
   ]
  },
  {
   "cell_type": "code",
   "execution_count": 13,
   "id": "94265068",
   "metadata": {},
   "outputs": [
    {
     "name": "stdout",
     "output_type": "stream",
     "text": [
      "1.2867186\n",
      "[ True  True  True]\n",
      "True\n"
     ]
    }
   ],
   "source": [
    "# initialize layer input\n",
    "x = random.normal(key, (d_input,))\n",
    "\n",
    "# initialize layer coefficients\n",
    "key, W_key, b_key = random.split(key, 3)\n",
    "W = random.normal(W_key, (d_input,))\n",
    "b = random.normal(b_key, ())\n",
    "\n",
    "# evaluate y\n",
    "y = layer(x, W, b)\n",
    "print(y)\n",
    "\n",
    "# evaluate gradient\n",
    "W_grad_y, b_grad_y = grad_layer(x, W, b)\n",
    "print(W_grad_y == x)\n",
    "print(b_grad_y == 1)"
   ]
  },
  {
   "cell_type": "code",
   "execution_count": 75,
   "id": "514cb14a-eb82-4014-81c5-40f6f4cfb7c7",
   "metadata": {},
   "outputs": [
    {
     "data": {
      "text/plain": [
       "2"
      ]
     },
     "execution_count": 75,
     "metadata": {},
     "output_type": "execute_result"
    }
   ],
   "source": [
    "#y\n",
    "#x, W_grad_y, b_grad_y\n",
    "len(grad_layer(x, W, b))"
   ]
  },
  {
   "cell_type": "markdown",
   "id": "0ba4e558",
   "metadata": {},
   "source": [
    "2. With batch"
   ]
  },
  {
   "cell_type": "code",
   "execution_count": 5,
   "id": "009a5612",
   "metadata": {},
   "outputs": [],
   "source": [
    "def layer_batch(inputs, W, b):\n",
    "    return vmap(layer, in_axes=(0, None, None), out_axes=0)(inputs, W, b)\n",
    "\n",
    "def grad_layer_batch(inputs, W, b):\n",
    "    return vmap(grad_layer, in_axes=(0, None, None), out_axes=None)(inputs, W, b)\n",
    "\n",
    "def grad_layer_batch2(inputs, W, b):\n",
    "    return jacfwd(layer_batch, argnums=(1, 2))(inputs, W, b)"
   ]
  },
  {
   "cell_type": "code",
   "execution_count": 6,
   "id": "c58d9860",
   "metadata": {},
   "outputs": [
    {
     "name": "stdout",
     "output_type": "stream",
     "text": [
      "(10, 1)\n"
     ]
    }
   ],
   "source": [
    "# input, output dimensions and batch size\n",
    "batch_size = 10\n",
    "\n",
    "# initialize layer input\n",
    "inputs = random.normal(key, (batch_size, d_input))\n",
    "\n",
    "# initialize layer coefficients\n",
    "key, W_key, b_key = random.split(key, 3)\n",
    "W = random.normal(W_key, (d_input, d_output))\n",
    "b = random.normal(b_key, (d_output,))\n",
    "\n",
    "# evaluate y\n",
    "y = layer_batch(inputs, W, b)\n",
    "print(y.shape)\n",
    "\n",
    "# evaluate gradient\n",
    "W_grad_y, b_grad_y = grad_layer_batch2(inputs, W, b)\n",
    "W_grad_y = W_grad_y.squeeze()\n",
    "b_grad_y = b_grad_y.squeeze()\n",
    "\n",
    "# check gradient\n",
    "#print((W_grad_y[:, 0] == 2).all())\n",
    "#print((grad_y[:, 1] == 1).all())"
   ]
  },
  {
   "cell_type": "code",
   "execution_count": 105,
   "id": "77ed8f01-972a-4c83-affc-0ed0ad841d00",
   "metadata": {},
   "outputs": [],
   "source": [
    "#inputs, W_grad_y, b_grad_y"
   ]
  },
  {
   "cell_type": "markdown",
   "id": "26b6dcb5",
   "metadata": {},
   "source": [
    "## Vector-valued linear layer\n",
    "$f: \\mathbb{R}^n \\times \\mathbb{R}^m \\rightarrow \\mathbb{R}^p$, $x \\mapsto x^T W + b^T$ , $W \\in \\mathbb{R}^{n \\times m}, b \\in \\mathbb{R}^m$  \n",
    "3. No batch"
   ]
  },
  {
   "cell_type": "code",
   "execution_count": 108,
   "id": "800b3f65-a93d-4d15-a922-59ee84df1bc8",
   "metadata": {},
   "outputs": [],
   "source": [
    "# input and output dimensions\n",
    "d_input = 3\n",
    "d_output = 4"
   ]
  },
  {
   "cell_type": "code",
   "execution_count": 112,
   "id": "efb12cb2",
   "metadata": {},
   "outputs": [],
   "source": [
    "def jac_fwd_layer(x, W, b):\n",
    "    return jacfwd(layer, (1, 2))(x, W, b)\n",
    "\n",
    "def jac_rev_layer(x, W, b):\n",
    "    return jacrev(layer, (1, 2))(x, W, b)"
   ]
  },
  {
   "cell_type": "code",
   "execution_count": 113,
   "id": "2b9a7a8c",
   "metadata": {},
   "outputs": [
    {
     "name": "stdout",
     "output_type": "stream",
     "text": [
      "[-3.2433186   1.4805036  -0.14534098  2.4608994 ]\n",
      "(4, 3, 4)\n",
      "(4, 4)\n"
     ]
    }
   ],
   "source": [
    "# initialize layer input\n",
    "x = random.normal(key, (d_input,))\n",
    "\n",
    "# initialize layer coefficients\n",
    "key, W_key, b_key = random.split(key, 3)\n",
    "W = random.normal(W_key, (d_input, d_output))\n",
    "b = random.normal(b_key, (d_output,))\n",
    "\n",
    "# evaluate y\n",
    "y = layer(x, W, b)\n",
    "print(y)\n",
    "\n",
    "# evaluate jacobian\n",
    "jac_y = jac_fwd_layer(x, W, b) # forward ad\n",
    "#jac_y = jac_rev_layer(x, W, b) # backward ad\n",
    "\n",
    "# check shapes\n",
    "W_jac_y, b_jac_y = jac_y\n",
    "print(W_jac_y.shape)\n",
    "print(b_jac_y.shape)"
   ]
  },
  {
   "cell_type": "code",
   "execution_count": 115,
   "id": "c0c19aa4-b39d-4cb2-acd9-80b98b30bbe9",
   "metadata": {},
   "outputs": [
    {
     "ename": "AttributeError",
     "evalue": "'tuple' object has no attribute 'shape'",
     "output_type": "error",
     "traceback": [
      "\u001b[0;31m---------------------------------------------------------------------------\u001b[0m",
      "\u001b[0;31mAttributeError\u001b[0m                            Traceback (most recent call last)",
      "Cell \u001b[0;32mIn[115], line 1\u001b[0m\n\u001b[0;32m----> 1\u001b[0m \u001b[43mjac_y\u001b[49m\u001b[38;5;241;43m.\u001b[39;49m\u001b[43mshape\u001b[49m\n",
      "\u001b[0;31mAttributeError\u001b[0m: 'tuple' object has no attribute 'shape'"
     ]
    }
   ],
   "source": []
  },
  {
   "cell_type": "markdown",
   "id": "d27e41a5",
   "metadata": {},
   "source": [
    "4. with batch"
   ]
  },
  {
   "cell_type": "code",
   "execution_count": 114,
   "id": "93cb86b9",
   "metadata": {},
   "outputs": [],
   "source": [
    "def jac_fwd_layer_batch(inputs, W, b):\n",
    "    return vmap(jac_fwd_layer, in_axes=(None, None, 0), out_axes=0)(inputs, W, b)\n",
    "\n",
    "#def jac_rev_layer_batch(W, b, inputs):\n",
    "#    return vmap(jac_rev_layer, in_axes=(None, None, 0), out_axes=0)(W, b, inputs)"
   ]
  },
  {
   "cell_type": "code",
   "execution_count": 111,
   "id": "49d9342a",
   "metadata": {},
   "outputs": [
    {
     "name": "stdout",
     "output_type": "stream",
     "text": [
      "(3, 10, 3)\n"
     ]
    },
    {
     "ename": "NameError",
     "evalue": "name 'jac_rev_layer_batch' is not defined",
     "output_type": "error",
     "traceback": [
      "\u001b[0;31m---------------------------------------------------------------------------\u001b[0m",
      "\u001b[0;31mNameError\u001b[0m                                 Traceback (most recent call last)",
      "Cell \u001b[0;32mIn[111], line 17\u001b[0m\n\u001b[1;32m     13\u001b[0m \u001b[38;5;28mprint\u001b[39m(y\u001b[38;5;241m.\u001b[39mshape)\n\u001b[1;32m     15\u001b[0m \u001b[38;5;66;03m# evaluate jacobian\u001b[39;00m\n\u001b[1;32m     16\u001b[0m \u001b[38;5;66;03m#jac_y = jac_fwd_layer_batch(W, b, inputs) # forward ad\u001b[39;00m\n\u001b[0;32m---> 17\u001b[0m jac_y \u001b[38;5;241m=\u001b[39m \u001b[43mjac_rev_layer_batch\u001b[49m(W, b, inputs) \u001b[38;5;66;03m# backward ad\u001b[39;00m\n\u001b[1;32m     18\u001b[0m \u001b[38;5;66;03m#print(jac_y.shape)\u001b[39;00m\n",
      "\u001b[0;31mNameError\u001b[0m: name 'jac_rev_layer_batch' is not defined"
     ]
    }
   ],
   "source": [
    "batch_size = 10\n",
    "\n",
    "# initialize layer input\n",
    "inputs = random.normal(key, (batch_size, d_input))\n",
    "\n",
    "# initialize layer coefficients\n",
    "key, W_key, b_key = random.split(key, 3)\n",
    "W = random.normal(W_key, (d_input, d_output))\n",
    "b = random.normal(b_key, (d_output,))\n",
    "\n",
    "# evaluate y\n",
    "y = layer_batch(W, b, inputs)\n",
    "print(y.shape)\n",
    "\n",
    "# evaluate jacobian\n",
    "#jac_y = jac_fwd_layer_batch(W, b, inputs) # forward ad\n",
    "jac_y = jac_rev_layer_batch(W, b, inputs) # backward ad\n",
    "#print(jac_y.shape)"
   ]
  },
  {
   "cell_type": "code",
   "execution_count": 20,
   "id": "1a0b3933",
   "metadata": {},
   "outputs": [
    {
     "name": "stdout",
     "output_type": "stream",
     "text": [
      "(10, 4, 3, 4)\n",
      "(10, 4, 4)\n"
     ]
    }
   ],
   "source": [
    "# check shapes\n",
    "W_jac_y, b_jac_y = jac_y\n",
    "print(W_jac_y.shape)\n",
    "print(b_jac_y.shape)"
   ]
  },
  {
   "cell_type": "code",
   "execution_count": null,
   "id": "6379bf12",
   "metadata": {},
   "outputs": [],
   "source": []
  }
 ],
 "metadata": {
  "kernelspec": {
   "display_name": "Python 3 (ipykernel)",
   "language": "python",
   "name": "python3"
  },
  "language_info": {
   "codemirror_mode": {
    "name": "ipython",
    "version": 3
   },
   "file_extension": ".py",
   "mimetype": "text/x-python",
   "name": "python",
   "nbconvert_exporter": "python",
   "pygments_lexer": "ipython3",
   "version": "3.11.2"
  }
 },
 "nbformat": 4,
 "nbformat_minor": 5
}
